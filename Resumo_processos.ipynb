{
  "cells": [
    {
      "cell_type": "markdown",
      "metadata": {
        "id": "view-in-github",
        "colab_type": "text"
      },
      "source": [
        "<a href=\"https://colab.research.google.com/github/armandossrecife/mysummary/blob/main/Resumo_processos.ipynb\" target=\"_parent\"><img src=\"https://colab.research.google.com/assets/colab-badge.svg\" alt=\"Open In Colab\"/></a>"
      ]
    },
    {
      "cell_type": "markdown",
      "source": [
        "# Resumo de Fragmentos de Processos usando IA\n",
        "\n",
        "Protótipo para testar resumos de fragmentos de processos\n",
        "\n",
        "Dado um arquivo PDF relativo a um processo público faz o resumo do texto de um *fragmento selecionado neste processo*"
      ],
      "metadata": {
        "id": "UvE3f-_wU0dD"
      }
    },
    {
      "cell_type": "markdown",
      "source": [
        "**Objetivo**: Fazer o uso de uma [LLM](https://pt.wikipedia.org/wiki/Modelos_de_linguagem_de_grande_escala) ([IA Generativa](https://pt.wikipedia.org/wiki/Intelig%C3%AAncia_artificial_generativa): [Google Gemini](https://gemini.google.com)) para resumir fragmentos de processos públicos.\n",
        "\n",
        "**Observação**: o protótipo é apenas um teste de \"prova de conceito\", não foi levado em consideração o método científico para validar o design do protótipo. Além disso, os resultados não foram validados por um especialista (Advogado).\n",
        "\n",
        "Etapas do teste do protótipo:\n",
        "\n",
        "1. Acesso aos processos públicos do STJ via https://processo.stj.jus.br/processo/pesquisa\n",
        "\n",
        "2. Processos acessados: (escolhidos aleatoriamente)\n",
        "- P1 (HABEAS CORPUS No 894602 - SP (2024/0066576-2))\n",
        "- P2 (HABEAS CORPUS No 894601 - SE (2024/0066524-4))\n",
        "- P3 (AGRAVO EM RECURSO ESPECIAL No 2576723 - CE (2024/0064554-2))\n",
        "\n",
        "3. Resultados:\n",
        "- Disponíveis no tópico \"Execução do Protótipo\""
      ],
      "metadata": {
        "id": "SxU7Cug7mKGt"
      }
    },
    {
      "cell_type": "markdown",
      "source": [
        "## Programação do Protótipo (Prova de Conceito)"
      ],
      "metadata": {
        "id": "Wce_Fu2cYljI"
      }
    },
    {
      "cell_type": "markdown",
      "source": [
        "### Código-fonte da Aplicação Base"
      ],
      "metadata": {
        "id": "jggPD7j-ZGFD"
      }
    },
    {
      "cell_type": "code",
      "source": [
        "!pip install -q -U google-generativeai\n",
        "!pip install PyPDF2"
      ],
      "metadata": {
        "colab": {
          "base_uri": "https://localhost:8080/"
        },
        "id": "PM91skaIVBqt",
        "outputId": "0cefc5b2-68ab-4cfb-a295-1442a2177c42"
      },
      "execution_count": 1,
      "outputs": [
        {
          "output_type": "stream",
          "name": "stdout",
          "text": [
            "\u001b[?25l   \u001b[90m━━━━━━━━━━━━━━━━━━━━━━━━━━━━━━━━━━━━━━━━\u001b[0m \u001b[32m0.0/160.8 kB\u001b[0m \u001b[31m?\u001b[0m eta \u001b[36m-:--:--\u001b[0m\r\u001b[2K   \u001b[91m━━━━━━━━━━━━━━━━━━━━━━━━━━━━━━━━━━━━━━\u001b[0m\u001b[90m╺\u001b[0m\u001b[90m━\u001b[0m \u001b[32m153.6/160.8 kB\u001b[0m \u001b[31m8.8 MB/s\u001b[0m eta \u001b[36m0:00:01\u001b[0m\r\u001b[2K   \u001b[90m━━━━━━━━━━━━━━━━━━━━━━━━━━━━━━━━━━━━━━━━\u001b[0m \u001b[32m160.8/160.8 kB\u001b[0m \u001b[31m3.5 MB/s\u001b[0m eta \u001b[36m0:00:00\u001b[0m\n",
            "\u001b[2K   \u001b[90m━━━━━━━━━━━━━━━━━━━━━━━━━━━━━━━━━━━━━━━━\u001b[0m \u001b[32m760.0/760.0 kB\u001b[0m \u001b[31m12.1 MB/s\u001b[0m eta \u001b[36m0:00:00\u001b[0m\n",
            "\u001b[?25hCollecting PyPDF2\n",
            "  Downloading pypdf2-3.0.1-py3-none-any.whl.metadata (6.8 kB)\n",
            "Downloading pypdf2-3.0.1-py3-none-any.whl (232 kB)\n",
            "\u001b[2K   \u001b[90m━━━━━━━━━━━━━━━━━━━━━━━━━━━━━━━━━━━━━━━━\u001b[0m \u001b[32m232.6/232.6 kB\u001b[0m \u001b[31m7.0 MB/s\u001b[0m eta \u001b[36m0:00:00\u001b[0m\n",
            "\u001b[?25hInstalling collected packages: PyPDF2\n",
            "Successfully installed PyPDF2-3.0.1\n"
          ]
        }
      ]
    },
    {
      "cell_type": "code",
      "source": [
        "# Import the Python SDK\n",
        "import google.generativeai as genai\n",
        "# Used to securely store your API key\n",
        "from google.colab import userdata\n",
        "\n",
        "GOOGLE_API_KEY=userdata.get('GOOGLE_API_KEY')\n",
        "genai.configure(api_key=GOOGLE_API_KEY)"
      ],
      "metadata": {
        "id": "MzV7V0AzVKEg"
      },
      "execution_count": 34,
      "outputs": []
    },
    {
      "cell_type": "code",
      "source": [
        "# Definição de um modelo LLM Genérico\n",
        "model = genai.GenerativeModel('gemini-pro')"
      ],
      "metadata": {
        "id": "7MAdqF0XVWfB"
      },
      "execution_count": 38,
      "outputs": []
    },
    {
      "cell_type": "code",
      "source": [
        "# Definição das funções de apoio\n",
        "import PyPDF2\n",
        "import os\n",
        "from datetime import datetime\n",
        "\n",
        "def extract_pdf_text(pdf_path):\n",
        "    try:\n",
        "        with open(pdf_path, 'rb') as pdf_file:\n",
        "            pdf_reader = PyPDF2.PdfReader(pdf_file)\n",
        "\n",
        "            pdf_text = {}\n",
        "            for page_num in range(len(pdf_reader.pages)):\n",
        "                page = pdf_reader.pages[page_num]\n",
        "                text = page.extract_text()\n",
        "                pdf_text[page_num + 1] = text\n",
        "            return pdf_text\n",
        "    except FileNotFoundError:\n",
        "        print(f\"Error: PDF file not found at {pdf_path}\")\n",
        "    except PermissionError:\n",
        "        print(f\"Error: Permission denied to access PDF file at {pdf_path}\")\n",
        "    except Exception as e:\n",
        "        print(f\"Error: An unexpected error occurred: {e}\")\n",
        "\n",
        "def get_summary_from_response(response_resumo_texto):\n",
        "  try:\n",
        "    if len(response_resumo_texto.candidates) > 0:\n",
        "      summary_content = response_resumo_texto.candidates[0].content\n",
        "      if len(summary_content.parts) > 0:\n",
        "        summary_text = summary_content.parts[0].text\n",
        "        return summary_text  # Return the extracted text\n",
        "      else:\n",
        "        print(\"No content parts found in the first candidate.\")\n",
        "    else:\n",
        "      print(\"Nenhuma resposta disponível\")\n",
        "  except (AttributeError, IndexError):\n",
        "    print(\"Error accessing response data. Please check the response structure.\")\n",
        "\n",
        "def request_to_gemini(prompt_text):\n",
        "  print(\"Aguarde...\")\n",
        "  t1 = datetime.now()\n",
        "  response_resumo_texto = model.generate_content(prompt_text)\n",
        "  t2 = datetime.now()\n",
        "  print(response_resumo_texto)\n",
        "  tempo_resposta = t2 - t1\n",
        "  print(f\"Tempo de resposta: {tempo_resposta}\")\n",
        "  return response_resumo_texto\n",
        "\n",
        "def count_words(text):\n",
        "    words = text.split()\n",
        "    return len(words)\n",
        "\n",
        "def processa_resumo(nome_arquivo, pergunte_ao_gemini):\n",
        "  texto_documento = \"\"\n",
        "  meu_conteudo =  extract_pdf_text(pdf_path=nome_arquivo)\n",
        "  print(f\"Quantidade de páginas: {len(meu_conteudo.keys())}\")\n",
        "  for k,v in meu_conteudo.items():\n",
        "    texto_documento = texto_documento + v\n",
        "  quantidade_palavras = count_words(texto_documento)\n",
        "  print(f\"Quantidade de palavras: {quantidade_palavras}\")\n",
        "  prompt_text = f\"{pergunte_ao_gemini}{texto_documento}\"\n",
        "  response_resumo_texto = request_to_gemini(prompt_text)\n",
        "  return response_resumo_texto"
      ],
      "metadata": {
        "id": "MmXJXPXMVmoW"
      },
      "execution_count": 39,
      "outputs": []
    },
    {
      "cell_type": "markdown",
      "source": [
        "## Execução do Protótipo\n",
        "\n",
        "Os seguintes processos foram usados:\n",
        "- p1 (HABEAS CORPUS No 894602 - SP (2024/0066576-2))\n",
        "- p2 (HABEAS CORPUS No 894601 - SE (2024/0066524-4))\n",
        "- p3 (AGRAVO EM RECURSO ESPECIAL No 2576723 - CE (2024/0064554-2))"
      ],
      "metadata": {
        "id": "JcgMpvTWkJ0x"
      }
    },
    {
      "cell_type": "markdown",
      "source": [
        "### Leitura dos Fragmentos dos Processos"
      ],
      "metadata": {
        "id": "AHtCBZYPY3bc"
      }
    },
    {
      "cell_type": "markdown",
      "source": [
        "Entre o com os documentos (PDFs) dos fragmentos dos processos"
      ],
      "metadata": {
        "id": "CSJDZXIjVbtf"
      }
    },
    {
      "cell_type": "code",
      "source": [
        "!wget https://raw.githubusercontent.com/armandossrecife/mysummary/refs/heads/main/pdfs/stj_dje_20240306_0_40501136.pdf\n",
        "!wget https://raw.githubusercontent.com/armandossrecife/mysummary/refs/heads/main/pdfs/stj_dje_20240621_0_42069415.pdf\n",
        "!wget https://raw.githubusercontent.com/armandossrecife/mysummary/refs/heads/main/pdfs/stj_dje_20240612_0_41924605.pdf"
      ],
      "metadata": {
        "colab": {
          "base_uri": "https://localhost:8080/"
        },
        "id": "bAYeS-zJVau3",
        "outputId": "930732b5-8dab-479d-a663-915f5dac5db2"
      },
      "execution_count": 37,
      "outputs": [
        {
          "output_type": "stream",
          "name": "stdout",
          "text": [
            "--2024-10-31 12:18:47--  https://raw.githubusercontent.com/armandossrecife/mysummary/refs/heads/main/pdfs/stj_dje_20240306_0_40501136.pdf\n",
            "Resolving raw.githubusercontent.com (raw.githubusercontent.com)... 185.199.108.133, 185.199.109.133, 185.199.110.133, ...\n",
            "Connecting to raw.githubusercontent.com (raw.githubusercontent.com)|185.199.108.133|:443... connected.\n",
            "HTTP request sent, awaiting response... 200 OK\n",
            "Length: 160388 (157K) [application/octet-stream]\n",
            "Saving to: ‘stj_dje_20240306_0_40501136.pdf’\n",
            "\n",
            "\r          stj_dje_2   0%[                    ]       0  --.-KB/s               \rstj_dje_20240306_0_ 100%[===================>] 156.63K  --.-KB/s    in 0.02s   \n",
            "\n",
            "2024-10-31 12:18:47 (6.66 MB/s) - ‘stj_dje_20240306_0_40501136.pdf’ saved [160388/160388]\n",
            "\n",
            "--2024-10-31 12:18:48--  https://raw.githubusercontent.com/armandossrecife/mysummary/refs/heads/main/pdfs/stj_dje_20240621_0_42069415.pdf\n",
            "Resolving raw.githubusercontent.com (raw.githubusercontent.com)... 185.199.108.133, 185.199.111.133, 185.199.109.133, ...\n",
            "Connecting to raw.githubusercontent.com (raw.githubusercontent.com)|185.199.108.133|:443... connected.\n",
            "HTTP request sent, awaiting response... 200 OK\n",
            "Length: 112964 (110K) [application/octet-stream]\n",
            "Saving to: ‘stj_dje_20240621_0_42069415.pdf’\n",
            "\n",
            "stj_dje_20240621_0_ 100%[===================>] 110.32K  --.-KB/s    in 0.02s   \n",
            "\n",
            "2024-10-31 12:18:48 (5.75 MB/s) - ‘stj_dje_20240621_0_42069415.pdf’ saved [112964/112964]\n",
            "\n",
            "--2024-10-31 12:18:48--  https://raw.githubusercontent.com/armandossrecife/mysummary/refs/heads/main/pdfs/stj_dje_20240612_0_41924605.pdf\n",
            "Resolving raw.githubusercontent.com (raw.githubusercontent.com)... 185.199.108.133, 185.199.111.133, 185.199.109.133, ...\n",
            "Connecting to raw.githubusercontent.com (raw.githubusercontent.com)|185.199.108.133|:443... connected.\n",
            "HTTP request sent, awaiting response... 200 OK\n",
            "Length: 125320 (122K) [application/octet-stream]\n",
            "Saving to: ‘stj_dje_20240612_0_41924605.pdf’\n",
            "\n",
            "stj_dje_20240612_0_ 100%[===================>] 122.38K  --.-KB/s    in 0.02s   \n",
            "\n",
            "2024-10-31 12:18:48 (6.23 MB/s) - ‘stj_dje_20240612_0_41924605.pdf’ saved [125320/125320]\n",
            "\n"
          ]
        }
      ]
    },
    {
      "cell_type": "markdown",
      "source": [
        "### Resumo do 1o. Processo"
      ],
      "metadata": {
        "id": "Mev5CKknaQlD"
      }
    },
    {
      "cell_type": "code",
      "source": [
        "resposta_resumo_p1 = processa_resumo(nome_arquivo=\"stj_dje_20240306_0_40501136.pdf\", pergunte_ao_gemini=\"Você pode fazer um resumo do seguinte texto: \")\n",
        "meu_resumo_p1 = get_summary_from_response(resposta_resumo_p1)\n",
        "print(meu_resumo_p1)"
      ],
      "metadata": {
        "colab": {
          "base_uri": "https://localhost:8080/",
          "height": 1000
        },
        "id": "rfeTFgEsh_-j",
        "outputId": "fbb0089c-c2a4-479d-9003-7537ad58d38e"
      },
      "execution_count": 42,
      "outputs": [
        {
          "output_type": "stream",
          "name": "stdout",
          "text": [
            "Quantidade de páginas: 3\n",
            "Quantidade de palavras: 875\n",
            "Aguarde...\n",
            "response:\n",
            "GenerateContentResponse(\n",
            "    done=True,\n",
            "    iterator=None,\n",
            "    result=protos.GenerateContentResponse({\n",
            "      \"candidates\": [\n",
            "        {\n",
            "          \"content\": {\n",
            "            \"parts\": [\n",
            "              {\n",
            "                \"text\": \"**Resumo do Habeas Corpus:**\\n\\nO Superior Tribunal de Justi\\u00e7a (STJ) indeferiu liminarmente um pedido de habeas corpus impetrado em favor de um paciente que cumpre pena em regime semiaberto por delitos de roubo e estupro.\\n\\nA defesa do paciente alegou que ele sofre de graves problemas de sa\\u00fade e pediu a concess\\u00e3o de pris\\u00e3o domiciliar humanit\\u00e1ria. No entanto, as inst\\u00e2ncias anteriores n\\u00e3o reconheceram flagrante ilegalidade no indeferimento do pedido.\\n\\nO STJ aplicou a S\\u00famula 691 do Supremo Tribunal Federal, que impede a an\\u00e1lise de habeas corpus contra decis\\u00e3o de relator que indeferir liminar em habeas corpus requerido a tribunal superior.\\n\\nO STJ considerou que as decis\\u00f5es anteriores n\\u00e3o apresentavam teratologia ou desproporcionalidade e que n\\u00e3o havia prova suficiente para demonstrar a necessidade urgente de pris\\u00e3o domiciliar.\\n\\nAssim, o pedido liminar foi indeferido e o habeas corpus prosseguir\\u00e1 para an\\u00e1lise do m\\u00e9rito pelo tribunal de origem.\"\n",
            "              }\n",
            "            ],\n",
            "            \"role\": \"model\"\n",
            "          },\n",
            "          \"finish_reason\": \"STOP\",\n",
            "          \"index\": 0,\n",
            "          \"safety_ratings\": [\n",
            "            {\n",
            "              \"category\": \"HARM_CATEGORY_SEXUALLY_EXPLICIT\",\n",
            "              \"probability\": \"NEGLIGIBLE\"\n",
            "            },\n",
            "            {\n",
            "              \"category\": \"HARM_CATEGORY_HATE_SPEECH\",\n",
            "              \"probability\": \"NEGLIGIBLE\"\n",
            "            },\n",
            "            {\n",
            "              \"category\": \"HARM_CATEGORY_HARASSMENT\",\n",
            "              \"probability\": \"NEGLIGIBLE\"\n",
            "            },\n",
            "            {\n",
            "              \"category\": \"HARM_CATEGORY_DANGEROUS_CONTENT\",\n",
            "              \"probability\": \"NEGLIGIBLE\"\n",
            "            }\n",
            "          ]\n",
            "        }\n",
            "      ],\n",
            "      \"usage_metadata\": {\n",
            "        \"prompt_token_count\": 2449,\n",
            "        \"candidates_token_count\": 211,\n",
            "        \"total_token_count\": 2660\n",
            "      }\n",
            "    }),\n",
            ")\n",
            "Tempo de resposta: 0:00:05.240345\n",
            "**Resumo do Habeas Corpus:**\n",
            "\n",
            "O Superior Tribunal de Justiça (STJ) indeferiu liminarmente um pedido de habeas corpus impetrado em favor de um paciente que cumpre pena em regime semiaberto por delitos de roubo e estupro.\n",
            "\n",
            "A defesa do paciente alegou que ele sofre de graves problemas de saúde e pediu a concessão de prisão domiciliar humanitária. No entanto, as instâncias anteriores não reconheceram flagrante ilegalidade no indeferimento do pedido.\n",
            "\n",
            "O STJ aplicou a Súmula 691 do Supremo Tribunal Federal, que impede a análise de habeas corpus contra decisão de relator que indeferir liminar em habeas corpus requerido a tribunal superior.\n",
            "\n",
            "O STJ considerou que as decisões anteriores não apresentavam teratologia ou desproporcionalidade e que não havia prova suficiente para demonstrar a necessidade urgente de prisão domiciliar.\n",
            "\n",
            "Assim, o pedido liminar foi indeferido e o habeas corpus prosseguirá para análise do mérito pelo tribunal de origem.\n"
          ]
        }
      ]
    },
    {
      "cell_type": "code",
      "source": [
        "quantidade_palavras1 = count_words(meu_resumo_p1)\n",
        "print(f\"Quantidade de palavras do resumo (Processo1): {quantidade_palavras1}\")"
      ],
      "metadata": {
        "colab": {
          "base_uri": "https://localhost:8080/"
        },
        "id": "u9piQWjeiXwo",
        "outputId": "f7e661b7-2d15-4d49-ea39-21c20ed112d5"
      },
      "execution_count": 46,
      "outputs": [
        {
          "output_type": "stream",
          "name": "stdout",
          "text": [
            "Quantidade de palavras do resumo (Processo1): 145\n"
          ]
        }
      ]
    },
    {
      "cell_type": "markdown",
      "source": [
        "### Resumo do 2o. Processo"
      ],
      "metadata": {
        "id": "5DakhorobAC2"
      }
    },
    {
      "cell_type": "code",
      "source": [
        "resposta_resumo_p2 = processa_resumo(nome_arquivo=\"stj_dje_20240621_0_42069415.pdf\", pergunte_ao_gemini=\"Você pode fazer um resumo do seguinte texto: \")\n",
        "meu_resumo_p2 = get_summary_from_response(resposta_resumo_p2)\n",
        "print(meu_resumo_p2)"
      ],
      "metadata": {
        "colab": {
          "base_uri": "https://localhost:8080/",
          "height": 1000
        },
        "id": "bVes7QMMhnYy",
        "outputId": "b19cbc36-918c-4bf4-d62a-51431ea79720"
      },
      "execution_count": 41,
      "outputs": [
        {
          "output_type": "stream",
          "name": "stdout",
          "text": [
            "Quantidade de páginas: 2\n",
            "Quantidade de palavras: 596\n",
            "Aguarde...\n",
            "response:\n",
            "GenerateContentResponse(\n",
            "    done=True,\n",
            "    iterator=None,\n",
            "    result=protos.GenerateContentResponse({\n",
            "      \"candidates\": [\n",
            "        {\n",
            "          \"content\": {\n",
            "            \"parts\": [\n",
            "              {\n",
            "                \"text\": \"**Resumo do Habeas Corpus:**\\n\\nO habeas corpus n\\u00ba 894601-SE foi impetrado em benef\\u00edcio de Kaique Batista Santos, preso preventivamente por suposto tr\\u00e1fico de drogas. O Tribunal de Justi\\u00e7a do Estado de Sergipe foi apontado como autoridade coatora.\\n\\nO paciente alega que sua pris\\u00e3o foi decretada pelo juiz de plant\\u00e3o de forma arbitr\\u00e1ria, sem representa\\u00e7\\u00e3o da autoridade policial ou do Minist\\u00e9rio P\\u00fablico. Al\\u00e9m disso, a fundamenta\\u00e7\\u00e3o se baseou apenas na gravidade abstrata do crime e n\\u00e3o em elementos concretos do caso espec\\u00edfico.\\n\\nO relator, Ministro Sebasti\\u00e3o Reis J\\u00fanior, concedeu a ordem de habeas corpus, revogando a pris\\u00e3o preventiva do paciente. Ele entendeu que a pris\\u00e3o foi ilegal porque:\\n\\n* N\\u00e3o houve representa\\u00e7\\u00e3o formal para a pris\\u00e3o.\\n* A decis\\u00e3o n\\u00e3o apresentou fundamentos concretos sobre a periculosidade do paciente.\\n* A gravidade abstrata do crime n\\u00e3o justifica a pris\\u00e3o preventiva.\\n\\nO relator destacou que a pris\\u00e3o preventiva deve ser imposta excepcionalmente, quando houver elementos concretos que indiquem a necessidade da medida.\"\n",
            "              }\n",
            "            ],\n",
            "            \"role\": \"model\"\n",
            "          },\n",
            "          \"finish_reason\": \"STOP\",\n",
            "          \"index\": 0,\n",
            "          \"safety_ratings\": [\n",
            "            {\n",
            "              \"category\": \"HARM_CATEGORY_SEXUALLY_EXPLICIT\",\n",
            "              \"probability\": \"NEGLIGIBLE\"\n",
            "            },\n",
            "            {\n",
            "              \"category\": \"HARM_CATEGORY_HATE_SPEECH\",\n",
            "              \"probability\": \"NEGLIGIBLE\"\n",
            "            },\n",
            "            {\n",
            "              \"category\": \"HARM_CATEGORY_HARASSMENT\",\n",
            "              \"probability\": \"NEGLIGIBLE\"\n",
            "            },\n",
            "            {\n",
            "              \"category\": \"HARM_CATEGORY_DANGEROUS_CONTENT\",\n",
            "              \"probability\": \"NEGLIGIBLE\"\n",
            "            }\n",
            "          ]\n",
            "        }\n",
            "      ],\n",
            "      \"usage_metadata\": {\n",
            "        \"prompt_token_count\": 1716,\n",
            "        \"candidates_token_count\": 233,\n",
            "        \"total_token_count\": 1949\n",
            "      }\n",
            "    }),\n",
            ")\n",
            "Tempo de resposta: 0:00:05.365714\n",
            "**Resumo do Habeas Corpus:**\n",
            "\n",
            "O habeas corpus nº 894601-SE foi impetrado em benefício de Kaique Batista Santos, preso preventivamente por suposto tráfico de drogas. O Tribunal de Justiça do Estado de Sergipe foi apontado como autoridade coatora.\n",
            "\n",
            "O paciente alega que sua prisão foi decretada pelo juiz de plantão de forma arbitrária, sem representação da autoridade policial ou do Ministério Público. Além disso, a fundamentação se baseou apenas na gravidade abstrata do crime e não em elementos concretos do caso específico.\n",
            "\n",
            "O relator, Ministro Sebastião Reis Júnior, concedeu a ordem de habeas corpus, revogando a prisão preventiva do paciente. Ele entendeu que a prisão foi ilegal porque:\n",
            "\n",
            "* Não houve representação formal para a prisão.\n",
            "* A decisão não apresentou fundamentos concretos sobre a periculosidade do paciente.\n",
            "* A gravidade abstrata do crime não justifica a prisão preventiva.\n",
            "\n",
            "O relator destacou que a prisão preventiva deve ser imposta excepcionalmente, quando houver elementos concretos que indiquem a necessidade da medida.\n"
          ]
        }
      ]
    },
    {
      "cell_type": "code",
      "source": [
        "quantidade_palavras2 = count_words(meu_resumo_p2)\n",
        "print(f\"Quantidade de palavras do resumo (Processo2): {quantidade_palavras2}\")"
      ],
      "metadata": {
        "colab": {
          "base_uri": "https://localhost:8080/"
        },
        "id": "Bv6d6apWil-o",
        "outputId": "a8676956-c6e5-49f3-8b27-709528140891"
      },
      "execution_count": 45,
      "outputs": [
        {
          "output_type": "stream",
          "name": "stdout",
          "text": [
            "Quantidade de palavras do resumo (Processo2): 159\n"
          ]
        }
      ]
    },
    {
      "cell_type": "markdown",
      "source": [
        "### Resumo do 3o. Processo"
      ],
      "metadata": {
        "id": "U7f3TPQOfUCX"
      }
    },
    {
      "cell_type": "code",
      "source": [
        "resposta_resumo_p3 = processa_resumo(nome_arquivo=\"stj_dje_20240612_0_41924605.pdf\", pergunte_ao_gemini=\"Você pode fazer um resumo do seguinte texto: \")\n",
        "meu_resumo_p3 = get_summary_from_response(resposta_resumo_p3)\n",
        "print(meu_resumo_p3)"
      ],
      "metadata": {
        "colab": {
          "base_uri": "https://localhost:8080/",
          "height": 1000
        },
        "id": "XJszyQL8fVl3",
        "outputId": "7248fbba-380b-4418-ac0d-cc7c77cb9879"
      },
      "execution_count": 40,
      "outputs": [
        {
          "output_type": "stream",
          "name": "stdout",
          "text": [
            "Quantidade de páginas: 5\n",
            "Quantidade de palavras: 2255\n",
            "Aguarde...\n",
            "response:\n",
            "GenerateContentResponse(\n",
            "    done=True,\n",
            "    iterator=None,\n",
            "    result=protos.GenerateContentResponse({\n",
            "      \"candidates\": [\n",
            "        {\n",
            "          \"content\": {\n",
            "            \"parts\": [\n",
            "              {\n",
            "                \"text\": \"**Resumo do Agravo em Recurso Especial**\\n\\n**Relator:** Ministro Herman Benjamin\\n\\n**Agravante:** Central E\\u00f3lica S\\u00e3o Raimundo S.A.\\n\\n**Agravados:** Raimundo Pedro da Silva e Maria Auxiliadora da Silva\\n\\n**Interessada:** Alian\\u00e7a Gera\\u00e7\\u00e3o de Energia S.A.\\n\\n**Decis\\u00e3o:** N\\u00e3o conhecimento do agravo\\n\\n**S\\u00edntese:**\\n\\nA agravante interp\\u00f4s recurso especial contra decis\\u00e3o que desconstituiu senten\\u00e7a de extin\\u00e7\\u00e3o do processo por decad\\u00eancia e prescri\\u00e7\\u00e3o em uma a\\u00e7\\u00e3o declarat\\u00f3ria de nulidade contratual envolvendo uma servid\\u00e3o administrativa.\\n\\nA agravante alegou viola\\u00e7\\u00e3o do art. 178, II, do C\\u00f3digo Civil, ao aplicar a prescri\\u00e7\\u00e3o quinquenal do art. 10 do Decreto-Lei 3.365/1941 e art. 1\\u00ba do Decreto 20.910/1932, que se aplicam apenas \\u00e0 Administra\\u00e7\\u00e3o P\\u00fablica Direta.\\n\\nO Minist\\u00e9rio P\\u00fablico Federal opinou pelo n\\u00e3o conhecimento do agravo, argumentando que n\\u00e3o houve impugna\\u00e7\\u00e3o espec\\u00edfica dos fundamentos da decis\\u00e3o agravada e que n\\u00e3o foram apresentados precedentes espec\\u00edficos para refutar a aplica\\u00e7\\u00e3o da S\\u00famula 83 do STJ.\\n\\nO Relator entendeu que o agravo n\\u00e3o deve ser conhecido devido \\u00e0 aus\\u00eancia de impugna\\u00e7\\u00e3o espec\\u00edfica dos fundamentos da decis\\u00e3o agravada, conforme a S\\u00famula 182 do STJ. Al\\u00e9m disso, a agravante n\\u00e3o trouxe precedentes contempor\\u00e2neos ou supervenientes que refutassem a aplica\\u00e7\\u00e3o da S\\u00famula 83 do STJ.\"\n",
            "              }\n",
            "            ],\n",
            "            \"role\": \"model\"\n",
            "          },\n",
            "          \"finish_reason\": \"STOP\",\n",
            "          \"index\": 0,\n",
            "          \"safety_ratings\": [\n",
            "            {\n",
            "              \"category\": \"HARM_CATEGORY_SEXUALLY_EXPLICIT\",\n",
            "              \"probability\": \"NEGLIGIBLE\"\n",
            "            },\n",
            "            {\n",
            "              \"category\": \"HARM_CATEGORY_HATE_SPEECH\",\n",
            "              \"probability\": \"NEGLIGIBLE\"\n",
            "            },\n",
            "            {\n",
            "              \"category\": \"HARM_CATEGORY_HARASSMENT\",\n",
            "              \"probability\": \"NEGLIGIBLE\"\n",
            "            },\n",
            "            {\n",
            "              \"category\": \"HARM_CATEGORY_DANGEROUS_CONTENT\",\n",
            "              \"probability\": \"NEGLIGIBLE\"\n",
            "            }\n",
            "          ]\n",
            "        }\n",
            "      ],\n",
            "      \"usage_metadata\": {\n",
            "        \"prompt_token_count\": 6262,\n",
            "        \"candidates_token_count\": 338,\n",
            "        \"total_token_count\": 6600\n",
            "      }\n",
            "    }),\n",
            ")\n",
            "Tempo de resposta: 0:00:08.404264\n",
            "**Resumo do Agravo em Recurso Especial**\n",
            "\n",
            "**Relator:** Ministro Herman Benjamin\n",
            "\n",
            "**Agravante:** Central Eólica São Raimundo S.A.\n",
            "\n",
            "**Agravados:** Raimundo Pedro da Silva e Maria Auxiliadora da Silva\n",
            "\n",
            "**Interessada:** Aliança Geração de Energia S.A.\n",
            "\n",
            "**Decisão:** Não conhecimento do agravo\n",
            "\n",
            "**Síntese:**\n",
            "\n",
            "A agravante interpôs recurso especial contra decisão que desconstituiu sentença de extinção do processo por decadência e prescrição em uma ação declaratória de nulidade contratual envolvendo uma servidão administrativa.\n",
            "\n",
            "A agravante alegou violação do art. 178, II, do Código Civil, ao aplicar a prescrição quinquenal do art. 10 do Decreto-Lei 3.365/1941 e art. 1º do Decreto 20.910/1932, que se aplicam apenas à Administração Pública Direta.\n",
            "\n",
            "O Ministério Público Federal opinou pelo não conhecimento do agravo, argumentando que não houve impugnação específica dos fundamentos da decisão agravada e que não foram apresentados precedentes específicos para refutar a aplicação da Súmula 83 do STJ.\n",
            "\n",
            "O Relator entendeu que o agravo não deve ser conhecido devido à ausência de impugnação específica dos fundamentos da decisão agravada, conforme a Súmula 182 do STJ. Além disso, a agravante não trouxe precedentes contemporâneos ou supervenientes que refutassem a aplicação da Súmula 83 do STJ.\n"
          ]
        }
      ]
    },
    {
      "cell_type": "code",
      "source": [
        "quantidade_palavras3 = count_words(meu_resumo_p3)\n",
        "print(f\"Quantidade de palavras do resumo (Processo3): {quantidade_palavras3}\")"
      ],
      "metadata": {
        "colab": {
          "base_uri": "https://localhost:8080/"
        },
        "id": "UQ5thawin5XW",
        "outputId": "328ed096-846d-4eb4-e530-d7aa9c2f95dd"
      },
      "execution_count": 47,
      "outputs": [
        {
          "output_type": "stream",
          "name": "stdout",
          "text": [
            "Quantidade de palavras do resumo (Processo3): 186\n"
          ]
        }
      ]
    },
    {
      "cell_type": "code",
      "source": [],
      "metadata": {
        "id": "9I5MX8RPn8_3"
      },
      "execution_count": null,
      "outputs": []
    }
  ],
  "metadata": {
    "colab": {
      "provenance": [],
      "collapsed_sections": [
        "jggPD7j-ZGFD",
        "AHtCBZYPY3bc"
      ],
      "include_colab_link": true
    },
    "kernelspec": {
      "display_name": "Python 3",
      "name": "python3"
    }
  },
  "nbformat": 4,
  "nbformat_minor": 0
}