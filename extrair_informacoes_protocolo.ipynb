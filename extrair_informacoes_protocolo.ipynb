{
  "nbformat": 4,
  "nbformat_minor": 0,
  "metadata": {
    "colab": {
      "provenance": [],
      "authorship_tag": "ABX9TyNSxs1vMT9nOQBlHGhu4M86",
      "include_colab_link": true
    },
    "kernelspec": {
      "name": "python3",
      "display_name": "Python 3"
    },
    "language_info": {
      "name": "python"
    }
  },
  "cells": [
    {
      "cell_type": "markdown",
      "metadata": {
        "id": "view-in-github",
        "colab_type": "text"
      },
      "source": [
        "<a href=\"https://colab.research.google.com/github/armandossrecife/mysummary/blob/main/extrair_informacoes_protocolo.ipynb\" target=\"_parent\"><img src=\"https://colab.research.google.com/assets/colab-badge.svg\" alt=\"Open In Colab\"/></a>"
      ]
    },
    {
      "cell_type": "markdown",
      "source": [
        "# Análise do Processo"
      ],
      "metadata": {
        "id": "cVbY1eiSmxhF"
      }
    },
    {
      "cell_type": "markdown",
      "source": [
        "## Funções de Apoio"
      ],
      "metadata": {
        "id": "ns8msFmG5HS1"
      }
    },
    {
      "cell_type": "markdown",
      "source": [
        "## Dados de um processo"
      ],
      "metadata": {
        "id": "l9lVXMYVm0PH"
      }
    },
    {
      "cell_type": "code",
      "source": [
        "meus_processos = {\n",
        "    1: {\n",
        "      'Dados Gerais': {\n",
        "        'Processo':\t'23111.052861/2021-71 Processo Eletrônico',\n",
        "        'Origem do Processo':\t'Interno',\n",
        "        'Data de Autuação':\t'22/12/2021 11:24',\n",
        "        'Usuário de Autuação':\t'LUIS GUSTAVO DOS SANTOS VIANA',\n",
        "        'Assunto do Processo':\t'SOLICITACAO',\n",
        "        'Assunto Detalhado':\t'RENOVAÇÃO DE AFASTAMENTO PARA QUALIFICAÇÃO (DOUTORADO)',\n",
        "        'Natureza do Processo':\t'OSTENSIVO',\n",
        "        'Unidade de Origem':\t'DIVISAO DE PROTOCOLO E DOCUMENTACAO/PRAD (11.00.15.08.03)',\n",
        "        'Status':\t'ARQUIVADO',\n",
        "        'Data de Cadastro':\t'22/12/2021',\n",
        "        'Observação': ''\n",
        "      }\n",
        "  }\n",
        "}"
      ],
      "metadata": {
        "id": "0bwzsRhtmzdX"
      },
      "execution_count": 24,
      "outputs": []
    },
    {
      "cell_type": "code",
      "source": [
        "for id, dados_processo in meus_processos.items():\n",
        "  print(f\"Id do Processo: {id}\")\n",
        "  for dados_gerais, informacoes in dados_processo.items():\n",
        "    print(f\"{dados_gerais}:\")\n",
        "    for k, v in informacoes.items():\n",
        "      print(f\"\\t{k}: {v}\")"
      ],
      "metadata": {
        "colab": {
          "base_uri": "https://localhost:8080/"
        },
        "id": "cNZ9M6MMnMDr",
        "outputId": "713654b3-5fcd-4729-f3c2-5d16ed9874d4"
      },
      "execution_count": 25,
      "outputs": [
        {
          "output_type": "stream",
          "name": "stdout",
          "text": [
            "Id do Processo: 1\n",
            "Dados Gerais:\n",
            "\tProcesso: 23111.052861/2021-71 Processo Eletrônico\n",
            "\tOrigem do Processo: Interno\n",
            "\tData de Autuação: 22/12/2021 11:24\n",
            "\tUsuário de Autuação: LUIS GUSTAVO DOS SANTOS VIANA\n",
            "\tAssunto do Processo: SOLICITACAO\n",
            "\tAssunto Detalhado: RENOVAÇÃO DE AFASTAMENTO PARA QUALIFICAÇÃO (DOUTORADO)\n",
            "\tNatureza do Processo: OSTENSIVO\n",
            "\tUnidade de Origem: DIVISAO DE PROTOCOLO E DOCUMENTACAO/PRAD (11.00.15.08.03)\n",
            "\tStatus: ARQUIVADO\n",
            "\tData de Cadastro: 22/12/2021\n",
            "\tObservação: \n"
          ]
        }
      ]
    },
    {
      "cell_type": "markdown",
      "source": [
        "## Documentos do processo"
      ],
      "metadata": {
        "id": "Mgj0kfDTrtJo"
      }
    },
    {
      "cell_type": "code",
      "source": [
        "documentos_processo = {\n",
        "  1:{\n",
        "    'Tipo do Documento':'REQUERIMENTO',\n",
        "    'Data do Documento':'22/12/2021',\n",
        "    'Origem':'DIPROT/PRAD (11.00.15.08.03)',\n",
        "    'Natureza':'OSTENSIVO',\n",
        "    'Link_Documento':'https://www.sipac.ufpi.br/public/downloadArquivo?idArquivo=4223938&key=1dc94c5c6e5a4558b5be94581c6e9a37'\n",
        "  },\n",
        "  2:{\n",
        "    'Tipo do Documento':'DESPACHO',\n",
        "    'Data do Documento':'28/12/2021',\n",
        "    'Origem':'DC/CCN (11.00.24.05)',\n",
        "    'Natureza':'OSTENSIVO',\n",
        "    'Link_Documento':'https://www.sipac.ufpi.br/public/jsp/processos/documento_visualizacao.jsf?idDoc=2068731'\n",
        "  },\n",
        "  3:{\n",
        "    'Tipo do Documento':'DESPACHO',\n",
        "    'Data do Documento':'28/12/2021',\n",
        "    'Origem':'CCN (11.00.24)',\n",
        "    'Natureza':'OSTENSIVO',\n",
        "    'Link_Documento':'https://www.sipac.ufpi.br/public/jsp/processos/documento_visualizacao.jsf?idDoc=2068823'\n",
        "  },\n",
        "  4:{\n",
        "    'Tipo do Documento':'DESPACHO',\n",
        "    'Data do Documento':'04/01/2022',\n",
        "    'Origem':'DC/CCN (11.00.24.05)',\n",
        "    'Natureza':'OSTENSIVO',\n",
        "    'Link_Documento':'https://www.sipac.ufpi.br/public/jsp/processos/documento_visualizacao.jsf?idDoc=2070907'\n",
        "  },\n",
        "  5:{\n",
        "    'Tipo do Documento':'PARECER DE RELATOR DE PROCESSO',\n",
        "    'Data do Documento':'12/01/2022',\n",
        "    'Origem':'CCN (11.00.24)',\n",
        "    'Natureza':'OSTENSIVO',\n",
        "    'Link_Documento':'https://www.sipac.ufpi.br/public/downloadArquivo?idArquivo=4237015&key=8b1c81e486c2e279d5e4a0222a83e57e'\n",
        "  },\n",
        "  6:{\n",
        "    'Tipo do Documento':'DESPACHO',\n",
        "    'Data do Documento':'12/01/2022',\n",
        "    'Origem':'CCN (11.00.24)',\n",
        "    'Natureza':'OSTENSIVO',\n",
        "    'Link_Documento':'https://www.sipac.ufpi.br/public/jsp/processos/documento_visualizacao.jsf?idDoc=2075439'\n",
        "  },\n",
        "  7:{\n",
        "    'Tipo do Documento':'DESPACHO',\n",
        "    'Data do Documento':'12/01/2022',\n",
        "    'Origem':'GAB (11.00.01)',\n",
        "    'Natureza':'OSTENSIVO',\n",
        "    'Link_Documento':'https://www.sipac.ufpi.br/public/jsp/processos/documento_visualizacao.jsf?idDoc=2075880'\n",
        "  },\n",
        "  8:{\n",
        "    'Tipo do Documento':'DOCUMENTOS COMPROBATÓRIOS',\n",
        "    'Data do Documento':'05/01/2022',\n",
        "    'Origem':'CCN (11.00.24)',\n",
        "    'Natureza':'OSTENSIVO',\n",
        "    'Link_Documento':'https://www.sipac.ufpi.br/public/downloadArquivo?idArquivo=4237447&key=a78cbbe15ef7ff5f543fef44bd2cb0a6'\n",
        "  },\n",
        "  9:{\n",
        "    'Tipo do Documento':'DESPACHO',\n",
        "    'Data do Documento':'12/01/2022',\n",
        "    'Origem':'CCN (11.00.24)',\n",
        "    'Natureza':'OSTENSIVO',\n",
        "    'Link_Documento':'https://www.sipac.ufpi.br/public/jsp/processos/documento_visualizacao.jsf?idDoc=2075905'\n",
        "  },\n",
        "  10:{\n",
        "    'Tipo do Documento':'DESPACHO',\n",
        "    'Data do Documento':'14/01/2022',\n",
        "    'Origem':'GAB (11.00.01)',\n",
        "    'Natureza':'OSTENSIVO',\n",
        "    'Link_Documento':'https://www.sipac.ufpi.br/public/jsp/processos/documento_visualizacao.jsf?idDoc=2077590'\n",
        "  },\n",
        "  11:{\n",
        "    'Tipo do Documento':'DESPACHO',\n",
        "    'Data do Documento':'15/02/2022',\n",
        "    'Origem':'SECCON/GAB (11.00.01.03)',\n",
        "    'Natureza':'OSTENSIVO',\n",
        "    'Link_Documento':'https://www.sipac.ufpi.br/public/jsp/processos/documento_visualizacao.jsf?idDoc=2098283'\n",
        "  },\n",
        "  12:{\n",
        "    'Tipo do Documento':'DESPACHO',\n",
        "    'Data do Documento':'15/02/2022',\n",
        "    'Origem':'GAB (11.00.01)',\n",
        "    'Natureza':'OSTENSIVO',\n",
        "    'Link_Documento':'https://www.sipac.ufpi.br/public/jsp/processos/documento_visualizacao.jsf?idDoc=2098289'\n",
        "  },\n",
        "  13:{\n",
        "    'Tipo do Documento':'DESPACHO',\n",
        "    'Data do Documento':'15/02/2022',\n",
        "    'Origem':'PRPG (11.07)',\n",
        "    'Natureza':'?',\n",
        "    'Link_Documento':'https://www.sipac.ufpi.br/public/jsp/processos/documento_visualizacao.jsf?idDoc=2098913'\n",
        "  },\n",
        "  14:{\n",
        "    'Tipo do Documento':'DESPACHO',\n",
        "    'Data do Documento':'17/02/2022',\n",
        "    'Origem':'CPSS/PRPG (11.07.01)',\n",
        "    'Natureza':'OSTENSIVO',\n",
        "    'Link_Documento':'https://www.sipac.ufpi.br/public/jsp/processos/documento_visualizacao.jsf?idDoc=2100451'\n",
        "  },\n",
        "  15:{\n",
        "    'Tipo do Documento':'DESPACHO',\n",
        "    'Data do Documento':'17/02/2022',\n",
        "    'Origem':'SRH (11.04)',\n",
        "    'Natureza':'?',\n",
        "    'Link_Documento':'https://www.sipac.ufpi.br/public/jsp/processos/documento_visualizacao.jsf?idDoc=2100895'\n",
        "  },\n",
        "  16:{\n",
        "    'Tipo do Documento':'DESPACHO',\n",
        "    'Data do Documento':'09/03/2022',\n",
        "    'Origem':'CAP/SRH (11.00.15.05.01)',\n",
        "    'Natureza':'OSTENSIVO',\n",
        "    'Link_Documento':'https://www.sipac.ufpi.br/public/jsp/processos/documento_visualizacao.jsf?idDoc=2112915'\n",
        "  },\n",
        "  17:{\n",
        "    'Tipo do Documento':'DESPACHO',\n",
        "    'Data do Documento':'10/03/2022',\n",
        "    'Origem':'CDP/SRH (11.00.15.05.02)',\n",
        "    'Natureza':'?',\n",
        "    'Link_Documento':'https://www.sipac.ufpi.br/public/jsp/processos/documento_visualizacao.jsf?idDoc=2113947'\n",
        "  },\n",
        "  18:{\n",
        "    'Tipo do Documento':'DESPACHO',\n",
        "    'Data do Documento':'22/03/2022',\n",
        "    'Origem':'SRH (11.04)',\n",
        "    'Natureza':'OSTENSIVO',\n",
        "    'Link_Documento':'https://www.sipac.ufpi.br/public/jsp/processos/documento_visualizacao.jsf?idDoc=2123086'\n",
        "  },\n",
        "  19:{\n",
        "    'Tipo do Documento':'DESPACHO',\n",
        "    'Data do Documento':'03/04/2022',\n",
        "    'Origem':'PRPG (11.07)',\n",
        "    'Natureza':'?',\n",
        "    'Link_Documento':'https://www.sipac.ufpi.br/public/jsp/processos/documento_visualizacao.jsf?idDoc=2131977'\n",
        "  },\n",
        "  20:{\n",
        "    'Tipo do Documento':'DESPACHO',\n",
        "    'Data do Documento':'04/04/2022',\n",
        "    'Origem':'CPSS/PRPG (11.07.01)',\n",
        "    'Natureza':'OSTENSIVO',\n",
        "    'Link_Documento':'https://www.sipac.ufpi.br/public/jsp/processos/documento_visualizacao.jsf?idDoc=2132849'\n",
        "  },\n",
        "  21:{\n",
        "    'Tipo do Documento':'DESPACHO',\n",
        "    'Data do Documento':'10/04/2022',\n",
        "    'Origem':'PRPG (11.07)',\n",
        "    'Natureza':'?',\n",
        "    'Link_Documento':'https://www.sipac.ufpi.br/public/jsp/processos/documento_visualizacao.jsf?idDoc=2137177'\n",
        "  },\n",
        "  22:{\n",
        "    'Tipo do Documento':'DESPACHO',\n",
        "    'Data do Documento':'12/04/2022',\n",
        "    'Origem':'CPPD (11.00.05)',\n",
        "    'Natureza':'OSTENSIVO',\n",
        "    'Link_Documento':'https://www.sipac.ufpi.br/public/downloadArquivo?idArquivo=4444426&key=79da6d9d6f3a61d2ab09521e47030c94'\n",
        "  },\n",
        "  23:{\n",
        "    'Tipo do Documento':'DESPACHO',\n",
        "    'Data do Documento':'13/04/2022',\n",
        "    'Origem':'GAB (11.00.01)',\n",
        "    'Natureza':'OSTENSIVO',\n",
        "    'Link_Documento':'https://www.sipac.ufpi.br/public/jsp/processos/documento_visualizacao.jsf?idDoc=2140367'\n",
        "  },\n",
        "  24:{\n",
        "    'Tipo do Documento':'ATO DA REITORIA',\n",
        "    'Data do Documento':'13/04/2022',\n",
        "    'Origem':'GAB (11.00.01)',\n",
        "    'Natureza':'OSTENSIVO',\n",
        "    'Link_Documento':'https://www.sipac.ufpi.br/public/downloadArquivo?idArquivo=4459625&key=7d17f3154594c95f9219653d987d6153'\n",
        "  },\n",
        "  25:{\n",
        "    'Tipo do Documento':'DESPACHO',\n",
        "    'Data do Documento':'20/04/2022',\n",
        "    'Origem':'SECADM (11.00.01.04)',\n",
        "    'Natureza':'OSTENSIVO',\n",
        "    'Link_Documento':'https://www.sipac.ufpi.br/public/jsp/processos/documento_visualizacao.jsf?idDoc=2143262'\n",
        "  },\n",
        "  26:{\n",
        "    'Tipo do Documento':'DESPACHO',\n",
        "    'Data do Documento':'20/04/2022',\n",
        "    'Origem':'SRH (11.04)',\n",
        "    'Natureza':'?',\n",
        "    'Link_Documento':'https://www.sipac.ufpi.br/public/jsp/processos/documento_visualizacao.jsf?idDoc=2143890'\n",
        "  },\n",
        "  27:{\n",
        "    'Tipo do Documento':'DESPACHO',\n",
        "    'Data do Documento':'30/05/2022',\n",
        "    'Origem':'CAP/SRH (11.00.15.05.01)',\n",
        "    'Natureza':'OSTENSIVO',\n",
        "    'Link_Documento':'https://www.sipac.ufpi.br/public/jsp/processos/documento_visualizacao.jsf?idDoc=2173688'\n",
        "  }\n",
        "}"
      ],
      "metadata": {
        "id": "-jGRCHSk1CR4"
      },
      "execution_count": 26,
      "outputs": []
    },
    {
      "cell_type": "code",
      "source": [
        "for id_documento, dados_documento in documentos_processo.items():\n",
        "  print(f\"Documento {id_documento}:\")\n",
        "  for k, v in dados_documento.items():\n",
        "    print(f\"\\t{k}: {v}\")"
      ],
      "metadata": {
        "colab": {
          "base_uri": "https://localhost:8080/"
        },
        "id": "IPw0Zulb1ak9",
        "outputId": "c40641e4-9b30-4e57-8533-af2505ec540d"
      },
      "execution_count": 27,
      "outputs": [
        {
          "output_type": "stream",
          "name": "stdout",
          "text": [
            "Documento 1:\n",
            "\tTipo do Documento: REQUERIMENTO\n",
            "\tData do Documento: 22/12/2021\n",
            "\tOrigem: DIPROT/PRAD (11.00.15.08.03)\n",
            "\tNatureza: OSTENSIVO\n",
            "\tLink_Documento: https://www.sipac.ufpi.br/public/downloadArquivo?idArquivo=4223938&key=1dc94c5c6e5a4558b5be94581c6e9a37\n",
            "Documento 2:\n",
            "\tTipo do Documento: DESPACHO\n",
            "\tData do Documento: 28/12/2021\n",
            "\tOrigem: DC/CCN (11.00.24.05)\n",
            "\tNatureza: OSTENSIVO\n",
            "\tLink_Documento: https://www.sipac.ufpi.br/public/jsp/processos/documento_visualizacao.jsf?idDoc=2068731\n",
            "Documento 3:\n",
            "\tTipo do Documento: DESPACHO\n",
            "\tData do Documento: 28/12/2021\n",
            "\tOrigem: CCN (11.00.24)\n",
            "\tNatureza: OSTENSIVO\n",
            "\tLink_Documento: https://www.sipac.ufpi.br/public/jsp/processos/documento_visualizacao.jsf?idDoc=2068823\n",
            "Documento 4:\n",
            "\tTipo do Documento: DESPACHO\n",
            "\tData do Documento: 04/01/2022\n",
            "\tOrigem: DC/CCN (11.00.24.05)\n",
            "\tNatureza: OSTENSIVO\n",
            "\tLink_Documento: https://www.sipac.ufpi.br/public/jsp/processos/documento_visualizacao.jsf?idDoc=2070907\n",
            "Documento 5:\n",
            "\tTipo do Documento: PARECER DE RELATOR DE PROCESSO\n",
            "\tData do Documento: 12/01/2022\n",
            "\tOrigem: CCN (11.00.24)\n",
            "\tNatureza: OSTENSIVO\n",
            "\tLink_Documento: https://www.sipac.ufpi.br/public/downloadArquivo?idArquivo=4237015&key=8b1c81e486c2e279d5e4a0222a83e57e\n",
            "Documento 6:\n",
            "\tTipo do Documento: DESPACHO\n",
            "\tData do Documento: 12/01/2022\n",
            "\tOrigem: CCN (11.00.24)\n",
            "\tNatureza: OSTENSIVO\n",
            "\tLink_Documento: https://www.sipac.ufpi.br/public/jsp/processos/documento_visualizacao.jsf?idDoc=2075439\n",
            "Documento 7:\n",
            "\tTipo do Documento: DESPACHO\n",
            "\tData do Documento: 12/01/2022\n",
            "\tOrigem: GAB (11.00.01)\n",
            "\tNatureza: OSTENSIVO\n",
            "\tLink_Documento: https://www.sipac.ufpi.br/public/jsp/processos/documento_visualizacao.jsf?idDoc=2075880\n",
            "Documento 8:\n",
            "\tTipo do Documento: DOCUMENTOS COMPROBATÓRIOS\n",
            "\tData do Documento: 05/01/2022\n",
            "\tOrigem: CCN (11.00.24)\n",
            "\tNatureza: OSTENSIVO\n",
            "\tLink_Documento: https://www.sipac.ufpi.br/public/downloadArquivo?idArquivo=4237447&key=a78cbbe15ef7ff5f543fef44bd2cb0a6\n",
            "Documento 9:\n",
            "\tTipo do Documento: DESPACHO\n",
            "\tData do Documento: 12/01/2022\n",
            "\tOrigem: CCN (11.00.24)\n",
            "\tNatureza: OSTENSIVO\n",
            "\tLink_Documento: https://www.sipac.ufpi.br/public/jsp/processos/documento_visualizacao.jsf?idDoc=2075905\n",
            "Documento 10:\n",
            "\tTipo do Documento: DESPACHO\n",
            "\tData do Documento: 14/01/2022\n",
            "\tOrigem: GAB (11.00.01)\n",
            "\tNatureza: OSTENSIVO\n",
            "\tLink_Documento: https://www.sipac.ufpi.br/public/jsp/processos/documento_visualizacao.jsf?idDoc=2077590\n",
            "Documento 11:\n",
            "\tTipo do Documento: DESPACHO\n",
            "\tData do Documento: 15/02/2022\n",
            "\tOrigem: SECCON/GAB (11.00.01.03)\n",
            "\tNatureza: OSTENSIVO\n",
            "\tLink_Documento: https://www.sipac.ufpi.br/public/jsp/processos/documento_visualizacao.jsf?idDoc=2098283\n",
            "Documento 12:\n",
            "\tTipo do Documento: DESPACHO\n",
            "\tData do Documento: 15/02/2022\n",
            "\tOrigem: GAB (11.00.01)\n",
            "\tNatureza: OSTENSIVO\n",
            "\tLink_Documento: https://www.sipac.ufpi.br/public/jsp/processos/documento_visualizacao.jsf?idDoc=2098289\n",
            "Documento 13:\n",
            "\tTipo do Documento: DESPACHO\n",
            "\tData do Documento: 15/02/2022\n",
            "\tOrigem: PRPG (11.07)\n",
            "\tNatureza: ?\n",
            "\tLink_Documento: https://www.sipac.ufpi.br/public/jsp/processos/documento_visualizacao.jsf?idDoc=2098913\n",
            "Documento 14:\n",
            "\tTipo do Documento: DESPACHO\n",
            "\tData do Documento: 17/02/2022\n",
            "\tOrigem: CPSS/PRPG (11.07.01)\n",
            "\tNatureza: OSTENSIVO\n",
            "\tLink_Documento: https://www.sipac.ufpi.br/public/jsp/processos/documento_visualizacao.jsf?idDoc=2100451\n",
            "Documento 15:\n",
            "\tTipo do Documento: DESPACHO\n",
            "\tData do Documento: 17/02/2022\n",
            "\tOrigem: SRH (11.04)\n",
            "\tNatureza: ?\n",
            "\tLink_Documento: https://www.sipac.ufpi.br/public/jsp/processos/documento_visualizacao.jsf?idDoc=2100895\n",
            "Documento 16:\n",
            "\tTipo do Documento: DESPACHO\n",
            "\tData do Documento: 09/03/2022\n",
            "\tOrigem: CAP/SRH (11.00.15.05.01)\n",
            "\tNatureza: OSTENSIVO\n",
            "\tLink_Documento: https://www.sipac.ufpi.br/public/jsp/processos/documento_visualizacao.jsf?idDoc=2112915\n",
            "Documento 17:\n",
            "\tTipo do Documento: DESPACHO\n",
            "\tData do Documento: 10/03/2022\n",
            "\tOrigem: CDP/SRH (11.00.15.05.02)\n",
            "\tNatureza: ?\n",
            "\tLink_Documento: https://www.sipac.ufpi.br/public/jsp/processos/documento_visualizacao.jsf?idDoc=2113947\n",
            "Documento 18:\n",
            "\tTipo do Documento: DESPACHO\n",
            "\tData do Documento: 22/03/2022\n",
            "\tOrigem: SRH (11.04)\n",
            "\tNatureza: OSTENSIVO\n",
            "\tLink_Documento: https://www.sipac.ufpi.br/public/jsp/processos/documento_visualizacao.jsf?idDoc=2123086\n",
            "Documento 19:\n",
            "\tTipo do Documento: DESPACHO\n",
            "\tData do Documento: 03/04/2022\n",
            "\tOrigem: PRPG (11.07)\n",
            "\tNatureza: ?\n",
            "\tLink_Documento: https://www.sipac.ufpi.br/public/jsp/processos/documento_visualizacao.jsf?idDoc=2131977\n",
            "Documento 20:\n",
            "\tTipo do Documento: DESPACHO\n",
            "\tData do Documento: 04/04/2022\n",
            "\tOrigem: CPSS/PRPG (11.07.01)\n",
            "\tNatureza: OSTENSIVO\n",
            "\tLink_Documento: https://www.sipac.ufpi.br/public/jsp/processos/documento_visualizacao.jsf?idDoc=2132849\n",
            "Documento 21:\n",
            "\tTipo do Documento: DESPACHO\n",
            "\tData do Documento: 10/04/2022\n",
            "\tOrigem: PRPG (11.07)\n",
            "\tNatureza: ?\n",
            "\tLink_Documento: https://www.sipac.ufpi.br/public/jsp/processos/documento_visualizacao.jsf?idDoc=2137177\n",
            "Documento 22:\n",
            "\tTipo do Documento: DESPACHO\n",
            "\tData do Documento: 12/04/2022\n",
            "\tOrigem: CPPD (11.00.05)\n",
            "\tNatureza: OSTENSIVO\n",
            "\tLink_Documento: https://www.sipac.ufpi.br/public/downloadArquivo?idArquivo=4444426&key=79da6d9d6f3a61d2ab09521e47030c94\n",
            "Documento 23:\n",
            "\tTipo do Documento: DESPACHO\n",
            "\tData do Documento: 13/04/2022\n",
            "\tOrigem: GAB (11.00.01)\n",
            "\tNatureza: OSTENSIVO\n",
            "\tLink_Documento: https://www.sipac.ufpi.br/public/jsp/processos/documento_visualizacao.jsf?idDoc=2140367\n",
            "Documento 24:\n",
            "\tTipo do Documento: ATO DA REITORIA\n",
            "\tData do Documento: 13/04/2022\n",
            "\tOrigem: GAB (11.00.01)\n",
            "\tNatureza: OSTENSIVO\n",
            "\tLink_Documento: https://www.sipac.ufpi.br/public/downloadArquivo?idArquivo=4459625&key=7d17f3154594c95f9219653d987d6153\n",
            "Documento 25:\n",
            "\tTipo do Documento: DESPACHO\n",
            "\tData do Documento: 20/04/2022\n",
            "\tOrigem: SECADM (11.00.01.04)\n",
            "\tNatureza: OSTENSIVO\n",
            "\tLink_Documento: https://www.sipac.ufpi.br/public/jsp/processos/documento_visualizacao.jsf?idDoc=2143262\n",
            "Documento 26:\n",
            "\tTipo do Documento: DESPACHO\n",
            "\tData do Documento: 20/04/2022\n",
            "\tOrigem: SRH (11.04)\n",
            "\tNatureza: ?\n",
            "\tLink_Documento: https://www.sipac.ufpi.br/public/jsp/processos/documento_visualizacao.jsf?idDoc=2143890\n",
            "Documento 27:\n",
            "\tTipo do Documento: DESPACHO\n",
            "\tData do Documento: 30/05/2022\n",
            "\tOrigem: CAP/SRH (11.00.15.05.01)\n",
            "\tNatureza: OSTENSIVO\n",
            "\tLink_Documento: https://www.sipac.ufpi.br/public/jsp/processos/documento_visualizacao.jsf?idDoc=2173688\n"
          ]
        }
      ]
    },
    {
      "cell_type": "markdown",
      "source": [
        "## Faz o download de um documento"
      ],
      "metadata": {
        "id": "xgGG76vwrTra"
      }
    },
    {
      "cell_type": "code",
      "source": [
        "import requests\n",
        "from tqdm import tqdm\n",
        "\n",
        "def download_documento(id_documento):\n",
        "  try:\n",
        "    link = documentos_processo[id_documento]['Link_Documento']\n",
        "    request_documento_processo = requests.get(url=link)\n",
        "    if request_documento_processo.status_code == 200:\n",
        "      if 'downloadArquivo' in link:\n",
        "        with open(f'd{id_documento}.pdf', 'wb') as file:\n",
        "          file.write(request_documento_processo.content)\n",
        "      else:\n",
        "        with open(f'd{id_documento}.html', 'wb') as file:\n",
        "          file.write(request_documento_processo.content)\n",
        "    else:\n",
        "      raise ValueError(f\"Erro ao tentar fazer o download do documento: status_code: {request_documento_processo.status_code}\")\n",
        "  except:\n",
        "    raise ValueError(f\"Erro ao tentar fazer o download do documento: {id_documento}\")"
      ],
      "metadata": {
        "id": "9_RY-wKX9Ino"
      },
      "execution_count": 29,
      "outputs": []
    },
    {
      "cell_type": "code",
      "source": [
        "# Faz o download de todos os arquivos do documentos_processo\n",
        "# usa uma barra de progresso para acompanhar o progresso dos downloads\n",
        "print('Aguarde...')\n",
        "with tqdm(total=len(documentos_processo)) as pbar:\n",
        "  for id_documento in documentos_processo.keys():\n",
        "    try:\n",
        "      download_documento(id_documento)\n",
        "      pbar.update(1)\n",
        "      tqdm.write(f\"Documento {id_documento} baixado com sucesso\")\n",
        "    except:\n",
        "      tqdm.write(f\"Erro ao tentar baixar o documento {id_documento}\")"
      ],
      "metadata": {
        "colab": {
          "base_uri": "https://localhost:8080/"
        },
        "id": "QbHT3OJW3u9d",
        "outputId": "ef17d3fd-c10b-4f35-b6e2-c022c5c72c5c"
      },
      "execution_count": 30,
      "outputs": [
        {
          "output_type": "stream",
          "name": "stdout",
          "text": [
            "Aguarde...\n"
          ]
        },
        {
          "output_type": "stream",
          "name": "stderr",
          "text": [
            "  4%|▎         | 1/27 [00:03<01:25,  3.29s/it]"
          ]
        },
        {
          "output_type": "stream",
          "name": "stdout",
          "text": [
            "Documento 1 baixado com sucesso\n"
          ]
        },
        {
          "output_type": "stream",
          "name": "stderr",
          "text": [
            "  7%|▋         | 2/27 [00:04<00:57,  2.30s/it]"
          ]
        },
        {
          "output_type": "stream",
          "name": "stdout",
          "text": [
            "Documento 2 baixado com sucesso\n"
          ]
        },
        {
          "output_type": "stream",
          "name": "stderr",
          "text": [
            " 11%|█         | 3/27 [00:05<00:41,  1.72s/it]"
          ]
        },
        {
          "output_type": "stream",
          "name": "stdout",
          "text": [
            "Documento 3 baixado com sucesso\n"
          ]
        },
        {
          "output_type": "stream",
          "name": "stderr",
          "text": [
            " 15%|█▍        | 4/27 [00:06<00:33,  1.45s/it]"
          ]
        },
        {
          "output_type": "stream",
          "name": "stdout",
          "text": [
            "Documento 4 baixado com sucesso\n"
          ]
        },
        {
          "output_type": "stream",
          "name": "stderr",
          "text": [
            " 19%|█▊        | 5/27 [00:08<00:30,  1.41s/it]"
          ]
        },
        {
          "output_type": "stream",
          "name": "stdout",
          "text": [
            "Documento 5 baixado com sucesso\n"
          ]
        },
        {
          "output_type": "stream",
          "name": "stderr",
          "text": [
            " 22%|██▏       | 6/27 [00:09<00:26,  1.28s/it]"
          ]
        },
        {
          "output_type": "stream",
          "name": "stdout",
          "text": [
            "Documento 6 baixado com sucesso\n"
          ]
        },
        {
          "output_type": "stream",
          "name": "stderr",
          "text": [
            " 26%|██▌       | 7/27 [00:10<00:23,  1.20s/it]"
          ]
        },
        {
          "output_type": "stream",
          "name": "stdout",
          "text": [
            "Documento 7 baixado com sucesso\n"
          ]
        },
        {
          "output_type": "stream",
          "name": "stderr",
          "text": [
            " 30%|██▉       | 8/27 [00:13<00:35,  1.87s/it]"
          ]
        },
        {
          "output_type": "stream",
          "name": "stdout",
          "text": [
            "Documento 8 baixado com sucesso\n"
          ]
        },
        {
          "output_type": "stream",
          "name": "stderr",
          "text": [
            " 33%|███▎      | 9/27 [00:14<00:28,  1.61s/it]"
          ]
        },
        {
          "output_type": "stream",
          "name": "stdout",
          "text": [
            "Documento 9 baixado com sucesso\n"
          ]
        },
        {
          "output_type": "stream",
          "name": "stderr",
          "text": [
            " 37%|███▋      | 10/27 [00:15<00:24,  1.43s/it]"
          ]
        },
        {
          "output_type": "stream",
          "name": "stdout",
          "text": [
            "Documento 10 baixado com sucesso\n"
          ]
        },
        {
          "output_type": "stream",
          "name": "stderr",
          "text": [
            " 41%|████      | 11/27 [00:16<00:20,  1.31s/it]"
          ]
        },
        {
          "output_type": "stream",
          "name": "stdout",
          "text": [
            "Documento 11 baixado com sucesso\n"
          ]
        },
        {
          "output_type": "stream",
          "name": "stderr",
          "text": [
            " 44%|████▍     | 12/27 [00:17<00:18,  1.22s/it]"
          ]
        },
        {
          "output_type": "stream",
          "name": "stdout",
          "text": [
            "Documento 12 baixado com sucesso\n"
          ]
        },
        {
          "output_type": "stream",
          "name": "stderr",
          "text": [
            " 48%|████▊     | 13/27 [00:18<00:16,  1.17s/it]"
          ]
        },
        {
          "output_type": "stream",
          "name": "stdout",
          "text": [
            "Documento 13 baixado com sucesso\n"
          ]
        },
        {
          "output_type": "stream",
          "name": "stderr",
          "text": [
            " 52%|█████▏    | 14/27 [00:19<00:14,  1.12s/it]"
          ]
        },
        {
          "output_type": "stream",
          "name": "stdout",
          "text": [
            "Documento 14 baixado com sucesso\n"
          ]
        },
        {
          "output_type": "stream",
          "name": "stderr",
          "text": [
            " 56%|█████▌    | 15/27 [00:20<00:13,  1.10s/it]"
          ]
        },
        {
          "output_type": "stream",
          "name": "stdout",
          "text": [
            "Documento 15 baixado com sucesso\n"
          ]
        },
        {
          "output_type": "stream",
          "name": "stderr",
          "text": [
            " 59%|█████▉    | 16/27 [00:21<00:11,  1.07s/it]"
          ]
        },
        {
          "output_type": "stream",
          "name": "stdout",
          "text": [
            "Documento 16 baixado com sucesso\n"
          ]
        },
        {
          "output_type": "stream",
          "name": "stderr",
          "text": [
            " 63%|██████▎   | 17/27 [00:22<00:10,  1.06s/it]"
          ]
        },
        {
          "output_type": "stream",
          "name": "stdout",
          "text": [
            "Documento 17 baixado com sucesso\n"
          ]
        },
        {
          "output_type": "stream",
          "name": "stderr",
          "text": [
            " 67%|██████▋   | 18/27 [00:23<00:09,  1.05s/it]"
          ]
        },
        {
          "output_type": "stream",
          "name": "stdout",
          "text": [
            "Documento 18 baixado com sucesso\n"
          ]
        },
        {
          "output_type": "stream",
          "name": "stderr",
          "text": [
            " 70%|███████   | 19/27 [00:24<00:08,  1.04s/it]"
          ]
        },
        {
          "output_type": "stream",
          "name": "stdout",
          "text": [
            "Documento 19 baixado com sucesso\n"
          ]
        },
        {
          "output_type": "stream",
          "name": "stderr",
          "text": [
            " 74%|███████▍  | 20/27 [00:26<00:07,  1.04s/it]"
          ]
        },
        {
          "output_type": "stream",
          "name": "stdout",
          "text": [
            "Documento 20 baixado com sucesso\n"
          ]
        },
        {
          "output_type": "stream",
          "name": "stderr",
          "text": [
            " 78%|███████▊  | 21/27 [00:27<00:06,  1.03s/it]"
          ]
        },
        {
          "output_type": "stream",
          "name": "stdout",
          "text": [
            "Documento 21 baixado com sucesso\n"
          ]
        },
        {
          "output_type": "stream",
          "name": "stderr",
          "text": [
            " 81%|████████▏ | 22/27 [00:30<00:08,  1.73s/it]"
          ]
        },
        {
          "output_type": "stream",
          "name": "stdout",
          "text": [
            "Documento 22 baixado com sucesso\n"
          ]
        },
        {
          "output_type": "stream",
          "name": "stderr",
          "text": [
            " 85%|████████▌ | 23/27 [00:31<00:06,  1.52s/it]"
          ]
        },
        {
          "output_type": "stream",
          "name": "stdout",
          "text": [
            "Documento 23 baixado com sucesso\n"
          ]
        },
        {
          "output_type": "stream",
          "name": "stderr",
          "text": [
            " 89%|████████▉ | 24/27 [00:33<00:05,  1.76s/it]"
          ]
        },
        {
          "output_type": "stream",
          "name": "stdout",
          "text": [
            "Documento 24 baixado com sucesso\n"
          ]
        },
        {
          "output_type": "stream",
          "name": "stderr",
          "text": [
            " 93%|█████████▎| 25/27 [00:35<00:03,  1.72s/it]"
          ]
        },
        {
          "output_type": "stream",
          "name": "stdout",
          "text": [
            "Documento 25 baixado com sucesso\n"
          ]
        },
        {
          "output_type": "stream",
          "name": "stderr",
          "text": [
            " 96%|█████████▋| 26/27 [00:36<00:01,  1.51s/it]"
          ]
        },
        {
          "output_type": "stream",
          "name": "stdout",
          "text": [
            "Documento 26 baixado com sucesso\n"
          ]
        },
        {
          "output_type": "stream",
          "name": "stderr",
          "text": [
            "100%|██████████| 27/27 [00:37<00:00,  1.39s/it]"
          ]
        },
        {
          "output_type": "stream",
          "name": "stdout",
          "text": [
            "Documento 27 baixado com sucesso\n"
          ]
        },
        {
          "output_type": "stream",
          "name": "stderr",
          "text": [
            "\n"
          ]
        }
      ]
    },
    {
      "cell_type": "markdown",
      "source": [
        "## Extrai os dados da movimentação de um processo"
      ],
      "metadata": {
        "id": "L1u-vYKyFEUD"
      }
    },
    {
      "cell_type": "code",
      "source": [
        "URL_MOVIMENTACAO = 'https://raw.githubusercontent.com/armandossrecife/teste/refs/heads/main/dadosp.html'"
      ],
      "metadata": {
        "id": "XH-7VVvQBM43"
      },
      "execution_count": 31,
      "outputs": []
    },
    {
      "cell_type": "code",
      "source": [
        "from bs4 import BeautifulSoup\n",
        "import csv\n",
        "import pandas as pd\n",
        "\n",
        "# URL of the HTML page containing the table\n",
        "url = URL_MOVIMENTACAO\n",
        "\n",
        "# Download the HTML content\n",
        "response = requests.get(url)\n",
        "html_content = response.content\n",
        "\n",
        "# Parse the HTML content using BeautifulSoup\n",
        "soup = BeautifulSoup(html_content, \"html.parser\")\n",
        "\n",
        "# Find  the table element\n",
        "table = soup.find(\"table\", class_=\"subListagem\")\n",
        "\n",
        "# Extract the table headers\n",
        "headers = [th.text.strip() for th in table.find(\"thead\").find_all(\"th\")]\n",
        "\n",
        "# Extract the table data\n",
        "data = []\n",
        "for row in table.find(\"tbody\").find_all(\"tr\"):\n",
        "    row_data = [td.text.strip() for td in row.find_all(\"td\")]\n",
        "    data.append(row_data)\n",
        "\n",
        "# Save the data to a CSV file\n",
        "with open(\"table_data.csv\", \"w\", newline=\"\") as csvfile:\n",
        "    csv_writer = csv.writer(csvfile)\n",
        "    csv_writer.writerow(headers)\n",
        "    csv_writer.writerows(data)\n",
        "\n",
        "print(\"Data extracted and saved to table_data.csv\")\n",
        "\n",
        "df_dados_movimentcao = pd.read_csv('table_data.csv')\n",
        "\n",
        "df_dados_limpos = df_dados_movimentcao.dropna()\n",
        "df_dados_limpos.head(24)"
      ],
      "metadata": {
        "colab": {
          "base_uri": "https://localhost:8080/",
          "height": 820
        },
        "id": "90MmPi0lBRsc",
        "outputId": "bb9396a0-da63-4d24-f746-1e487772c634"
      },
      "execution_count": 36,
      "outputs": [
        {
          "output_type": "stream",
          "name": "stdout",
          "text": [
            "Data extracted and saved to table_data.csv\n"
          ]
        },
        {
          "output_type": "execute_result",
          "data": {
            "text/plain": [
              "         Data Origem                                     Unidade Origem  \\\n",
              "0   22/12/2021 11:23  DIVISAO DE PROTOCOLO E DOCUMENTACAO/PRAD (11.0...   \n",
              "3   28/12/2021 15:25       DEPARTAMENTO DE COMPUTAÇÃO/CCN (11.00.24.05)   \n",
              "6   28/12/2021 16:15          CENTRO DE CIENCIAS DA NATUREZA (11.00.24)   \n",
              "9   04/01/2022 14:40       DEPARTAMENTO DE COMPUTAÇÃO/CCN (11.00.24.05)   \n",
              "12  12/01/2022 09:26          CENTRO DE CIENCIAS DA NATUREZA (11.00.24)   \n",
              "15  12/01/2022 14:12                      GABINETE DO REITOR (11.00.01)   \n",
              "18  12/01/2022 14:37          CENTRO DE CIENCIAS DA NATUREZA (11.00.24)   \n",
              "21  14/01/2022 10:29                      GABINETE DO REITOR (11.00.01)   \n",
              "24  15/02/2022 12:23    SECRETARIA DOS CONSELHOS/GABINETE (11.00.01.03)   \n",
              "27  15/02/2022 12:30                      GABINETE DO REITOR (11.00.01)   \n",
              "30  15/02/2022 23:11    PRO-REITORIA DE ENSINO DE POS-GRADUAÇAO (11.07)   \n",
              "33  17/02/2022 12:27  COORDENADORIA DE PROGRAMAS STRICTO SENSU/PRPG ...   \n",
              "36  22/02/2022 12:02       SUPERINTENDÊNCIA DE RECURSOS HUMANOS (11.04)   \n",
              "39  09/03/2022 16:57  COORDENAÇÃO DE ADMINISTRACAO DE PESSOAL/SRH (1...   \n",
              "42  10/03/2022 16:25  COORDENAÇÃO DE DESENV. DE PESSOAS/SRH (11.00.1...   \n",
              "45  23/03/2022 16:17       SUPERINTENDÊNCIA DE RECURSOS HUMANOS (11.04)   \n",
              "48  03/04/2022 22:41    PRO-REITORIA DE ENSINO DE POS-GRADUAÇAO (11.07)   \n",
              "51  05/04/2022 10:46  COORDENADORIA DE PROGRAMAS STRICTO SENSU/PRPG ...   \n",
              "54  10/04/2022 23:49    PRO-REITORIA DE ENSINO DE POS-GRADUAÇAO (11.07)   \n",
              "57  12/04/2022 14:19  COMISSAO PERMANENTE DE PESSOAL DOCENTE (11.00.05)   \n",
              "60  13/04/2022 14:50                      GABINETE DO REITOR (11.00.01)   \n",
              "63  20/04/2022 09:51  SECRETARIA ADMINISTRATIVA - REITORIA (11.00.01...   \n",
              "66  20/04/2022 16:52       SUPERINTENDÊNCIA DE RECURSOS HUMANOS (11.04)   \n",
              "69  30/05/2022 10:35  COORDENAÇÃO DE ADMINISTRACAO DE PESSOAL/SRH (1...   \n",
              "\n",
              "                                      Unidade Destino       Enviado Por  \\\n",
              "0        DEPARTAMENTO DE COMPUTAÇÃO/CCN (11.00.24.05)  luisgustavoviana   \n",
              "3           CENTRO DE CIENCIAS DA NATUREZA (11.00.24)   lucas.alexander   \n",
              "6        DEPARTAMENTO DE COMPUTAÇÃO/CCN (11.00.24.05)            elvina   \n",
              "9           CENTRO DE CIENCIAS DA NATUREZA (11.00.24)   lucas.alexander   \n",
              "12                      GABINETE DO REITOR (11.00.01)       anakarolina   \n",
              "15          CENTRO DE CIENCIAS DA NATUREZA (11.00.24)          priscila   \n",
              "18                      GABINETE DO REITOR (11.00.01)       anakarolina   \n",
              "21    SECRETARIA DOS CONSELHOS/GABINETE (11.00.01.03)    roberlaneaufpi   \n",
              "24                      GABINETE DO REITOR (11.00.01)          l1630135   \n",
              "27    PRO-REITORIA DE ENSINO DE POS-GRADUAÇAO (11.07)          carminda   \n",
              "30  COORDENADORIA DE PROGRAMAS STRICTO SENSU/PRPG ...           regilda   \n",
              "33       SUPERINTENDÊNCIA DE RECURSOS HUMANOS (11.04)    keilaemanuelle   \n",
              "36  COORDENAÇÃO DE ADMINISTRACAO DE PESSOAL/SRH (1...  matheussspindola   \n",
              "39  COORDENAÇÃO DE DESENV. DE PESSOAS/SRH (11.00.1...      hellenkellen   \n",
              "42       SUPERINTENDÊNCIA DE RECURSOS HUMANOS (11.04)         filipepaz   \n",
              "45    PRO-REITORIA DE ENSINO DE POS-GRADUAÇAO (11.07)  matheussspindola   \n",
              "48  COORDENADORIA DE PROGRAMAS STRICTO SENSU/PRPG ...           regilda   \n",
              "51    PRO-REITORIA DE ENSINO DE POS-GRADUAÇAO (11.07)    keilaemanuelle   \n",
              "54  COMISSAO PERMANENTE DE PESSOAL DOCENTE (11.00.05)           regilda   \n",
              "57                      GABINETE DO REITOR (11.00.01)           tarciso   \n",
              "60  SECRETARIA ADMINISTRATIVA - REITORIA (11.00.01...     wanessalive34   \n",
              "63       SUPERINTENDÊNCIA DE RECURSOS HUMANOS (11.04)             janio   \n",
              "66  COORDENAÇÃO DE ADMINISTRACAO DE PESSOAL/SRH (1...  matheussspindola   \n",
              "69  DIVISÃO DE ARQUIVO E MICROFILMAGEM/PRAD (11.00...           hellyne   \n",
              "\n",
              "         Recebido Em       Recebido Por  \n",
              "0   28/12/2021 12:35    lucas.alexander  \n",
              "3   28/12/2021 15:45             elvina  \n",
              "6   29/12/2021 10:07    lucas.alexander  \n",
              "9   04/01/2022 15:46             elvina  \n",
              "12  12/01/2022 09:48     roberlaneaufpi  \n",
              "15  12/01/2022 14:14        anakarolina  \n",
              "18  12/01/2022 17:38      wanessalive34  \n",
              "21  24/01/2022 10:01           cardozzo  \n",
              "24  15/02/2022 12:27           carminda  \n",
              "27  15/02/2022 23:07            regilda  \n",
              "30  16/02/2022 00:19  franciscohistoria  \n",
              "33  17/02/2022 17:06   matheussspindola  \n",
              "36  22/02/2022 15:17        dianajoao01  \n",
              "39  10/03/2022 15:45          filipepaz  \n",
              "42  15/03/2022 16:41   matheussspindola  \n",
              "45  03/04/2022 22:34            regilda  \n",
              "48  03/04/2022 23:00  franciscohistoria  \n",
              "51  10/04/2022 23:45            regilda  \n",
              "54  11/04/2022 09:25            tarciso  \n",
              "57  12/04/2022 14:43     roberlaneaufpi  \n",
              "60  19/04/2022 09:13              janio  \n",
              "63  20/04/2022 16:48   matheussspindola  \n",
              "66  25/04/2022 08:50     castrodaiana17  \n",
              "69  30/05/2022 10:50       joaobliborio  "
            ],
            "text/html": [
              "\n",
              "  <div id=\"df-eb821d4b-9de0-4911-b66f-160bb3d7005d\" class=\"colab-df-container\">\n",
              "    <div>\n",
              "<style scoped>\n",
              "    .dataframe tbody tr th:only-of-type {\n",
              "        vertical-align: middle;\n",
              "    }\n",
              "\n",
              "    .dataframe tbody tr th {\n",
              "        vertical-align: top;\n",
              "    }\n",
              "\n",
              "    .dataframe thead th {\n",
              "        text-align: right;\n",
              "    }\n",
              "</style>\n",
              "<table border=\"1\" class=\"dataframe\">\n",
              "  <thead>\n",
              "    <tr style=\"text-align: right;\">\n",
              "      <th></th>\n",
              "      <th>Data Origem</th>\n",
              "      <th>Unidade Origem</th>\n",
              "      <th>Unidade Destino</th>\n",
              "      <th>Enviado Por</th>\n",
              "      <th>Recebido Em</th>\n",
              "      <th>Recebido Por</th>\n",
              "    </tr>\n",
              "  </thead>\n",
              "  <tbody>\n",
              "    <tr>\n",
              "      <th>0</th>\n",
              "      <td>22/12/2021 11:23</td>\n",
              "      <td>DIVISAO DE PROTOCOLO E DOCUMENTACAO/PRAD (11.0...</td>\n",
              "      <td>DEPARTAMENTO DE COMPUTAÇÃO/CCN (11.00.24.05)</td>\n",
              "      <td>luisgustavoviana</td>\n",
              "      <td>28/12/2021 12:35</td>\n",
              "      <td>lucas.alexander</td>\n",
              "    </tr>\n",
              "    <tr>\n",
              "      <th>3</th>\n",
              "      <td>28/12/2021 15:25</td>\n",
              "      <td>DEPARTAMENTO DE COMPUTAÇÃO/CCN (11.00.24.05)</td>\n",
              "      <td>CENTRO DE CIENCIAS DA NATUREZA (11.00.24)</td>\n",
              "      <td>lucas.alexander</td>\n",
              "      <td>28/12/2021 15:45</td>\n",
              "      <td>elvina</td>\n",
              "    </tr>\n",
              "    <tr>\n",
              "      <th>6</th>\n",
              "      <td>28/12/2021 16:15</td>\n",
              "      <td>CENTRO DE CIENCIAS DA NATUREZA (11.00.24)</td>\n",
              "      <td>DEPARTAMENTO DE COMPUTAÇÃO/CCN (11.00.24.05)</td>\n",
              "      <td>elvina</td>\n",
              "      <td>29/12/2021 10:07</td>\n",
              "      <td>lucas.alexander</td>\n",
              "    </tr>\n",
              "    <tr>\n",
              "      <th>9</th>\n",
              "      <td>04/01/2022 14:40</td>\n",
              "      <td>DEPARTAMENTO DE COMPUTAÇÃO/CCN (11.00.24.05)</td>\n",
              "      <td>CENTRO DE CIENCIAS DA NATUREZA (11.00.24)</td>\n",
              "      <td>lucas.alexander</td>\n",
              "      <td>04/01/2022 15:46</td>\n",
              "      <td>elvina</td>\n",
              "    </tr>\n",
              "    <tr>\n",
              "      <th>12</th>\n",
              "      <td>12/01/2022 09:26</td>\n",
              "      <td>CENTRO DE CIENCIAS DA NATUREZA (11.00.24)</td>\n",
              "      <td>GABINETE DO REITOR (11.00.01)</td>\n",
              "      <td>anakarolina</td>\n",
              "      <td>12/01/2022 09:48</td>\n",
              "      <td>roberlaneaufpi</td>\n",
              "    </tr>\n",
              "    <tr>\n",
              "      <th>15</th>\n",
              "      <td>12/01/2022 14:12</td>\n",
              "      <td>GABINETE DO REITOR (11.00.01)</td>\n",
              "      <td>CENTRO DE CIENCIAS DA NATUREZA (11.00.24)</td>\n",
              "      <td>priscila</td>\n",
              "      <td>12/01/2022 14:14</td>\n",
              "      <td>anakarolina</td>\n",
              "    </tr>\n",
              "    <tr>\n",
              "      <th>18</th>\n",
              "      <td>12/01/2022 14:37</td>\n",
              "      <td>CENTRO DE CIENCIAS DA NATUREZA (11.00.24)</td>\n",
              "      <td>GABINETE DO REITOR (11.00.01)</td>\n",
              "      <td>anakarolina</td>\n",
              "      <td>12/01/2022 17:38</td>\n",
              "      <td>wanessalive34</td>\n",
              "    </tr>\n",
              "    <tr>\n",
              "      <th>21</th>\n",
              "      <td>14/01/2022 10:29</td>\n",
              "      <td>GABINETE DO REITOR (11.00.01)</td>\n",
              "      <td>SECRETARIA DOS CONSELHOS/GABINETE (11.00.01.03)</td>\n",
              "      <td>roberlaneaufpi</td>\n",
              "      <td>24/01/2022 10:01</td>\n",
              "      <td>cardozzo</td>\n",
              "    </tr>\n",
              "    <tr>\n",
              "      <th>24</th>\n",
              "      <td>15/02/2022 12:23</td>\n",
              "      <td>SECRETARIA DOS CONSELHOS/GABINETE (11.00.01.03)</td>\n",
              "      <td>GABINETE DO REITOR (11.00.01)</td>\n",
              "      <td>l1630135</td>\n",
              "      <td>15/02/2022 12:27</td>\n",
              "      <td>carminda</td>\n",
              "    </tr>\n",
              "    <tr>\n",
              "      <th>27</th>\n",
              "      <td>15/02/2022 12:30</td>\n",
              "      <td>GABINETE DO REITOR (11.00.01)</td>\n",
              "      <td>PRO-REITORIA DE ENSINO DE POS-GRADUAÇAO (11.07)</td>\n",
              "      <td>carminda</td>\n",
              "      <td>15/02/2022 23:07</td>\n",
              "      <td>regilda</td>\n",
              "    </tr>\n",
              "    <tr>\n",
              "      <th>30</th>\n",
              "      <td>15/02/2022 23:11</td>\n",
              "      <td>PRO-REITORIA DE ENSINO DE POS-GRADUAÇAO (11.07)</td>\n",
              "      <td>COORDENADORIA DE PROGRAMAS STRICTO SENSU/PRPG ...</td>\n",
              "      <td>regilda</td>\n",
              "      <td>16/02/2022 00:19</td>\n",
              "      <td>franciscohistoria</td>\n",
              "    </tr>\n",
              "    <tr>\n",
              "      <th>33</th>\n",
              "      <td>17/02/2022 12:27</td>\n",
              "      <td>COORDENADORIA DE PROGRAMAS STRICTO SENSU/PRPG ...</td>\n",
              "      <td>SUPERINTENDÊNCIA DE RECURSOS HUMANOS (11.04)</td>\n",
              "      <td>keilaemanuelle</td>\n",
              "      <td>17/02/2022 17:06</td>\n",
              "      <td>matheussspindola</td>\n",
              "    </tr>\n",
              "    <tr>\n",
              "      <th>36</th>\n",
              "      <td>22/02/2022 12:02</td>\n",
              "      <td>SUPERINTENDÊNCIA DE RECURSOS HUMANOS (11.04)</td>\n",
              "      <td>COORDENAÇÃO DE ADMINISTRACAO DE PESSOAL/SRH (1...</td>\n",
              "      <td>matheussspindola</td>\n",
              "      <td>22/02/2022 15:17</td>\n",
              "      <td>dianajoao01</td>\n",
              "    </tr>\n",
              "    <tr>\n",
              "      <th>39</th>\n",
              "      <td>09/03/2022 16:57</td>\n",
              "      <td>COORDENAÇÃO DE ADMINISTRACAO DE PESSOAL/SRH (1...</td>\n",
              "      <td>COORDENAÇÃO DE DESENV. DE PESSOAS/SRH (11.00.1...</td>\n",
              "      <td>hellenkellen</td>\n",
              "      <td>10/03/2022 15:45</td>\n",
              "      <td>filipepaz</td>\n",
              "    </tr>\n",
              "    <tr>\n",
              "      <th>42</th>\n",
              "      <td>10/03/2022 16:25</td>\n",
              "      <td>COORDENAÇÃO DE DESENV. DE PESSOAS/SRH (11.00.1...</td>\n",
              "      <td>SUPERINTENDÊNCIA DE RECURSOS HUMANOS (11.04)</td>\n",
              "      <td>filipepaz</td>\n",
              "      <td>15/03/2022 16:41</td>\n",
              "      <td>matheussspindola</td>\n",
              "    </tr>\n",
              "    <tr>\n",
              "      <th>45</th>\n",
              "      <td>23/03/2022 16:17</td>\n",
              "      <td>SUPERINTENDÊNCIA DE RECURSOS HUMANOS (11.04)</td>\n",
              "      <td>PRO-REITORIA DE ENSINO DE POS-GRADUAÇAO (11.07)</td>\n",
              "      <td>matheussspindola</td>\n",
              "      <td>03/04/2022 22:34</td>\n",
              "      <td>regilda</td>\n",
              "    </tr>\n",
              "    <tr>\n",
              "      <th>48</th>\n",
              "      <td>03/04/2022 22:41</td>\n",
              "      <td>PRO-REITORIA DE ENSINO DE POS-GRADUAÇAO (11.07)</td>\n",
              "      <td>COORDENADORIA DE PROGRAMAS STRICTO SENSU/PRPG ...</td>\n",
              "      <td>regilda</td>\n",
              "      <td>03/04/2022 23:00</td>\n",
              "      <td>franciscohistoria</td>\n",
              "    </tr>\n",
              "    <tr>\n",
              "      <th>51</th>\n",
              "      <td>05/04/2022 10:46</td>\n",
              "      <td>COORDENADORIA DE PROGRAMAS STRICTO SENSU/PRPG ...</td>\n",
              "      <td>PRO-REITORIA DE ENSINO DE POS-GRADUAÇAO (11.07)</td>\n",
              "      <td>keilaemanuelle</td>\n",
              "      <td>10/04/2022 23:45</td>\n",
              "      <td>regilda</td>\n",
              "    </tr>\n",
              "    <tr>\n",
              "      <th>54</th>\n",
              "      <td>10/04/2022 23:49</td>\n",
              "      <td>PRO-REITORIA DE ENSINO DE POS-GRADUAÇAO (11.07)</td>\n",
              "      <td>COMISSAO PERMANENTE DE PESSOAL DOCENTE (11.00.05)</td>\n",
              "      <td>regilda</td>\n",
              "      <td>11/04/2022 09:25</td>\n",
              "      <td>tarciso</td>\n",
              "    </tr>\n",
              "    <tr>\n",
              "      <th>57</th>\n",
              "      <td>12/04/2022 14:19</td>\n",
              "      <td>COMISSAO PERMANENTE DE PESSOAL DOCENTE (11.00.05)</td>\n",
              "      <td>GABINETE DO REITOR (11.00.01)</td>\n",
              "      <td>tarciso</td>\n",
              "      <td>12/04/2022 14:43</td>\n",
              "      <td>roberlaneaufpi</td>\n",
              "    </tr>\n",
              "    <tr>\n",
              "      <th>60</th>\n",
              "      <td>13/04/2022 14:50</td>\n",
              "      <td>GABINETE DO REITOR (11.00.01)</td>\n",
              "      <td>SECRETARIA ADMINISTRATIVA - REITORIA (11.00.01...</td>\n",
              "      <td>wanessalive34</td>\n",
              "      <td>19/04/2022 09:13</td>\n",
              "      <td>janio</td>\n",
              "    </tr>\n",
              "    <tr>\n",
              "      <th>63</th>\n",
              "      <td>20/04/2022 09:51</td>\n",
              "      <td>SECRETARIA ADMINISTRATIVA - REITORIA (11.00.01...</td>\n",
              "      <td>SUPERINTENDÊNCIA DE RECURSOS HUMANOS (11.04)</td>\n",
              "      <td>janio</td>\n",
              "      <td>20/04/2022 16:48</td>\n",
              "      <td>matheussspindola</td>\n",
              "    </tr>\n",
              "    <tr>\n",
              "      <th>66</th>\n",
              "      <td>20/04/2022 16:52</td>\n",
              "      <td>SUPERINTENDÊNCIA DE RECURSOS HUMANOS (11.04)</td>\n",
              "      <td>COORDENAÇÃO DE ADMINISTRACAO DE PESSOAL/SRH (1...</td>\n",
              "      <td>matheussspindola</td>\n",
              "      <td>25/04/2022 08:50</td>\n",
              "      <td>castrodaiana17</td>\n",
              "    </tr>\n",
              "    <tr>\n",
              "      <th>69</th>\n",
              "      <td>30/05/2022 10:35</td>\n",
              "      <td>COORDENAÇÃO DE ADMINISTRACAO DE PESSOAL/SRH (1...</td>\n",
              "      <td>DIVISÃO DE ARQUIVO E MICROFILMAGEM/PRAD (11.00...</td>\n",
              "      <td>hellyne</td>\n",
              "      <td>30/05/2022 10:50</td>\n",
              "      <td>joaobliborio</td>\n",
              "    </tr>\n",
              "  </tbody>\n",
              "</table>\n",
              "</div>\n",
              "    <div class=\"colab-df-buttons\">\n",
              "\n",
              "  <div class=\"colab-df-container\">\n",
              "    <button class=\"colab-df-convert\" onclick=\"convertToInteractive('df-eb821d4b-9de0-4911-b66f-160bb3d7005d')\"\n",
              "            title=\"Convert this dataframe to an interactive table.\"\n",
              "            style=\"display:none;\">\n",
              "\n",
              "  <svg xmlns=\"http://www.w3.org/2000/svg\" height=\"24px\" viewBox=\"0 -960 960 960\">\n",
              "    <path d=\"M120-120v-720h720v720H120Zm60-500h600v-160H180v160Zm220 220h160v-160H400v160Zm0 220h160v-160H400v160ZM180-400h160v-160H180v160Zm440 0h160v-160H620v160ZM180-180h160v-160H180v160Zm440 0h160v-160H620v160Z\"/>\n",
              "  </svg>\n",
              "    </button>\n",
              "\n",
              "  <style>\n",
              "    .colab-df-container {\n",
              "      display:flex;\n",
              "      gap: 12px;\n",
              "    }\n",
              "\n",
              "    .colab-df-convert {\n",
              "      background-color: #E8F0FE;\n",
              "      border: none;\n",
              "      border-radius: 50%;\n",
              "      cursor: pointer;\n",
              "      display: none;\n",
              "      fill: #1967D2;\n",
              "      height: 32px;\n",
              "      padding: 0 0 0 0;\n",
              "      width: 32px;\n",
              "    }\n",
              "\n",
              "    .colab-df-convert:hover {\n",
              "      background-color: #E2EBFA;\n",
              "      box-shadow: 0px 1px 2px rgba(60, 64, 67, 0.3), 0px 1px 3px 1px rgba(60, 64, 67, 0.15);\n",
              "      fill: #174EA6;\n",
              "    }\n",
              "\n",
              "    .colab-df-buttons div {\n",
              "      margin-bottom: 4px;\n",
              "    }\n",
              "\n",
              "    [theme=dark] .colab-df-convert {\n",
              "      background-color: #3B4455;\n",
              "      fill: #D2E3FC;\n",
              "    }\n",
              "\n",
              "    [theme=dark] .colab-df-convert:hover {\n",
              "      background-color: #434B5C;\n",
              "      box-shadow: 0px 1px 3px 1px rgba(0, 0, 0, 0.15);\n",
              "      filter: drop-shadow(0px 1px 2px rgba(0, 0, 0, 0.3));\n",
              "      fill: #FFFFFF;\n",
              "    }\n",
              "  </style>\n",
              "\n",
              "    <script>\n",
              "      const buttonEl =\n",
              "        document.querySelector('#df-eb821d4b-9de0-4911-b66f-160bb3d7005d button.colab-df-convert');\n",
              "      buttonEl.style.display =\n",
              "        google.colab.kernel.accessAllowed ? 'block' : 'none';\n",
              "\n",
              "      async function convertToInteractive(key) {\n",
              "        const element = document.querySelector('#df-eb821d4b-9de0-4911-b66f-160bb3d7005d');\n",
              "        const dataTable =\n",
              "          await google.colab.kernel.invokeFunction('convertToInteractive',\n",
              "                                                    [key], {});\n",
              "        if (!dataTable) return;\n",
              "\n",
              "        const docLinkHtml = 'Like what you see? Visit the ' +\n",
              "          '<a target=\"_blank\" href=https://colab.research.google.com/notebooks/data_table.ipynb>data table notebook</a>'\n",
              "          + ' to learn more about interactive tables.';\n",
              "        element.innerHTML = '';\n",
              "        dataTable['output_type'] = 'display_data';\n",
              "        await google.colab.output.renderOutput(dataTable, element);\n",
              "        const docLink = document.createElement('div');\n",
              "        docLink.innerHTML = docLinkHtml;\n",
              "        element.appendChild(docLink);\n",
              "      }\n",
              "    </script>\n",
              "  </div>\n",
              "\n",
              "\n",
              "<div id=\"df-89c8f374-e1e0-4656-b15e-b379ddf66d40\">\n",
              "  <button class=\"colab-df-quickchart\" onclick=\"quickchart('df-89c8f374-e1e0-4656-b15e-b379ddf66d40')\"\n",
              "            title=\"Suggest charts\"\n",
              "            style=\"display:none;\">\n",
              "\n",
              "<svg xmlns=\"http://www.w3.org/2000/svg\" height=\"24px\"viewBox=\"0 0 24 24\"\n",
              "     width=\"24px\">\n",
              "    <g>\n",
              "        <path d=\"M19 3H5c-1.1 0-2 .9-2 2v14c0 1.1.9 2 2 2h14c1.1 0 2-.9 2-2V5c0-1.1-.9-2-2-2zM9 17H7v-7h2v7zm4 0h-2V7h2v10zm4 0h-2v-4h2v4z\"/>\n",
              "    </g>\n",
              "</svg>\n",
              "  </button>\n",
              "\n",
              "<style>\n",
              "  .colab-df-quickchart {\n",
              "      --bg-color: #E8F0FE;\n",
              "      --fill-color: #1967D2;\n",
              "      --hover-bg-color: #E2EBFA;\n",
              "      --hover-fill-color: #174EA6;\n",
              "      --disabled-fill-color: #AAA;\n",
              "      --disabled-bg-color: #DDD;\n",
              "  }\n",
              "\n",
              "  [theme=dark] .colab-df-quickchart {\n",
              "      --bg-color: #3B4455;\n",
              "      --fill-color: #D2E3FC;\n",
              "      --hover-bg-color: #434B5C;\n",
              "      --hover-fill-color: #FFFFFF;\n",
              "      --disabled-bg-color: #3B4455;\n",
              "      --disabled-fill-color: #666;\n",
              "  }\n",
              "\n",
              "  .colab-df-quickchart {\n",
              "    background-color: var(--bg-color);\n",
              "    border: none;\n",
              "    border-radius: 50%;\n",
              "    cursor: pointer;\n",
              "    display: none;\n",
              "    fill: var(--fill-color);\n",
              "    height: 32px;\n",
              "    padding: 0;\n",
              "    width: 32px;\n",
              "  }\n",
              "\n",
              "  .colab-df-quickchart:hover {\n",
              "    background-color: var(--hover-bg-color);\n",
              "    box-shadow: 0 1px 2px rgba(60, 64, 67, 0.3), 0 1px 3px 1px rgba(60, 64, 67, 0.15);\n",
              "    fill: var(--button-hover-fill-color);\n",
              "  }\n",
              "\n",
              "  .colab-df-quickchart-complete:disabled,\n",
              "  .colab-df-quickchart-complete:disabled:hover {\n",
              "    background-color: var(--disabled-bg-color);\n",
              "    fill: var(--disabled-fill-color);\n",
              "    box-shadow: none;\n",
              "  }\n",
              "\n",
              "  .colab-df-spinner {\n",
              "    border: 2px solid var(--fill-color);\n",
              "    border-color: transparent;\n",
              "    border-bottom-color: var(--fill-color);\n",
              "    animation:\n",
              "      spin 1s steps(1) infinite;\n",
              "  }\n",
              "\n",
              "  @keyframes spin {\n",
              "    0% {\n",
              "      border-color: transparent;\n",
              "      border-bottom-color: var(--fill-color);\n",
              "      border-left-color: var(--fill-color);\n",
              "    }\n",
              "    20% {\n",
              "      border-color: transparent;\n",
              "      border-left-color: var(--fill-color);\n",
              "      border-top-color: var(--fill-color);\n",
              "    }\n",
              "    30% {\n",
              "      border-color: transparent;\n",
              "      border-left-color: var(--fill-color);\n",
              "      border-top-color: var(--fill-color);\n",
              "      border-right-color: var(--fill-color);\n",
              "    }\n",
              "    40% {\n",
              "      border-color: transparent;\n",
              "      border-right-color: var(--fill-color);\n",
              "      border-top-color: var(--fill-color);\n",
              "    }\n",
              "    60% {\n",
              "      border-color: transparent;\n",
              "      border-right-color: var(--fill-color);\n",
              "    }\n",
              "    80% {\n",
              "      border-color: transparent;\n",
              "      border-right-color: var(--fill-color);\n",
              "      border-bottom-color: var(--fill-color);\n",
              "    }\n",
              "    90% {\n",
              "      border-color: transparent;\n",
              "      border-bottom-color: var(--fill-color);\n",
              "    }\n",
              "  }\n",
              "</style>\n",
              "\n",
              "  <script>\n",
              "    async function quickchart(key) {\n",
              "      const quickchartButtonEl =\n",
              "        document.querySelector('#' + key + ' button');\n",
              "      quickchartButtonEl.disabled = true;  // To prevent multiple clicks.\n",
              "      quickchartButtonEl.classList.add('colab-df-spinner');\n",
              "      try {\n",
              "        const charts = await google.colab.kernel.invokeFunction(\n",
              "            'suggestCharts', [key], {});\n",
              "      } catch (error) {\n",
              "        console.error('Error during call to suggestCharts:', error);\n",
              "      }\n",
              "      quickchartButtonEl.classList.remove('colab-df-spinner');\n",
              "      quickchartButtonEl.classList.add('colab-df-quickchart-complete');\n",
              "    }\n",
              "    (() => {\n",
              "      let quickchartButtonEl =\n",
              "        document.querySelector('#df-89c8f374-e1e0-4656-b15e-b379ddf66d40 button');\n",
              "      quickchartButtonEl.style.display =\n",
              "        google.colab.kernel.accessAllowed ? 'block' : 'none';\n",
              "    })();\n",
              "  </script>\n",
              "</div>\n",
              "\n",
              "    </div>\n",
              "  </div>\n"
            ],
            "application/vnd.google.colaboratory.intrinsic+json": {
              "type": "dataframe",
              "variable_name": "df_dados_limpos",
              "summary": "{\n  \"name\": \"df_dados_limpos\",\n  \"rows\": 24,\n  \"fields\": [\n    {\n      \"column\": \"Data Origem\",\n      \"properties\": {\n        \"dtype\": \"object\",\n        \"num_unique_values\": 24,\n        \"samples\": [\n          \"15/02/2022 12:23\",\n          \"03/04/2022 22:41\",\n          \"22/12/2021 11:23\"\n        ],\n        \"semantic_type\": \"\",\n        \"description\": \"\"\n      }\n    },\n    {\n      \"column\": \"Unidade Origem\",\n      \"properties\": {\n        \"dtype\": \"string\",\n        \"num_unique_values\": 12,\n        \"samples\": [\n          \"COMISSAO PERMANENTE DE PESSOAL DOCENTE (11.00.05)\",\n          \"COORDENA\\u00c7\\u00c3O DE DESENV. DE PESSOAS/SRH (11.00.15.05.02)\",\n          \"DIVISAO DE PROTOCOLO E DOCUMENTACAO/PRAD (11.00.15.08.03)\"\n        ],\n        \"semantic_type\": \"\",\n        \"description\": \"\"\n      }\n    },\n    {\n      \"column\": \"Unidade Destino\",\n      \"properties\": {\n        \"dtype\": \"string\",\n        \"num_unique_values\": 12,\n        \"samples\": [\n          \"SECRETARIA ADMINISTRATIVA - REITORIA (11.00.01.04)\",\n          \"COMISSAO PERMANENTE DE PESSOAL DOCENTE (11.00.05)\",\n          \"DEPARTAMENTO DE COMPUTA\\u00c7\\u00c3O/CCN (11.00.24.05)\"\n        ],\n        \"semantic_type\": \"\",\n        \"description\": \"\"\n      }\n    },\n    {\n      \"column\": \"Enviado Por\",\n      \"properties\": {\n        \"dtype\": \"string\",\n        \"num_unique_values\": 17,\n        \"samples\": [\n          \"luisgustavoviana\",\n          \"lucas.alexander\",\n          \"roberlaneaufpi\"\n        ],\n        \"semantic_type\": \"\",\n        \"description\": \"\"\n      }\n    },\n    {\n      \"column\": \"Recebido Em\",\n      \"properties\": {\n        \"dtype\": \"object\",\n        \"num_unique_values\": 24,\n        \"samples\": [\n          \"15/02/2022 12:27\",\n          \"03/04/2022 23:00\",\n          \"28/12/2021 12:35\"\n        ],\n        \"semantic_type\": \"\",\n        \"description\": \"\"\n      }\n    },\n    {\n      \"column\": \"Recebido Por\",\n      \"properties\": {\n        \"dtype\": \"string\",\n        \"num_unique_values\": 16,\n        \"samples\": [\n          \"lucas.alexander\",\n          \"elvina\",\n          \"cardozzo\"\n        ],\n        \"semantic_type\": \"\",\n        \"description\": \"\"\n      }\n    }\n  ]\n}"
            }
          },
          "metadata": {},
          "execution_count": 36
        }
      ]
    },
    {
      "cell_type": "markdown",
      "source": [
        "### Unidades de Origem e Unidades de Destino"
      ],
      "metadata": {
        "id": "w_dBD-PaIhep"
      }
    },
    {
      "cell_type": "code",
      "source": [
        "lista_unidades_origem = df_dados_limpos['Unidade Origem'].tolist()\n",
        "lista_unidades_destino = df_dados_limpos['Unidade Destino'].tolist()\n",
        "\n",
        "conjunto_unidades_origem = set(lista_unidades_origem)\n",
        "conjunto_unidades_destino = set(lista_unidades_destino)\n",
        "\n",
        "uniao_unidades = conjunto_unidades_origem.union(conjunto_unidades_destino)\n",
        "\n",
        "lista_uniao_unidades = list(uniao_unidades)\n",
        "print(lista_uniao_unidades)"
      ],
      "metadata": {
        "colab": {
          "base_uri": "https://localhost:8080/"
        },
        "id": "hPB6LvNsI1sZ",
        "outputId": "a8c5af31-c1c5-48fd-8747-cf05c4b49376"
      },
      "execution_count": 63,
      "outputs": [
        {
          "output_type": "stream",
          "name": "stdout",
          "text": [
            "['COMISSAO PERMANENTE DE PESSOAL DOCENTE (11.00.05)', 'COORDENAÇÃO DE DESENV. DE PESSOAS/SRH (11.00.15.05.02)', 'PRO-REITORIA DE ENSINO DE POS-GRADUAÇAO (11.07)', 'GABINETE DO REITOR (11.00.01)', 'DIVISÃO DE ARQUIVO E MICROFILMAGEM/PRAD (11.00.15.08.04)', 'DIVISAO DE PROTOCOLO E DOCUMENTACAO/PRAD (11.00.15.08.03)', 'CENTRO DE CIENCIAS DA NATUREZA (11.00.24)', 'COORDENAÇÃO DE ADMINISTRACAO DE PESSOAL/SRH (11.00.15.05.01)', 'DEPARTAMENTO DE COMPUTAÇÃO/CCN (11.00.24.05)', 'SUPERINTENDÊNCIA DE RECURSOS HUMANOS (11.04)', 'SECRETARIA DOS CONSELHOS/GABINETE (11.00.01.03)', 'SECRETARIA ADMINISTRATIVA - REITORIA (11.00.01.04)', 'COORDENADORIA DE PROGRAMAS STRICTO SENSU/PRPG (11.07.01)']\n"
          ]
        }
      ]
    },
    {
      "cell_type": "code",
      "source": [
        "def gerar_codigo_unico(lista_itens):\n",
        "    \"\"\"Gera um código único para cada item da lista, baseado no código numérico.\n",
        "\n",
        "    Args:\n",
        "        lista_itens: Uma lista de strings representando os itens.\n",
        "\n",
        "    Returns:\n",
        "        Um dicionário onde as chaves são os códigos únicos e os valores são os itens originais.\n",
        "    \"\"\"\n",
        "\n",
        "    codigos_unicos = {}\n",
        "    for item in lista_itens:\n",
        "        # Extrai o código numérico e remove os pontos\n",
        "        codigo_numerico = item.split('(')[1].split(')')[0].replace('.', '')\n",
        "        # Padroniza o tamanho do código (ajuste o tamanho conforme necessário)\n",
        "        codigo_unico = codigo_numerico.zfill(10)\n",
        "        codigos_unicos[codigo_unico] = item\n",
        "    return codigos_unicos\n",
        "\n",
        "# Exemplo de uso:\n",
        "\n",
        "resultado_codigos_unidades = gerar_codigo_unico(lista_uniao_unidades)\n",
        "print(resultado_codigos_unidades)"
      ],
      "metadata": {
        "colab": {
          "base_uri": "https://localhost:8080/"
        },
        "id": "vbauFx47Jxar",
        "outputId": "87c4ad36-f690-4cdf-a9db-8c025f5bb68e"
      },
      "execution_count": 64,
      "outputs": [
        {
          "output_type": "stream",
          "name": "stdout",
          "text": [
            "{'0000110005': 'COMISSAO PERMANENTE DE PESSOAL DOCENTE (11.00.05)', '1100150502': 'COORDENAÇÃO DE DESENV. DE PESSOAS/SRH (11.00.15.05.02)', '0000001107': 'PRO-REITORIA DE ENSINO DE POS-GRADUAÇAO (11.07)', '0000110001': 'GABINETE DO REITOR (11.00.01)', '1100150804': 'DIVISÃO DE ARQUIVO E MICROFILMAGEM/PRAD (11.00.15.08.04)', '1100150803': 'DIVISAO DE PROTOCOLO E DOCUMENTACAO/PRAD (11.00.15.08.03)', '0000110024': 'CENTRO DE CIENCIAS DA NATUREZA (11.00.24)', '1100150501': 'COORDENAÇÃO DE ADMINISTRACAO DE PESSOAL/SRH (11.00.15.05.01)', '0011002405': 'DEPARTAMENTO DE COMPUTAÇÃO/CCN (11.00.24.05)', '0000001104': 'SUPERINTENDÊNCIA DE RECURSOS HUMANOS (11.04)', '0011000103': 'SECRETARIA DOS CONSELHOS/GABINETE (11.00.01.03)', '0011000104': 'SECRETARIA ADMINISTRATIVA - REITORIA (11.00.01.04)', '0000110701': 'COORDENADORIA DE PROGRAMAS STRICTO SENSU/PRPG (11.07.01)'}\n"
          ]
        }
      ]
    },
    {
      "cell_type": "code",
      "source": [
        "dicionario_invertido = {valor: chave for chave, valor in resultado_codigos_unidades.items()}\n",
        "\n",
        "print(dicionario_invertido)"
      ],
      "metadata": {
        "colab": {
          "base_uri": "https://localhost:8080/"
        },
        "id": "MiQrkL4uK2N9",
        "outputId": "9b9f5ca0-bc04-49c9-a8d1-0fa6f37c007a"
      },
      "execution_count": 65,
      "outputs": [
        {
          "output_type": "stream",
          "name": "stdout",
          "text": [
            "{'COMISSAO PERMANENTE DE PESSOAL DOCENTE (11.00.05)': '0000110005', 'COORDENAÇÃO DE DESENV. DE PESSOAS/SRH (11.00.15.05.02)': '1100150502', 'PRO-REITORIA DE ENSINO DE POS-GRADUAÇAO (11.07)': '0000001107', 'GABINETE DO REITOR (11.00.01)': '0000110001', 'DIVISÃO DE ARQUIVO E MICROFILMAGEM/PRAD (11.00.15.08.04)': '1100150804', 'DIVISAO DE PROTOCOLO E DOCUMENTACAO/PRAD (11.00.15.08.03)': '1100150803', 'CENTRO DE CIENCIAS DA NATUREZA (11.00.24)': '0000110024', 'COORDENAÇÃO DE ADMINISTRACAO DE PESSOAL/SRH (11.00.15.05.01)': '1100150501', 'DEPARTAMENTO DE COMPUTAÇÃO/CCN (11.00.24.05)': '0011002405', 'SUPERINTENDÊNCIA DE RECURSOS HUMANOS (11.04)': '0000001104', 'SECRETARIA DOS CONSELHOS/GABINETE (11.00.01.03)': '0011000103', 'SECRETARIA ADMINISTRATIVA - REITORIA (11.00.01.04)': '0011000104', 'COORDENADORIA DE PROGRAMAS STRICTO SENSU/PRPG (11.07.01)': '0000110701'}\n"
          ]
        }
      ]
    },
    {
      "cell_type": "code",
      "source": [
        "class NodeMovimentacao:\n",
        "    def __init__(self, nome, data_origem, unidade_origem, unidade_destino, enviado_por, recebido_em, recebido_por):\n",
        "        self.nome = nome\n",
        "        self.data_origem = data_origem\n",
        "        self.unidade_origem = unidade_origem\n",
        "        self.unidade_destino = unidade_destino\n",
        "        self.enviado_por = enviado_por\n",
        "        self.recebido_em = recebido_em\n",
        "        self.recebido_por = recebido_por\n",
        "        self.codigo_unidade_origem = ''\n",
        "        self.codigo_unidade_destino = ''\n",
        "\n",
        "    def set_codigo_unidade_origem(self, codigo_unidade_origem):\n",
        "        self.codigo_unidade_origem = codigo_unidade_origem\n",
        "\n",
        "    def set_codigo_unidade_destino(self, codigo_unidade_destino):\n",
        "        self.codigo_unidade_destino = codigo_unidade_destino\n",
        "\n",
        "    def __str__(self):\n",
        "        return f\"Nome: {self.nome}\\n\" \\\n",
        "               f\"Data Origem: {self.data_origem}\\n\" \\\n",
        "               f\"Unidade Origem: {self.unidade_origem}\\n\" \\\n",
        "               f\"Unidade Destino: {self.unidade_destino}\\n\" \\\n",
        "               f\"Enviado Por: {self.enviado_por}\\n\" \\\n",
        "               f\"Recebido Em: {self.recebido_em}\\n\" \\\n",
        "               f\"Recebido Por: {self.recebido_por}\"\n",
        "\n",
        "class NodeSimplificado:\n",
        "    def __init__(self, nome, codigo_unidade_origem, codigo_unidade_destino):\n",
        "        self.nome = nome\n",
        "        self.codigo_unidade_origem = codigo_unidade_origem\n",
        "        self.codigo_unidade_destino = codigo_unidade_destino"
      ],
      "metadata": {
        "id": "fzJ8usCvDwG_"
      },
      "execution_count": 78,
      "outputs": []
    },
    {
      "cell_type": "code",
      "source": [
        "lista_node_movimentacao = []\n",
        "lista_node_simplificado = []\n",
        "contador = 0\n",
        "for index, row in df_dados_limpos.iterrows():\n",
        "    nome = f'M{contador}'\n",
        "    node = NodeMovimentacao(\n",
        "        nome=nome,\n",
        "        data_origem=row['Data Origem'],\n",
        "        unidade_origem=row['Unidade Origem'],\n",
        "        unidade_destino=row['Unidade Destino'],\n",
        "        enviado_por=row['Enviado Por'],\n",
        "        recebido_em=row['Recebido Em'],\n",
        "        recebido_por=row['Recebido Por']\n",
        "    )\n",
        "    node.set_codigo_unidade_origem(dicionario_invertido[row['Unidade Origem']])\n",
        "    node.set_codigo_unidade_destino(dicionario_invertido[row['Unidade Destino']])\n",
        "    nome_simplificado = NodeSimplificado(\n",
        "        nome=nome,\n",
        "        codigo_unidade_origem=node.codigo_unidade_origem,\n",
        "        codigo_unidade_destino=node.codigo_unidade_destino\n",
        "    )\n",
        "    lista_node_movimentacao.append(node)\n",
        "    lista_node_simplificado.append(nome_simplificado)\n",
        "    contador += 1"
      ],
      "metadata": {
        "id": "I-kEE6NXDx3g"
      },
      "execution_count": 79,
      "outputs": []
    },
    {
      "cell_type": "markdown",
      "source": [
        "## Representação das movimentações em um grafo\n",
        "\n",
        "unidade origem -> unidade destino"
      ],
      "metadata": {
        "id": "fDs35buVFiF_"
      }
    },
    {
      "cell_type": "code",
      "source": [
        "for node in lista_node_simplificado:\n",
        "    print(node.nome, node.codigo_unidade_origem, node.codigo_unidade_destino)"
      ],
      "metadata": {
        "colab": {
          "base_uri": "https://localhost:8080/"
        },
        "id": "N6kZ4DCNPhXZ",
        "outputId": "4f1540b9-840e-4d22-bc65-e2bc906c7f49"
      },
      "execution_count": 115,
      "outputs": [
        {
          "output_type": "stream",
          "name": "stdout",
          "text": [
            "M0 1100150803 0011002405\n",
            "M1 0011002405 0000110024\n",
            "M2 0000110024 0011002405\n",
            "M3 0011002405 0000110024\n",
            "M4 0000110024 0000110001\n",
            "M5 0000110001 0000110024\n",
            "M6 0000110024 0000110001\n",
            "M7 0000110001 0011000103\n",
            "M8 0011000103 0000110001\n",
            "M9 0000110001 0000001107\n",
            "M10 0000001107 0000110701\n",
            "M11 0000110701 0000001104\n",
            "M12 0000001104 1100150501\n",
            "M13 1100150501 1100150502\n",
            "M14 1100150502 0000001104\n",
            "M15 0000001104 0000001107\n",
            "M16 0000001107 0000110701\n",
            "M17 0000110701 0000001107\n",
            "M18 0000001107 0000110005\n",
            "M19 0000110005 0000110001\n",
            "M20 0000110001 0011000104\n",
            "M21 0011000104 0000001104\n",
            "M22 0000001104 1100150501\n",
            "M23 1100150501 1100150804\n"
          ]
        }
      ]
    },
    {
      "cell_type": "code",
      "source": [
        "class Node:\n",
        "    def __init__(self, nome, codigo_unidade_origem, codigo_unidade_destino, proximo=None):\n",
        "        self.nome = nome\n",
        "        self.codigo_unidade_origem = codigo_unidade_origem\n",
        "        self.codigo_unidade_destino = codigo_unidade_destino\n",
        "        self.proximo = proximo  # Ponteiro para o próximo nó\n",
        "\n",
        "def criar_lista_ligada(lista_node_simplificado):\n",
        "    \"\"\"Cria uma lista ligada a partir de uma lista de nós.\n",
        "\n",
        "    Args:\n",
        "        lista_node_simplificado: Uma lista de objetos representando os nós.\n",
        "\n",
        "    Returns:\n",
        "        O primeiro nó da lista ligada.\n",
        "    \"\"\"\n",
        "\n",
        "    if not lista_node_simplificado:\n",
        "        return None  # Lista vazia\n",
        "\n",
        "    cabeca = Node(lista_node_simplificado[0].nome,\n",
        "                  lista_node_simplificado[0].codigo_unidade_origem,\n",
        "                  lista_node_simplificado[0].codigo_unidade_destino)\n",
        "    no_atual = cabeca\n",
        "\n",
        "    for i in range(1, len(lista_node_simplificado)):\n",
        "        novo_no = Node(lista_node_simplificado[i].nome,\n",
        "                      lista_node_simplificado[i].codigo_unidade_origem,\n",
        "                      lista_node_simplificado[i].codigo_unidade_destino)\n",
        "        no_atual.proximo = novo_no\n",
        "        no_atual = novo_no\n",
        "\n",
        "    return cabeca"
      ],
      "metadata": {
        "id": "k2ga9xk6QDEj"
      },
      "execution_count": 116,
      "outputs": []
    },
    {
      "cell_type": "markdown",
      "source": [
        "## Cria o grafo usando o nome como node\n"
      ],
      "metadata": {
        "id": "NmEBMEQqWskO"
      }
    },
    {
      "cell_type": "code",
      "source": [
        "import networkx as nx\n",
        "import matplotlib.pyplot as plt\n",
        "\n",
        "G = nx.DiGraph()  # Criamos um grafo direcionado, pois as movimentações têm um sentido\n",
        "\n",
        "# Criar a lista ligada\n",
        "primeiro_no = criar_lista_ligada(lista_node_simplificado)\n",
        "primeiro_no_original = primeiro_no\n",
        "\n",
        "# Imprimir os elementos da lista ligada\n",
        "no_atual = primeiro_no\n",
        "contador = 0\n",
        "while no_atual:\n",
        "    print(no_atual.nome, no_atual.codigo_unidade_origem, no_atual.codigo_unidade_destino)\n",
        "    node_label = f\"{no_atual.nome},{no_atual.codigo_unidade_origem},{no_atual.codigo_unidade_destino}\"\n",
        "    G.add_node(contador, label=node_label)\n",
        "    no_atual = no_atual.proximo\n",
        "    contador += 1"
      ],
      "metadata": {
        "colab": {
          "base_uri": "https://localhost:8080/"
        },
        "id": "EMwq48GFExQA",
        "outputId": "24ab3a59-a0d2-45bb-e2c2-2206209008e8"
      },
      "execution_count": 132,
      "outputs": [
        {
          "output_type": "stream",
          "name": "stdout",
          "text": [
            "M0 1100150803 0011002405\n",
            "M1 0011002405 0000110024\n",
            "M2 0000110024 0011002405\n",
            "M3 0011002405 0000110024\n",
            "M4 0000110024 0000110001\n",
            "M5 0000110001 0000110024\n",
            "M6 0000110024 0000110001\n",
            "M7 0000110001 0011000103\n",
            "M8 0011000103 0000110001\n",
            "M9 0000110001 0000001107\n",
            "M10 0000001107 0000110701\n",
            "M11 0000110701 0000001104\n",
            "M12 0000001104 1100150501\n",
            "M13 1100150501 1100150502\n",
            "M14 1100150502 0000001104\n",
            "M15 0000001104 0000001107\n",
            "M16 0000001107 0000110701\n",
            "M17 0000110701 0000001107\n",
            "M18 0000001107 0000110005\n",
            "M19 0000110005 0000110001\n",
            "M20 0000110001 0011000104\n",
            "M21 0011000104 0000001104\n",
            "M22 0000001104 1100150501\n",
            "M23 1100150501 1100150804\n"
          ]
        }
      ]
    },
    {
      "cell_type": "code",
      "source": [
        "# Imprimir os elementos da lista ligada com as arestas\n",
        "no_atual = primeiro_no_original\n",
        "contador = 0\n",
        "while no_atual:\n",
        "    print(no_atual.nome, no_atual.codigo_unidade_origem, no_atual.codigo_unidade_destino)\n",
        "    nome = no_atual.nome\n",
        "    G.add_edge(contador, contador+1)\n",
        "    no_atual = no_atual.proximo\n",
        "    contador += 1"
      ],
      "metadata": {
        "colab": {
          "base_uri": "https://localhost:8080/"
        },
        "id": "UYxVlexyTTp6",
        "outputId": "9786e12d-9d74-4952-f823-5a9152ce1c64"
      },
      "execution_count": 133,
      "outputs": [
        {
          "output_type": "stream",
          "name": "stdout",
          "text": [
            "M0 1100150803 0011002405\n",
            "M1 0011002405 0000110024\n",
            "M2 0000110024 0011002405\n",
            "M3 0011002405 0000110024\n",
            "M4 0000110024 0000110001\n",
            "M5 0000110001 0000110024\n",
            "M6 0000110024 0000110001\n",
            "M7 0000110001 0011000103\n",
            "M8 0011000103 0000110001\n",
            "M9 0000110001 0000001107\n",
            "M10 0000001107 0000110701\n",
            "M11 0000110701 0000001104\n",
            "M12 0000001104 1100150501\n",
            "M13 1100150501 1100150502\n",
            "M14 1100150502 0000001104\n",
            "M15 0000001104 0000001107\n",
            "M16 0000001107 0000110701\n",
            "M17 0000110701 0000001107\n",
            "M18 0000001107 0000110005\n",
            "M19 0000110005 0000110001\n",
            "M20 0000110001 0011000104\n",
            "M21 0011000104 0000001104\n",
            "M22 0000001104 1100150501\n",
            "M23 1100150501 1100150804\n"
          ]
        }
      ]
    },
    {
      "cell_type": "code",
      "source": [
        "nx.draw(G, with_labels=True, font_size=8)\n",
        "plt.show()"
      ],
      "metadata": {
        "colab": {
          "base_uri": "https://localhost:8080/",
          "height": 516
        },
        "id": "MxTcxRktTvGe",
        "outputId": "0842ad33-ede1-43fa-ca85-08c94e37e06e"
      },
      "execution_count": 134,
      "outputs": [
        {
          "output_type": "display_data",
          "data": {
            "text/plain": [
              "<Figure size 640x480 with 1 Axes>"
            ],
            "image/png": "[encoded data removed]"
          },
          "metadata": {}
        }
      ]
    },
    {
      "cell_type": "code",
      "source": [
        "G = nx.DiGraph()  # Criamos um grafo direcionado, pois as movimentações têm um sentido\n",
        "\n",
        "my_labels = {}\n",
        "# Criar a lista ligada\n",
        "primeiro_no = criar_lista_ligada(lista_node_simplificado)\n",
        "primeiro_no_original = criar_lista_ligada(lista_node_simplificado)\n",
        "\n",
        "# Imprimir os elementos da lista ligada\n",
        "no_atual = primeiro_no\n",
        "while no_atual:\n",
        "    node_label = f\"{no_atual.nome},{no_atual.codigo_unidade_origem},{no_atual.codigo_unidade_destino}\"\n",
        "    G.add_node(no_atual.codigo_unidade_destino)\n",
        "    no_atual = no_atual.proximo\n",
        "\n",
        "# Imprimir os elementos da lista ligada com as arestas\n",
        "no_atual = primeiro_no_original\n",
        "while no_atual:\n",
        "    if no_atual.proximo is not None:\n",
        "      G.add_edge(no_atual.codigo_unidade_destino, no_atual.proximo.codigo_unidade_destino)\n",
        "    no_atual = no_atual.proximo"
      ],
      "metadata": {
        "id": "4809t81JFzZy"
      },
      "execution_count": 153,
      "outputs": []
    },
    {
      "cell_type": "code",
      "source": [
        "nx.draw(G, with_labels=True, font_size=8)\n",
        "plt.show()"
      ],
      "metadata": {
        "colab": {
          "base_uri": "https://localhost:8080/",
          "height": 516
        },
        "id": "DhKgNBOyYJlW",
        "outputId": "840ed2ee-60a3-4525-df66-a4e4560ad194"
      },
      "execution_count": 155,
      "outputs": [
        {
          "output_type": "display_data",
          "data": {
            "text/plain": [
              "<Figure size 640x480 with 1 Axes>"
            ],
            "image/png": "[encoded data removed]"
          },
          "metadata": {}
        }
      ]
    },
    {
      "cell_type": "code",
      "source": [
        "for k, v in resultado_codigos_unidades.items():\n",
        "  print(k, v)"
      ],
      "metadata": {
        "colab": {
          "base_uri": "https://localhost:8080/"
        },
        "id": "I9rt7GVqc7yX",
        "outputId": "54e7ca8e-cbda-4e03-9223-56844cff5192"
      },
      "execution_count": 156,
      "outputs": [
        {
          "output_type": "stream",
          "name": "stdout",
          "text": [
            "0000110005 COMISSAO PERMANENTE DE PESSOAL DOCENTE (11.00.05)\n",
            "1100150502 COORDENAÇÃO DE DESENV. DE PESSOAS/SRH (11.00.15.05.02)\n",
            "0000001107 PRO-REITORIA DE ENSINO DE POS-GRADUAÇAO (11.07)\n",
            "0000110001 GABINETE DO REITOR (11.00.01)\n",
            "1100150804 DIVISÃO DE ARQUIVO E MICROFILMAGEM/PRAD (11.00.15.08.04)\n",
            "1100150803 DIVISAO DE PROTOCOLO E DOCUMENTACAO/PRAD (11.00.15.08.03)\n",
            "0000110024 CENTRO DE CIENCIAS DA NATUREZA (11.00.24)\n",
            "1100150501 COORDENAÇÃO DE ADMINISTRACAO DE PESSOAL/SRH (11.00.15.05.01)\n",
            "0011002405 DEPARTAMENTO DE COMPUTAÇÃO/CCN (11.00.24.05)\n",
            "0000001104 SUPERINTENDÊNCIA DE RECURSOS HUMANOS (11.04)\n",
            "0011000103 SECRETARIA DOS CONSELHOS/GABINETE (11.00.01.03)\n",
            "0011000104 SECRETARIA ADMINISTRATIVA - REITORIA (11.00.01.04)\n",
            "0000110701 COORDENADORIA DE PROGRAMAS STRICTO SENSU/PRPG (11.07.01)\n"
          ]
        }
      ]
    }
  ]
}