{
  "cells": [
    {
      "cell_type": "markdown",
      "metadata": {
        "id": "view-in-github",
        "colab_type": "text"
      },
      "source": [
        "<a href=\"https://colab.research.google.com/github/armandossrecife/mysummary/blob/main/Assistente_judicial.ipynb\" target=\"_parent\"><img src=\"https://colab.research.google.com/assets/colab-badge.svg\" alt=\"Open In Colab\"/></a>"
      ]
    },
    {
      "cell_type": "markdown",
      "source": [
        "# Assistente Judicial usando IA\n",
        "\n",
        "Protótipo para testar perguntas e respostas para questões jurídicas\n",
        "\n",
        "São feitas perguntas jurídicas e a IA responde as perguntas de forma contextualizada."
      ],
      "metadata": {
        "id": "UvE3f-_wU0dD"
      }
    },
    {
      "cell_type": "markdown",
      "source": [
        "**Objetivo**: Fazer o uso de uma [LLM](https://pt.wikipedia.org/wiki/Modelos_de_linguagem_de_grande_escala) ([IA Generativa](https://pt.wikipedia.org/wiki/Intelig%C3%AAncia_artificial_generativa): [Google Gemini](https://gemini.google.com)) para criar um Assistente Judicial.\n",
        "\n",
        "**Observação**: o protótipo é apenas um teste de \"prova de conceito\", não foi levado em consideração o método científico para validar o design do protótipo. Além disso, os resultados não foram validados por um especialista (Advogado).\n",
        "\n",
        "1.Leitura de prompts personalizados para questões jurídicas\n",
        "\n",
        "2.Prompts utilizados:\n",
        "\n",
        "- Prompt1: \"No Brasil, como funciona um inventário após a morte de uma pessoa?\"\n",
        "- Prompt2: \"Com relação a herança, quais são os direitos dos herdeiros?\"\n",
        "\n",
        "3.Resultados:\n",
        "- Disponíveis no tópico \"Execução do Protótipo\""
      ],
      "metadata": {
        "id": "SxU7Cug7mKGt"
      }
    },
    {
      "cell_type": "markdown",
      "source": [
        "## Programação do Protótipo (Prova de Conceito)"
      ],
      "metadata": {
        "id": "Wce_Fu2cYljI"
      }
    },
    {
      "cell_type": "markdown",
      "source": [
        "### Código-fonte da Aplicação Base"
      ],
      "metadata": {
        "id": "jggPD7j-ZGFD"
      }
    },
    {
      "cell_type": "code",
      "source": [
        "!pip install -q -U google-generativeai\n",
        "!pip install PyPDF2"
      ],
      "metadata": {
        "colab": {
          "base_uri": "https://localhost:8080/"
        },
        "id": "PM91skaIVBqt",
        "outputId": "428a1f4d-60c0-49a9-f683-8f88cfef2473"
      },
      "execution_count": 2,
      "outputs": [
        {
          "output_type": "stream",
          "name": "stdout",
          "text": [
            "Collecting PyPDF2\n",
            "  Downloading pypdf2-3.0.1-py3-none-any.whl.metadata (6.8 kB)\n",
            "Downloading pypdf2-3.0.1-py3-none-any.whl (232 kB)\n",
            "\u001b[2K   \u001b[90m━━━━━━━━━━━━━━━━━━━━━━━━━━━━━━━━━━━━━━━━\u001b[0m \u001b[32m232.6/232.6 kB\u001b[0m \u001b[31m2.4 MB/s\u001b[0m eta \u001b[36m0:00:00\u001b[0m\n",
            "\u001b[?25hInstalling collected packages: PyPDF2\n",
            "Successfully installed PyPDF2-3.0.1\n"
          ]
        }
      ]
    },
    {
      "cell_type": "code",
      "source": [
        "# Import the Python SDK\n",
        "import google.generativeai as genai\n",
        "# Used to securely store your API key\n",
        "from google.colab import userdata\n",
        "\n",
        "GOOGLE_API_KEY=userdata.get('GOOGLE_API_KEY')\n",
        "genai.configure(api_key=GOOGLE_API_KEY)"
      ],
      "metadata": {
        "id": "MzV7V0AzVKEg"
      },
      "execution_count": 5,
      "outputs": []
    },
    {
      "cell_type": "code",
      "source": [
        "# Definição de um modelo LLM Genérico\n",
        "model = genai.GenerativeModel('gemini-pro')"
      ],
      "metadata": {
        "id": "7MAdqF0XVWfB"
      },
      "execution_count": 6,
      "outputs": []
    },
    {
      "cell_type": "code",
      "source": [
        "# Definição das funções de apoio\n",
        "import os\n",
        "from datetime import datetime\n",
        "from IPython.display import Markdown\n",
        "\n",
        "def request_to_gemini(prompt_text):\n",
        "  print(\"Aguarde...\")\n",
        "  t1 = datetime.now()\n",
        "  response_resumo_texto = model.generate_content(prompt_text)\n",
        "  t2 = datetime.now()\n",
        "  print(response_resumo_texto)\n",
        "  tempo_resposta = t2 - t1\n",
        "  print(f\"Tempo de resposta: {tempo_resposta}\")\n",
        "  return response_resumo_texto\n",
        "\n",
        "def count_words(text):\n",
        "    words = text.split()\n",
        "    return len(words)\n",
        "\n",
        "def processa_pergunta(pergunte_ao_gemini):\n",
        "  prompt_text = f\"{pergunte_ao_gemini}\"\n",
        "  response_resumo_texto = request_to_gemini(prompt_text)\n",
        "  return response_resumo_texto\n",
        "\n",
        "def get_summary_from_response(response_resumo_texto):\n",
        "  try:\n",
        "    if len(response_resumo_texto.candidates) > 0:\n",
        "      summary_content = response_resumo_texto.candidates[0].content\n",
        "      if len(summary_content.parts) > 0:\n",
        "        summary_text = summary_content.parts[0].text\n",
        "        return summary_text  # Return the extracted text\n",
        "      else:\n",
        "        print(\"No content parts found in the first candidate.\")\n",
        "    else:\n",
        "      print(\"Nenhuma resposta disponível\")\n",
        "  except (AttributeError, IndexError):\n",
        "    print(\"Error accessing response data. Please check the response structure.\")"
      ],
      "metadata": {
        "id": "MmXJXPXMVmoW"
      },
      "execution_count": 13,
      "outputs": []
    },
    {
      "cell_type": "markdown",
      "source": [
        "## Execução do Protótipo"
      ],
      "metadata": {
        "id": "dKyu-ZjmtHor"
      }
    },
    {
      "cell_type": "markdown",
      "source": [
        "### 1a. Pergunta\n",
        "\n",
        "Prompt1: \"No Brasil, como funciona um inventário após a morte de uma pessoa?\""
      ],
      "metadata": {
        "id": "8lH2kBICtM4m"
      }
    },
    {
      "cell_type": "code",
      "source": [
        "pergunta_inventario = \"No Brasil, como funciona um inventário após a morte de uma pessoa?\"\n",
        "resposta_inventario = processa_pergunta(pergunte_ao_gemini=pergunta_inventario)\n",
        "print(resposta_inventario)"
      ],
      "metadata": {
        "colab": {
          "base_uri": "https://localhost:8080/",
          "height": 1000
        },
        "id": "cWsxCWr3rz30",
        "outputId": "4782ff08-8c2b-4a79-a5fe-7eaff347ed2b"
      },
      "execution_count": 8,
      "outputs": [
        {
          "output_type": "stream",
          "name": "stdout",
          "text": [
            "Aguarde...\n",
            "response:\n",
            "GenerateContentResponse(\n",
            "    done=True,\n",
            "    iterator=None,\n",
            "    result=protos.GenerateContentResponse({\n",
            "      \"candidates\": [\n",
            "        {\n",
            "          \"content\": {\n",
            "            \"parts\": [\n",
            "              {\n",
            "                \"text\": \"**Processo de Invent\\u00e1rio no Brasil**\\n\\nO invent\\u00e1rio \\u00e9 um procedimento legal que ocorre ap\\u00f3s a morte de uma pessoa para identificar, avaliar e distribuir seus bens. No Brasil, o processo \\u00e9 regido pelo C\\u00f3digo de Processo Civil (CPC).\\n\\n**Etapas do Invent\\u00e1rio**\\n\\n1. **Testament\\u00e1rio (Judicial)**\\n   - Realizado quando a pessoa deixa um testamento v\\u00e1lido.\\n   - O testamento nomeia um testamenteiro respons\\u00e1vel por administrar o invent\\u00e1rio.\\n   - O testamenteiro deve apresentar um requerimento ao tribunal solicitando a abertura do invent\\u00e1rio.\\n\\n2. **Extrajudicial**\\n   - Realizado quando a pessoa n\\u00e3o deixa testamento ou quando o testamento \\u00e9 declarado inv\\u00e1lido.\\n   - Os herdeiros podem realizar o invent\\u00e1rio por meio de um tabeli\\u00e3o de notas.\\n\\n**Passo a Passo do Invent\\u00e1rio**\\n\\n**Testament\\u00e1rio (Judicial)**\\n   1. Abertura do invent\\u00e1rio: Solicita\\u00e7\\u00e3o ao tribunal pelo testamenteiro.\\n   2. Nomea\\u00e7\\u00e3o do Inventariante: O tribunal nomear\\u00e1 um inventariante, geralmente o testamenteiro ou um dos herdeiros.\\n   3. Rela\\u00e7\\u00e3o de Bens: O inventariante deve elaborar uma rela\\u00e7\\u00e3o de todos os bens do falecido.\\n   4. Avalia\\u00e7\\u00e3o dos Bens: Os bens ser\\u00e3o avaliados por peritos nomeados pelo tribunal.\\n   5. Partilha dos Bens: Ap\\u00f3s a avalia\\u00e7\\u00e3o, os bens ser\\u00e3o divididos entre os herdeiros de acordo com o testamento.\\n\\n**Extrajudicial**\\n   1. Requerimento ao Tabeli\\u00e3o: Os herdeiros devem apresentar um requerimento ao tabeli\\u00e3o de notas.\\n   2. Rela\\u00e7\\u00e3o de Bens: Os herdeiros devem apresentar uma rela\\u00e7\\u00e3o dos bens do falecido.\\n   3. Avalia\\u00e7\\u00e3o dos Bens: O tabeli\\u00e3o nomear\\u00e1 um avaliador para avaliar os bens.\\n   4. Partilha dos Bens: Ap\\u00f3s a avalia\\u00e7\\u00e3o, os bens ser\\u00e3o divididos entre os herdeiros de acordo com a lei.\\n\\n**Conclus\\u00e3o**\\n\\nO invent\\u00e1rio \\u00e9 um processo importante que garante a distribui\\u00e7\\u00e3o justa dos bens do falecido e a resolu\\u00e7\\u00e3o de eventuais disputas entre herdeiros. \\u00c9 aconselh\\u00e1vel buscar orienta\\u00e7\\u00e3o jur\\u00eddica para garantir que o processo seja conduzido de maneira adequada.\"\n",
            "              }\n",
            "            ],\n",
            "            \"role\": \"model\"\n",
            "          },\n",
            "          \"finish_reason\": \"STOP\",\n",
            "          \"index\": 0,\n",
            "          \"safety_ratings\": [\n",
            "            {\n",
            "              \"category\": \"HARM_CATEGORY_SEXUALLY_EXPLICIT\",\n",
            "              \"probability\": \"NEGLIGIBLE\"\n",
            "            },\n",
            "            {\n",
            "              \"category\": \"HARM_CATEGORY_HATE_SPEECH\",\n",
            "              \"probability\": \"NEGLIGIBLE\"\n",
            "            },\n",
            "            {\n",
            "              \"category\": \"HARM_CATEGORY_HARASSMENT\",\n",
            "              \"probability\": \"NEGLIGIBLE\"\n",
            "            },\n",
            "            {\n",
            "              \"category\": \"HARM_CATEGORY_DANGEROUS_CONTENT\",\n",
            "              \"probability\": \"NEGLIGIBLE\"\n",
            "            }\n",
            "          ]\n",
            "        }\n",
            "      ],\n",
            "      \"usage_metadata\": {\n",
            "        \"prompt_token_count\": 16,\n",
            "        \"candidates_token_count\": 478,\n",
            "        \"total_token_count\": 494\n",
            "      }\n",
            "    }),\n",
            ")\n",
            "Tempo de resposta: 0:00:11.725479\n",
            "response:\n",
            "GenerateContentResponse(\n",
            "    done=True,\n",
            "    iterator=None,\n",
            "    result=protos.GenerateContentResponse({\n",
            "      \"candidates\": [\n",
            "        {\n",
            "          \"content\": {\n",
            "            \"parts\": [\n",
            "              {\n",
            "                \"text\": \"**Processo de Invent\\u00e1rio no Brasil**\\n\\nO invent\\u00e1rio \\u00e9 um procedimento legal que ocorre ap\\u00f3s a morte de uma pessoa para identificar, avaliar e distribuir seus bens. No Brasil, o processo \\u00e9 regido pelo C\\u00f3digo de Processo Civil (CPC).\\n\\n**Etapas do Invent\\u00e1rio**\\n\\n1. **Testament\\u00e1rio (Judicial)**\\n   - Realizado quando a pessoa deixa um testamento v\\u00e1lido.\\n   - O testamento nomeia um testamenteiro respons\\u00e1vel por administrar o invent\\u00e1rio.\\n   - O testamenteiro deve apresentar um requerimento ao tribunal solicitando a abertura do invent\\u00e1rio.\\n\\n2. **Extrajudicial**\\n   - Realizado quando a pessoa n\\u00e3o deixa testamento ou quando o testamento \\u00e9 declarado inv\\u00e1lido.\\n   - Os herdeiros podem realizar o invent\\u00e1rio por meio de um tabeli\\u00e3o de notas.\\n\\n**Passo a Passo do Invent\\u00e1rio**\\n\\n**Testament\\u00e1rio (Judicial)**\\n   1. Abertura do invent\\u00e1rio: Solicita\\u00e7\\u00e3o ao tribunal pelo testamenteiro.\\n   2. Nomea\\u00e7\\u00e3o do Inventariante: O tribunal nomear\\u00e1 um inventariante, geralmente o testamenteiro ou um dos herdeiros.\\n   3. Rela\\u00e7\\u00e3o de Bens: O inventariante deve elaborar uma rela\\u00e7\\u00e3o de todos os bens do falecido.\\n   4. Avalia\\u00e7\\u00e3o dos Bens: Os bens ser\\u00e3o avaliados por peritos nomeados pelo tribunal.\\n   5. Partilha dos Bens: Ap\\u00f3s a avalia\\u00e7\\u00e3o, os bens ser\\u00e3o divididos entre os herdeiros de acordo com o testamento.\\n\\n**Extrajudicial**\\n   1. Requerimento ao Tabeli\\u00e3o: Os herdeiros devem apresentar um requerimento ao tabeli\\u00e3o de notas.\\n   2. Rela\\u00e7\\u00e3o de Bens: Os herdeiros devem apresentar uma rela\\u00e7\\u00e3o dos bens do falecido.\\n   3. Avalia\\u00e7\\u00e3o dos Bens: O tabeli\\u00e3o nomear\\u00e1 um avaliador para avaliar os bens.\\n   4. Partilha dos Bens: Ap\\u00f3s a avalia\\u00e7\\u00e3o, os bens ser\\u00e3o divididos entre os herdeiros de acordo com a lei.\\n\\n**Conclus\\u00e3o**\\n\\nO invent\\u00e1rio \\u00e9 um processo importante que garante a distribui\\u00e7\\u00e3o justa dos bens do falecido e a resolu\\u00e7\\u00e3o de eventuais disputas entre herdeiros. \\u00c9 aconselh\\u00e1vel buscar orienta\\u00e7\\u00e3o jur\\u00eddica para garantir que o processo seja conduzido de maneira adequada.\"\n",
            "              }\n",
            "            ],\n",
            "            \"role\": \"model\"\n",
            "          },\n",
            "          \"finish_reason\": \"STOP\",\n",
            "          \"index\": 0,\n",
            "          \"safety_ratings\": [\n",
            "            {\n",
            "              \"category\": \"HARM_CATEGORY_SEXUALLY_EXPLICIT\",\n",
            "              \"probability\": \"NEGLIGIBLE\"\n",
            "            },\n",
            "            {\n",
            "              \"category\": \"HARM_CATEGORY_HATE_SPEECH\",\n",
            "              \"probability\": \"NEGLIGIBLE\"\n",
            "            },\n",
            "            {\n",
            "              \"category\": \"HARM_CATEGORY_HARASSMENT\",\n",
            "              \"probability\": \"NEGLIGIBLE\"\n",
            "            },\n",
            "            {\n",
            "              \"category\": \"HARM_CATEGORY_DANGEROUS_CONTENT\",\n",
            "              \"probability\": \"NEGLIGIBLE\"\n",
            "            }\n",
            "          ]\n",
            "        }\n",
            "      ],\n",
            "      \"usage_metadata\": {\n",
            "        \"prompt_token_count\": 16,\n",
            "        \"candidates_token_count\": 478,\n",
            "        \"total_token_count\": 494\n",
            "      }\n",
            "    }),\n",
            ")\n"
          ]
        }
      ]
    },
    {
      "cell_type": "code",
      "source": [
        "conteudo_texto_resposta1 = get_summary_from_response(resposta_inventario)\n",
        "Markdown(conteudo_texto_resposta1)"
      ],
      "metadata": {
        "colab": {
          "base_uri": "https://localhost:8080/",
          "height": 606
        },
        "id": "TtVgqKx_sPCm",
        "outputId": "e3c72c89-9a0b-4918-81d0-a11eb4e6237c"
      },
      "execution_count": 17,
      "outputs": [
        {
          "output_type": "execute_result",
          "data": {
            "text/plain": [
              "<IPython.core.display.Markdown object>"
            ],
            "text/markdown": "**Processo de Inventário no Brasil**\n\nO inventário é um procedimento legal que ocorre após a morte de uma pessoa para identificar, avaliar e distribuir seus bens. No Brasil, o processo é regido pelo Código de Processo Civil (CPC).\n\n**Etapas do Inventário**\n\n1. **Testamentário (Judicial)**\n   - Realizado quando a pessoa deixa um testamento válido.\n   - O testamento nomeia um testamenteiro responsável por administrar o inventário.\n   - O testamenteiro deve apresentar um requerimento ao tribunal solicitando a abertura do inventário.\n\n2. **Extrajudicial**\n   - Realizado quando a pessoa não deixa testamento ou quando o testamento é declarado inválido.\n   - Os herdeiros podem realizar o inventário por meio de um tabelião de notas.\n\n**Passo a Passo do Inventário**\n\n**Testamentário (Judicial)**\n   1. Abertura do inventário: Solicitação ao tribunal pelo testamenteiro.\n   2. Nomeação do Inventariante: O tribunal nomeará um inventariante, geralmente o testamenteiro ou um dos herdeiros.\n   3. Relação de Bens: O inventariante deve elaborar uma relação de todos os bens do falecido.\n   4. Avaliação dos Bens: Os bens serão avaliados por peritos nomeados pelo tribunal.\n   5. Partilha dos Bens: Após a avaliação, os bens serão divididos entre os herdeiros de acordo com o testamento.\n\n**Extrajudicial**\n   1. Requerimento ao Tabelião: Os herdeiros devem apresentar um requerimento ao tabelião de notas.\n   2. Relação de Bens: Os herdeiros devem apresentar uma relação dos bens do falecido.\n   3. Avaliação dos Bens: O tabelião nomeará um avaliador para avaliar os bens.\n   4. Partilha dos Bens: Após a avaliação, os bens serão divididos entre os herdeiros de acordo com a lei.\n\n**Conclusão**\n\nO inventário é um processo importante que garante a distribuição justa dos bens do falecido e a resolução de eventuais disputas entre herdeiros. É aconselhável buscar orientação jurídica para garantir que o processo seja conduzido de maneira adequada."
          },
          "metadata": {},
          "execution_count": 17
        }
      ]
    },
    {
      "cell_type": "markdown",
      "source": [
        "### 2a. Pergunta\n",
        "\n",
        "Prompt2: \"Com relação a herança, quais são os direitos dos herdeiros?\""
      ],
      "metadata": {
        "id": "o4OAJzjYtSHR"
      }
    },
    {
      "cell_type": "code",
      "source": [
        "pergunta_heranca = \"Com relação a herança, quais são os direitos dos herdeiros?\"\n",
        "resposta_heranca = processa_pergunta(pergunte_ao_gemini=pergunta_heranca)\n",
        "print(resposta_heranca)"
      ],
      "metadata": {
        "colab": {
          "base_uri": "https://localhost:8080/",
          "height": 1000
        },
        "id": "o4JeMp8QtTbp",
        "outputId": "39aaa6a9-fb8a-4483-a445-a4f9c28c00bc"
      },
      "execution_count": 20,
      "outputs": [
        {
          "output_type": "stream",
          "name": "stdout",
          "text": [
            "Aguarde...\n",
            "response:\n",
            "GenerateContentResponse(\n",
            "    done=True,\n",
            "    iterator=None,\n",
            "    result=protos.GenerateContentResponse({\n",
            "      \"candidates\": [\n",
            "        {\n",
            "          \"content\": {\n",
            "            \"parts\": [\n",
            "              {\n",
            "                \"text\": \"**Direitos dos Herdeiros:**\\n\\n* **Direito \\u00e0 heran\\u00e7a:** Os herdeiros t\\u00eam o direito legal de herdar a propriedade e os bens da pessoa falecida, de acordo com a lei e as disposi\\u00e7\\u00f5es testament\\u00e1rias.\\n* **Direito \\u00e0 quota leg\\u00edtima:** Os herdeiros diretos (c\\u00f4njuge, filhos e ascendentes) t\\u00eam direito a uma por\\u00e7\\u00e3o m\\u00ednima da heran\\u00e7a, conhecida como quota leg\\u00edtima, que n\\u00e3o pode ser livremente disposta pelo falecido.\\n* **Direito \\u00e0 sucess\\u00e3o:** Os herdeiros t\\u00eam direito de suceder a propriedade e os bens da pessoa falecida, mesmo que n\\u00e3o tenham sido nomeados em um testamento.\\n* **Direito \\u00e0 informa\\u00e7\\u00e3o:** Os herdeiros t\\u00eam direito de receber informa\\u00e7\\u00f5es sobre a heran\\u00e7a, incluindo o valor dos bens, d\\u00edvidas e obriga\\u00e7\\u00f5es.\\n* **Direito \\u00e0 administra\\u00e7\\u00e3o:** Os herdeiros t\\u00eam direito de participar da administra\\u00e7\\u00e3o da heran\\u00e7a, como nomear um executor, tomar decis\\u00f5es sobre a divis\\u00e3o de bens e supervisionar o processo de invent\\u00e1rio e partilha.\\n* **Direito \\u00e0 impugna\\u00e7\\u00e3o:** Os herdeiros t\\u00eam direito de impugnar o testamento ou a distribui\\u00e7\\u00e3o da heran\\u00e7a se acreditarem que houve fraude, coer\\u00e7\\u00e3o ou erros.\\n* **Direito \\u00e0 peti\\u00e7\\u00e3o:** Os herdeiros podem apresentar peti\\u00e7\\u00f5es ao tribunal para resolver disputas sobre a heran\\u00e7a, como contestar a vontade ou obter uma contabilidade do executor.\\n* **Direito \\u00e0 prote\\u00e7\\u00e3o:** Os herdeiros t\\u00eam direito de serem protegidos contra credores e outras pessoas que possam reivindicar parte da heran\\u00e7a.\"\n",
            "              }\n",
            "            ],\n",
            "            \"role\": \"model\"\n",
            "          },\n",
            "          \"finish_reason\": \"STOP\",\n",
            "          \"index\": 0,\n",
            "          \"safety_ratings\": [\n",
            "            {\n",
            "              \"category\": \"HARM_CATEGORY_SEXUALLY_EXPLICIT\",\n",
            "              \"probability\": \"NEGLIGIBLE\"\n",
            "            },\n",
            "            {\n",
            "              \"category\": \"HARM_CATEGORY_HATE_SPEECH\",\n",
            "              \"probability\": \"NEGLIGIBLE\"\n",
            "            },\n",
            "            {\n",
            "              \"category\": \"HARM_CATEGORY_HARASSMENT\",\n",
            "              \"probability\": \"NEGLIGIBLE\"\n",
            "            },\n",
            "            {\n",
            "              \"category\": \"HARM_CATEGORY_DANGEROUS_CONTENT\",\n",
            "              \"probability\": \"NEGLIGIBLE\"\n",
            "            }\n",
            "          ]\n",
            "        }\n",
            "      ],\n",
            "      \"usage_metadata\": {\n",
            "        \"prompt_token_count\": 16,\n",
            "        \"candidates_token_count\": 341,\n",
            "        \"total_token_count\": 357\n",
            "      }\n",
            "    }),\n",
            ")\n",
            "Tempo de resposta: 0:00:06.776418\n",
            "response:\n",
            "GenerateContentResponse(\n",
            "    done=True,\n",
            "    iterator=None,\n",
            "    result=protos.GenerateContentResponse({\n",
            "      \"candidates\": [\n",
            "        {\n",
            "          \"content\": {\n",
            "            \"parts\": [\n",
            "              {\n",
            "                \"text\": \"**Direitos dos Herdeiros:**\\n\\n* **Direito \\u00e0 heran\\u00e7a:** Os herdeiros t\\u00eam o direito legal de herdar a propriedade e os bens da pessoa falecida, de acordo com a lei e as disposi\\u00e7\\u00f5es testament\\u00e1rias.\\n* **Direito \\u00e0 quota leg\\u00edtima:** Os herdeiros diretos (c\\u00f4njuge, filhos e ascendentes) t\\u00eam direito a uma por\\u00e7\\u00e3o m\\u00ednima da heran\\u00e7a, conhecida como quota leg\\u00edtima, que n\\u00e3o pode ser livremente disposta pelo falecido.\\n* **Direito \\u00e0 sucess\\u00e3o:** Os herdeiros t\\u00eam direito de suceder a propriedade e os bens da pessoa falecida, mesmo que n\\u00e3o tenham sido nomeados em um testamento.\\n* **Direito \\u00e0 informa\\u00e7\\u00e3o:** Os herdeiros t\\u00eam direito de receber informa\\u00e7\\u00f5es sobre a heran\\u00e7a, incluindo o valor dos bens, d\\u00edvidas e obriga\\u00e7\\u00f5es.\\n* **Direito \\u00e0 administra\\u00e7\\u00e3o:** Os herdeiros t\\u00eam direito de participar da administra\\u00e7\\u00e3o da heran\\u00e7a, como nomear um executor, tomar decis\\u00f5es sobre a divis\\u00e3o de bens e supervisionar o processo de invent\\u00e1rio e partilha.\\n* **Direito \\u00e0 impugna\\u00e7\\u00e3o:** Os herdeiros t\\u00eam direito de impugnar o testamento ou a distribui\\u00e7\\u00e3o da heran\\u00e7a se acreditarem que houve fraude, coer\\u00e7\\u00e3o ou erros.\\n* **Direito \\u00e0 peti\\u00e7\\u00e3o:** Os herdeiros podem apresentar peti\\u00e7\\u00f5es ao tribunal para resolver disputas sobre a heran\\u00e7a, como contestar a vontade ou obter uma contabilidade do executor.\\n* **Direito \\u00e0 prote\\u00e7\\u00e3o:** Os herdeiros t\\u00eam direito de serem protegidos contra credores e outras pessoas que possam reivindicar parte da heran\\u00e7a.\"\n",
            "              }\n",
            "            ],\n",
            "            \"role\": \"model\"\n",
            "          },\n",
            "          \"finish_reason\": \"STOP\",\n",
            "          \"index\": 0,\n",
            "          \"safety_ratings\": [\n",
            "            {\n",
            "              \"category\": \"HARM_CATEGORY_SEXUALLY_EXPLICIT\",\n",
            "              \"probability\": \"NEGLIGIBLE\"\n",
            "            },\n",
            "            {\n",
            "              \"category\": \"HARM_CATEGORY_HATE_SPEECH\",\n",
            "              \"probability\": \"NEGLIGIBLE\"\n",
            "            },\n",
            "            {\n",
            "              \"category\": \"HARM_CATEGORY_HARASSMENT\",\n",
            "              \"probability\": \"NEGLIGIBLE\"\n",
            "            },\n",
            "            {\n",
            "              \"category\": \"HARM_CATEGORY_DANGEROUS_CONTENT\",\n",
            "              \"probability\": \"NEGLIGIBLE\"\n",
            "            }\n",
            "          ]\n",
            "        }\n",
            "      ],\n",
            "      \"usage_metadata\": {\n",
            "        \"prompt_token_count\": 16,\n",
            "        \"candidates_token_count\": 341,\n",
            "        \"total_token_count\": 357\n",
            "      }\n",
            "    }),\n",
            ")\n"
          ]
        }
      ]
    },
    {
      "cell_type": "code",
      "source": [
        "if len(resposta_heranca.candidates) > 0:\n",
        "    heranca_content = resposta_heranca.candidates[0].content\n",
        "    if len(heranca_content.parts) > 0:\n",
        "      heranca_text = heranca_content.parts[0].text\n",
        "    else:\n",
        "      print(\"Melhore o teste\")"
      ],
      "metadata": {
        "id": "Hl4GGSZ6u7iy"
      },
      "execution_count": 29,
      "outputs": []
    },
    {
      "cell_type": "code",
      "source": [
        "Markdown(heranca_text)"
      ],
      "metadata": {
        "colab": {
          "base_uri": "https://localhost:8080/",
          "height": 278
        },
        "id": "kSK9SPflvP2I",
        "outputId": "84759475-34d0-4cce-de10-f1fb618df766"
      },
      "execution_count": 30,
      "outputs": [
        {
          "output_type": "execute_result",
          "data": {
            "text/plain": [
              "<IPython.core.display.Markdown object>"
            ],
            "text/markdown": "**Direitos dos Herdeiros:**\n\n* **Direito à herança:** Os herdeiros têm o direito legal de herdar a propriedade e os bens da pessoa falecida, de acordo com a lei e as disposições testamentárias.\n* **Direito à quota legítima:** Os herdeiros diretos (cônjuge, filhos e ascendentes) têm direito a uma porção mínima da herança, conhecida como quota legítima, que não pode ser livremente disposta pelo falecido.\n* **Direito à sucessão:** Os herdeiros têm direito de suceder a propriedade e os bens da pessoa falecida, mesmo que não tenham sido nomeados em um testamento.\n* **Direito à informação:** Os herdeiros têm direito de receber informações sobre a herança, incluindo o valor dos bens, dívidas e obrigações.\n* **Direito à administração:** Os herdeiros têm direito de participar da administração da herança, como nomear um executor, tomar decisões sobre a divisão de bens e supervisionar o processo de inventário e partilha.\n* **Direito à impugnação:** Os herdeiros têm direito de impugnar o testamento ou a distribuição da herança se acreditarem que houve fraude, coerção ou erros.\n* **Direito à petição:** Os herdeiros podem apresentar petições ao tribunal para resolver disputas sobre a herança, como contestar a vontade ou obter uma contabilidade do executor.\n* **Direito à proteção:** Os herdeiros têm direito de serem protegidos contra credores e outras pessoas que possam reivindicar parte da herança."
          },
          "metadata": {},
          "execution_count": 30
        }
      ]
    }
  ],
  "metadata": {
    "colab": {
      "provenance": [],
      "include_colab_link": true
    },
    "kernelspec": {
      "display_name": "Python 3",
      "name": "python3"
    }
  },
  "nbformat": 4,
  "nbformat_minor": 0
}