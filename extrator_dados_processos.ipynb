{
  "nbformat": 4,
  "nbformat_minor": 0,
  "metadata": {
    "colab": {
      "provenance": [],
      "authorship_tag": "ABX9TyNe92f2lEXNVLhl7e3A7YhX",
      "include_colab_link": true
    },
    "kernelspec": {
      "name": "python3",
      "display_name": "Python 3"
    },
    "language_info": {
      "name": "python"
    }
  },
  "cells": [
    {
      "cell_type": "markdown",
      "metadata": {
        "id": "view-in-github",
        "colab_type": "text"
      },
      "source": [
        "<a href=\"https://colab.research.google.com/github/armandossrecife/mysummary/blob/main/extrator_dados_processos.ipynb\" target=\"_parent\"><img src=\"https://colab.research.google.com/assets/colab-badge.svg\" alt=\"Open In Colab\"/></a>"
      ]
    },
    {
      "cell_type": "code",
      "execution_count": 1,
      "metadata": {
        "colab": {
          "base_uri": "https://localhost:8080/"
        },
        "id": "AZ1FQecR0kQJ",
        "outputId": "6786e246-d021-4672-c7a9-e8b07164b1e9"
      },
      "outputs": [
        {
          "output_type": "stream",
          "name": "stdout",
          "text": [
            "Requisição bem sucedida!\n",
            "[{'Tipo': 'Servidor', 'Identificador': '1886865', 'Nome': 'ARMANDO SOARES SOUSA'}]\n",
            "[{'Tipo do Documento': 'REQUERIMENTO', 'Data do Documento': '20/08/2024', 'Origem': 'DIPROT/PRAD (11.00.15.08.03)', 'Natureza': 'SIGILOSO'}, {'Tipo do Documento': 'DESPACHO', 'Data do Documento': '21/08/2024', 'Origem': 'CDP/SRH (11.00.15.05.02)', 'Natureza': ''}, {'Tipo do Documento': 'PORTARIA', 'Data do Documento': '12/06/2018', 'Origem': 'DC/CCN (11.00.24.05)', 'Natureza': 'OSTENSIVO'}, {'Tipo do Documento': 'DECLARAÇÃO', 'Data do Documento': '21/08/2024', 'Origem': 'DC/CCN (11.00.24.05)', 'Natureza': 'OSTENSIVO'}, {'Tipo do Documento': 'DESPACHO', 'Data do Documento': '23/08/2024', 'Origem': 'DC/CCN (11.00.24.05)', 'Natureza': 'OSTENSIVO'}, {'Tipo do Documento': 'DESPACHO', 'Data do Documento': '23/08/2024', 'Origem': 'CDP/SRH (11.00.15.05.02)', 'Natureza': ''}, {'Tipo do Documento': 'DESPACHO', 'Data do Documento': '24/09/2024', 'Origem': 'CDP/SRH (11.00.15.05.02)', 'Natureza': ''}, {'Tipo do Documento': 'DESPACHO', 'Data do Documento': '03/10/2024', 'Origem': 'PRPG (11.07)', 'Natureza': 'OSTENSIVO'}, {'Tipo do Documento': 'DESPACHO', 'Data do Documento': '09/10/2024', 'Origem': 'CPPD (11.00.05)', 'Natureza': 'OSTENSIVO'}]\n",
            "[{'Data Origem': '20/08/2024 15:36', 'Unidade Origem': 'DIVISAO DE PROTOCOLO E DOCUMENTACAO/PRAD (11.00.15.08.03)', 'Unidade Destino': 'SUPERINTENDÊNCIA DE RECURSOS HUMANOS (11.04)', 'Enviado Por': 'silvacarlos738', 'Recebido Em': '20/08/2024 16:03', 'Recebido Por': 'florenne'}, {'Data Origem': '20/08/2024 16:03', 'Unidade Origem': 'SUPERINTENDÊNCIA DE RECURSOS HUMANOS (11.04)', 'Unidade Destino': 'COORDENAÇÃO DE DESENV. DE PESSOAS/SRH (11.00.15.05.02)', 'Enviado Por': 'florenne', 'Recebido Em': '21/08/2024 10:27', 'Recebido Por': 'ulisses07'}, {'Data Origem': '21/08/2024 - \\n\\t\\t\\t\\t\\t\\t\\t\\t\\t\\t\\t\\t Despacho Ordinatório  \\n\\t\\t\\t\\t\\t\\t\\t\\t\\t\\t\\t\\t \\n\\t\\t\\t\\t\\t\\t\\t\\t\\t\\t\\t\\t\\t- COORDENAÇÃO DE DESENV. DE PESSOAS/SRH (11.00.15.05.02)', 'Unidade Origem': '', 'Unidade Destino': '21/08/2024 - \\n\\t\\t\\t\\t\\t\\t\\t\\t\\t\\t\\t\\t Despacho Ordinatório  \\n\\t\\t\\t\\t\\t\\t\\t\\t\\t\\t\\t\\t \\n\\t\\t\\t\\t\\t\\t\\t\\t\\t\\t\\t\\t\\t- COORDENAÇÃO DE DESENV. DE PESSOAS/SRH (11.00.15.05.02)', 'Enviado Por': ''}, {'Data Origem': '', 'Unidade Origem': '21/08/2024 - \\n\\t\\t\\t\\t\\t\\t\\t\\t\\t\\t\\t\\t Despacho Ordinatório  \\n\\t\\t\\t\\t\\t\\t\\t\\t\\t\\t\\t\\t \\n\\t\\t\\t\\t\\t\\t\\t\\t\\t\\t\\t\\t\\t- COORDENAÇÃO DE DESENV. DE PESSOAS/SRH (11.00.15.05.02)', 'Unidade Destino': ''}, {'Data Origem': '21/08/2024 10:29', 'Unidade Origem': 'COORDENAÇÃO DE DESENV. DE PESSOAS/SRH (11.00.15.05.02)', 'Unidade Destino': 'DEPARTAMENTO DE COMPUTAÇÃO/CCN (11.00.24.05)', 'Enviado Por': 'ulisses07', 'Recebido Em': '21/08/2024 10:40', 'Recebido Por': 'laurindoneto'}, {'Data Origem': '23/08/2024 - \\n\\t\\t\\t\\t\\t\\t\\t\\t\\t\\t\\t\\t Despacho Ordinatório  \\n\\t\\t\\t\\t\\t\\t\\t\\t\\t\\t\\t\\t \\n\\t\\t\\t\\t\\t\\t\\t\\t\\t\\t\\t\\t\\t- DEPARTAMENTO DE COMPUTAÇÃO/CCN (11.00.24.05)', 'Unidade Origem': '', 'Unidade Destino': '23/08/2024 - \\n\\t\\t\\t\\t\\t\\t\\t\\t\\t\\t\\t\\t Despacho Ordinatório  \\n\\t\\t\\t\\t\\t\\t\\t\\t\\t\\t\\t\\t \\n\\t\\t\\t\\t\\t\\t\\t\\t\\t\\t\\t\\t\\t- DEPARTAMENTO DE COMPUTAÇÃO/CCN (11.00.24.05)', 'Enviado Por': ''}, {'Data Origem': '', 'Unidade Origem': '23/08/2024 - \\n\\t\\t\\t\\t\\t\\t\\t\\t\\t\\t\\t\\t Despacho Ordinatório  \\n\\t\\t\\t\\t\\t\\t\\t\\t\\t\\t\\t\\t \\n\\t\\t\\t\\t\\t\\t\\t\\t\\t\\t\\t\\t\\t- DEPARTAMENTO DE COMPUTAÇÃO/CCN (11.00.24.05)', 'Unidade Destino': ''}, {'Data Origem': '23/08/2024 08:54', 'Unidade Origem': 'DEPARTAMENTO DE COMPUTAÇÃO/CCN (11.00.24.05)', 'Unidade Destino': 'COORDENAÇÃO DE DESENV. DE PESSOAS/SRH (11.00.15.05.02)', 'Enviado Por': 'laurindoneto', 'Recebido Em': '23/08/2024 09:42', 'Recebido Por': 'matheussspindola'}, {'Data Origem': '23/08/2024 - \\n\\t\\t\\t\\t\\t\\t\\t\\t\\t\\t\\t\\t Despacho Decisório  \\n\\t\\t\\t\\t\\t\\t\\t\\t\\t\\t\\t\\t \\n\\t\\t\\t\\t\\t\\t\\t\\t\\t\\t\\t\\t\\t- COORDENAÇÃO DE DESENV. DE PESSOAS/SRH (11.00.15.05.02)', 'Unidade Origem': '', 'Unidade Destino': '23/08/2024 - \\n\\t\\t\\t\\t\\t\\t\\t\\t\\t\\t\\t\\t Despacho Decisório  \\n\\t\\t\\t\\t\\t\\t\\t\\t\\t\\t\\t\\t \\n\\t\\t\\t\\t\\t\\t\\t\\t\\t\\t\\t\\t\\t- COORDENAÇÃO DE DESENV. DE PESSOAS/SRH (11.00.15.05.02)', 'Enviado Por': ''}, {'Data Origem': '', 'Unidade Origem': '23/08/2024 - \\n\\t\\t\\t\\t\\t\\t\\t\\t\\t\\t\\t\\t Despacho Decisório  \\n\\t\\t\\t\\t\\t\\t\\t\\t\\t\\t\\t\\t \\n\\t\\t\\t\\t\\t\\t\\t\\t\\t\\t\\t\\t\\t- COORDENAÇÃO DE DESENV. DE PESSOAS/SRH (11.00.15.05.02)', 'Unidade Destino': ''}, {'Data Origem': '23/08/2024 09:45', 'Unidade Origem': 'COORDENAÇÃO DE DESENV. DE PESSOAS/SRH (11.00.15.05.02)', 'Unidade Destino': 'COMISSÃO PERMANENTE DE AVALIAÇÃO DOCENTE/CCN (11.00.24.35)', 'Enviado Por': 'matheussspindola', 'Recebido Em': '11/09/2024 11:32', 'Recebido Por': 'gardene'}, {'Data Origem': '11/09/2024 11:35', 'Unidade Origem': 'COMISSÃO PERMANENTE DE AVALIAÇÃO DOCENTE/CCN (11.00.24.35)', 'Unidade Destino': 'PRO-REITORIA DE ENSINO DE POS-GRADUAÇAO (11.07)', 'Enviado Por': 'gardene', 'Recebido Em': '24/09/2024 10:26', 'Recebido Por': 'leandro'}, {'Data Origem': '24/09/2024 10:27', 'Unidade Origem': 'PRO-REITORIA DE ENSINO DE POS-GRADUAÇAO (11.07)', 'Unidade Destino': 'COORDENAÇÃO DE DESENV. DE PESSOAS/SRH (11.00.15.05.02)', 'Enviado Por': 'leandro', 'Recebido Em': '24/09/2024 11:25', 'Recebido Por': 'ulisses07'}, {'Data Origem': '24/09/2024 - \\n\\t\\t\\t\\t\\t\\t\\t\\t\\t\\t\\t\\t Despacho Ordinatório  \\n\\t\\t\\t\\t\\t\\t\\t\\t\\t\\t\\t\\t \\n\\t\\t\\t\\t\\t\\t\\t\\t\\t\\t\\t\\t\\t- COORDENAÇÃO DE DESENV. DE PESSOAS/SRH (11.00.15.05.02)', 'Unidade Origem': '', 'Unidade Destino': '24/09/2024 - \\n\\t\\t\\t\\t\\t\\t\\t\\t\\t\\t\\t\\t Despacho Ordinatório  \\n\\t\\t\\t\\t\\t\\t\\t\\t\\t\\t\\t\\t \\n\\t\\t\\t\\t\\t\\t\\t\\t\\t\\t\\t\\t\\t- COORDENAÇÃO DE DESENV. DE PESSOAS/SRH (11.00.15.05.02)', 'Enviado Por': ''}, {'Data Origem': '', 'Unidade Origem': '24/09/2024 - \\n\\t\\t\\t\\t\\t\\t\\t\\t\\t\\t\\t\\t Despacho Ordinatório  \\n\\t\\t\\t\\t\\t\\t\\t\\t\\t\\t\\t\\t \\n\\t\\t\\t\\t\\t\\t\\t\\t\\t\\t\\t\\t\\t- COORDENAÇÃO DE DESENV. DE PESSOAS/SRH (11.00.15.05.02)', 'Unidade Destino': ''}, {'Data Origem': '24/09/2024 11:28', 'Unidade Origem': 'COORDENAÇÃO DE DESENV. DE PESSOAS/SRH (11.00.15.05.02)', 'Unidade Destino': 'PRO-REITORIA DE ENSINO DE POS-GRADUAÇAO (11.07)', 'Enviado Por': 'ulisses07', 'Recebido Em': '03/10/2024 10:45', 'Recebido Por': 'leandro'}, {'Data Origem': '03/10/2024 - \\n\\t\\t\\t\\t\\t\\t\\t\\t\\t\\t\\t\\t Despacho Ordinatório  \\n\\t\\t\\t\\t\\t\\t\\t\\t\\t\\t\\t\\t \\n\\t\\t\\t\\t\\t\\t\\t\\t\\t\\t\\t\\t\\t- PRO-REITORIA DE ENSINO DE POS-GRADUAÇAO (11.07)', 'Unidade Origem': '', 'Unidade Destino': '03/10/2024 - \\n\\t\\t\\t\\t\\t\\t\\t\\t\\t\\t\\t\\t Despacho Ordinatório  \\n\\t\\t\\t\\t\\t\\t\\t\\t\\t\\t\\t\\t \\n\\t\\t\\t\\t\\t\\t\\t\\t\\t\\t\\t\\t\\t- PRO-REITORIA DE ENSINO DE POS-GRADUAÇAO (11.07)', 'Enviado Por': ''}, {'Data Origem': '', 'Unidade Origem': '03/10/2024 - \\n\\t\\t\\t\\t\\t\\t\\t\\t\\t\\t\\t\\t Despacho Ordinatório  \\n\\t\\t\\t\\t\\t\\t\\t\\t\\t\\t\\t\\t \\n\\t\\t\\t\\t\\t\\t\\t\\t\\t\\t\\t\\t\\t- PRO-REITORIA DE ENSINO DE POS-GRADUAÇAO (11.07)', 'Unidade Destino': ''}, {'Data Origem': '03/10/2024 18:52', 'Unidade Origem': 'PRO-REITORIA DE ENSINO DE POS-GRADUAÇAO (11.07)', 'Unidade Destino': 'COMISSAO PERMANENTE DE PESSOAL DOCENTE (11.00.05)', 'Enviado Por': 'regilda', 'Recebido Em': '04/10/2024 07:36', 'Recebido Por': 'tarciso'}, {'Data Origem': '09/10/2024 - \\n\\t\\t\\t\\t\\t\\t\\t\\t\\t\\t\\t\\t Despacho Decisório  \\n\\t\\t\\t\\t\\t\\t\\t\\t\\t\\t\\t\\t \\n\\t\\t\\t\\t\\t\\t\\t\\t\\t\\t\\t\\t\\t- COMISSAO PERMANENTE DE PESSOAL DOCENTE (11.00.05)', 'Unidade Origem': '', 'Unidade Destino': '09/10/2024 - \\n\\t\\t\\t\\t\\t\\t\\t\\t\\t\\t\\t\\t Despacho Decisório  \\n\\t\\t\\t\\t\\t\\t\\t\\t\\t\\t\\t\\t \\n\\t\\t\\t\\t\\t\\t\\t\\t\\t\\t\\t\\t\\t- COMISSAO PERMANENTE DE PESSOAL DOCENTE (11.00.05)', 'Enviado Por': ''}, {'Data Origem': '', 'Unidade Origem': '09/10/2024 - \\n\\t\\t\\t\\t\\t\\t\\t\\t\\t\\t\\t\\t Despacho Decisório  \\n\\t\\t\\t\\t\\t\\t\\t\\t\\t\\t\\t\\t \\n\\t\\t\\t\\t\\t\\t\\t\\t\\t\\t\\t\\t\\t- COMISSAO PERMANENTE DE PESSOAL DOCENTE (11.00.05)', 'Unidade Destino': ''}, {'Data Origem': '09/10/2024 09:54', 'Unidade Origem': 'COMISSAO PERMANENTE DE PESSOAL DOCENTE (11.00.05)', 'Unidade Destino': 'COORDENAÇÃO DE ADMINISTRACAO DE PESSOAL/SRH (11.00.15.05.01)', 'Enviado Por': 'tarciso', 'Recebido Em': '22/10/2024 16:07', 'Recebido Por': 'castrodaiana17'}]\n"
          ]
        }
      ],
      "source": [
        "import requests\n",
        "from bs4 import BeautifulSoup\n",
        "\n",
        "def get_html_content(url):\n",
        "  html_content = \"\"\n",
        "  try:\n",
        "    response = requests.get(url)\n",
        "    response.raise_for_status()  # Verifica se a requisição foi bem-sucedida\n",
        "\n",
        "    if response.status_code == 200:\n",
        "        print(\"Requisição bem sucedida!\")\n",
        "        html_content = response.content\n",
        "    else:\n",
        "        raise ValueError(\"Requisição falhou com o código de status:\", response.status_code)\n",
        "    return html_content\n",
        "  except requests.exceptions.RequestException as e:\n",
        "      raise ValueError(\"Error fetching the webpage:\", e)\n",
        "\n",
        "def extract_data_from_table(table, headers):\n",
        "    \"\"\"Extrai dados de uma tabela HTML e retorna uma lista de dicionários.\"\"\"\n",
        "    data = []\n",
        "    for row in table.find_all('tr'):\n",
        "        cells = row.find_all('td')\n",
        "        if cells:  # Verifica se a linha contém dados\n",
        "            row_data = dict(zip(headers, [cell.text.strip() for cell in cells]))\n",
        "            data.append(row_data)\n",
        "    return data\n",
        "\n",
        "class ProcessoExtractor:\n",
        "    def __init__(self, url):\n",
        "        self.url = url\n",
        "        self.soup = self._get_soup()\n",
        "\n",
        "    def _get_soup(self):\n",
        "        html_content = get_html_content(self.url)\n",
        "        return BeautifulSoup(html_content, 'html.parser')\n",
        "\n",
        "    def extract_interessado(self):\n",
        "        table = self.soup.find('table', class_='subListagem')\n",
        "        headers = ['Tipo', 'Identificador', 'Nome']\n",
        "        return extract_data_from_table(table, headers)\n",
        "\n",
        "    def extract_documentos(self):\n",
        "        table = self.soup.find_all('table', class_='subListagem')[1]  # Assumindo que a tabela de documentos é a segunda\n",
        "        headers = ['Tipo do Documento', 'Data do Documento', 'Origem', 'Natureza']\n",
        "        return extract_data_from_table(table, headers)\n",
        "\n",
        "    def extract_movimentacoes(self):\n",
        "        table = self.soup.find_all('table', class_='subListagem')[2]  # Assumindo que a tabela de movimentações é a terceira\n",
        "        headers = ['Data Origem', 'Unidade Origem', 'Unidade Destino', 'Enviado Por', 'Recebido Em', 'Recebido Por']\n",
        "        return extract_data_from_table(table, headers)\n",
        "\n",
        "    def get_all_data(self):\n",
        "        return {\n",
        "            \"interessado\": self.extract_interessado(),\n",
        "            \"documentos\": self.extract_documentos(),\n",
        "            \"movimentacoes\": self.extract_movimentacoes()\n",
        "        }\n",
        "\n",
        "# Usando a classe\n",
        "url_processo = \"https://www.sipac.ufpi.br/public/jsp/processos/processo_detalhado.jsf?id=666933\"\n",
        "extractor = ProcessoExtractor(url_processo)\n",
        "\n",
        "# Obtendo todos os dados do processo\n",
        "dados_processo = extractor.get_all_data()\n",
        "\n",
        "# Acessando os dados:\n",
        "print(dados_processo['interessado'])\n",
        "print(dados_processo['documentos'])\n",
        "print(dados_processo['movimentacoes'])"
      ]
    }
  ]
}