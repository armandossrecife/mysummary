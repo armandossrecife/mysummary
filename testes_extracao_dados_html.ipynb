{
  "nbformat": 4,
  "nbformat_minor": 0,
  "metadata": {
    "colab": {
      "provenance": [],
      "collapsed_sections": [
        "5nhu_6xV83We"
      ],
      "authorship_tag": "ABX9TyPw39OJSGHNE41uCUx2zvuE",
      "include_colab_link": true
    },
    "kernelspec": {
      "name": "python3",
      "display_name": "Python 3"
    },
    "language_info": {
      "name": "python"
    }
  },
  "cells": [
    {
      "cell_type": "markdown",
      "metadata": {
        "id": "view-in-github",
        "colab_type": "text"
      },
      "source": [
        "<a href=\"https://colab.research.google.com/github/armandossrecife/mysummary/blob/main/testes_extracao_dados_html.ipynb\" target=\"_parent\"><img src=\"https://colab.research.google.com/assets/colab-badge.svg\" alt=\"Open In Colab\"/></a>"
      ]
    },
    {
      "cell_type": "markdown",
      "source": [
        "# Usando o Beautifulsoup\n",
        "\n",
        "https://beautiful-soup-4.readthedocs.io/en/latest/\n",
        "\n",
        "https://en.wikipedia.org/wiki/Beautiful_Soup_(HTML_parser)\n",
        "\n",
        "Parse tree\n",
        "\n",
        "O processo de web scraping\n"
      ],
      "metadata": {
        "id": "_BMvoxy58adr"
      }
    },
    {
      "cell_type": "markdown",
      "source": [
        "## Instalando o Beautifulsoap"
      ],
      "metadata": {
        "id": "oT_T73Ep8ymZ"
      }
    },
    {
      "cell_type": "code",
      "execution_count": 190,
      "metadata": {
        "colab": {
          "base_uri": "https://localhost:8080/"
        },
        "id": "VToeQN6413rs",
        "outputId": "f8d10a95-a54c-40e9-81ef-05b23ef25e44"
      },
      "outputs": [
        {
          "output_type": "stream",
          "name": "stdout",
          "text": [
            "Requirement already satisfied: beautifulsoup4 in /usr/local/lib/python3.10/dist-packages (4.12.3)\n",
            "Requirement already satisfied: soupsieve>1.2 in /usr/local/lib/python3.10/dist-packages (from beautifulsoup4) (2.6)\n"
          ]
        }
      ],
      "source": [
        "!pip install beautifulsoup4"
      ]
    },
    {
      "cell_type": "markdown",
      "source": [
        "## Recuperando informações com o Beautifulsoap"
      ],
      "metadata": {
        "id": "5nhu_6xV83We"
      }
    },
    {
      "cell_type": "code",
      "source": [
        "from bs4 import BeautifulSoup\n",
        "import requests"
      ],
      "metadata": {
        "id": "89oNfcQK1-1A"
      },
      "execution_count": 191,
      "outputs": []
    },
    {
      "cell_type": "code",
      "source": [
        "# Fetch the HTML content of the webpage\n",
        "MY_URL = \"https://en.wikipedia.org/wiki/Linux\"\n",
        "html_content = \"\"\n",
        "\n",
        "try:\n",
        "  response = requests.get(MY_URL)\n",
        "  response.raise_for_status()  # Verifica se a requisição foi bem-sucedida\n",
        "\n",
        "  if response.status_code == 200:\n",
        "      print(\"Requisição bem sucedida!\")\n",
        "      html_content = response.content\n",
        "  else:\n",
        "      print(\"Requisição falhou com o código de status:\", response.status_code)\n",
        "except requests.exceptions.RequestException as e:\n",
        "    print(\"Error fetching the webpage:\", e)"
      ],
      "metadata": {
        "colab": {
          "base_uri": "https://localhost:8080/"
        },
        "id": "PUDNl-mX-950",
        "outputId": "3adb8bbf-3052-417e-b2f9-58b4a035e4c1"
      },
      "execution_count": 192,
      "outputs": [
        {
          "output_type": "stream",
          "name": "stdout",
          "text": [
            "Requisição bem sucedida!\n"
          ]
        }
      ]
    },
    {
      "cell_type": "code",
      "source": [
        "# Parse the HTML content\n",
        "soup = BeautifulSoup(html_content, 'html.parser')\n",
        "\n",
        "# <div id=\"mw-content-text\"\n",
        "body_content_div = soup.find('div', id=\"mw-content-text\")"
      ],
      "metadata": {
        "id": "l-pwrZxN_mdk"
      },
      "execution_count": 215,
      "outputs": []
    },
    {
      "cell_type": "code",
      "source": [
        "# Extract the text content\n",
        "if body_content_div:\n",
        "    content = body_content_div.get_text(strip=True)\n",
        "    fragmento = content[:1000]\n",
        "    print(fragmento)\n",
        "else:\n",
        "    print(\"Div with id 'bodyContent' not found.\")"
      ],
      "metadata": {
        "colab": {
          "base_uri": "https://localhost:8080/"
        },
        "id": "5QxtFnSy_tHS",
        "outputId": "4cf943b6-6bf6-48c6-93ef-4aa79cf3328b"
      },
      "execution_count": 216,
      "outputs": [
        {
          "output_type": "stream",
          "name": "stdout",
          "text": [
            "Family of Unix-like operating systemsThis article is about the family of operating systems. For the kernel, seeLinux kernel. For other uses, seeLinux (disambiguation).Operating systemLinuxTuxthe penguin, the mascot of Linux[1]DeveloperCommunity contributors,Linus TorvaldsWritten inC,assembly languages,Rustand othersOS familyUnix-likeWorking stateCurrentSource modelOpen sourceInitial releaseSeptember 17, 1991; 33 years ago(1991-09-17)Repositorygit.kernel.org/pub/scm/linux/kernel/git/torvalds/linux.git/github.com/torvalds/linuxMarketing targetCloud computing,embedded devices,mainframe computers,mobile devices,personal computers,servers,supercomputersAvailable inMultilingualPlatformsAlpha,ARC,ARM,C-Sky,Hexagon,LoongArch,m68k,Microblaze,MIPS,Nios II,OpenRISC,PA-RISC,PowerPC,RISC-V,s390,SuperH,SPARC,x86,XtensaKerneltypeMonolithicUserlandGNU,[a]BusyBox[b]Defaultuser interfaceUnix shell(CLI)Mostdistributionsinclude adesktop environment(GUI).LicenseGPLv2[9][c]Official websitekernel.orgArticles\n"
          ]
        }
      ]
    },
    {
      "cell_type": "markdown",
      "source": [
        "## Recuperando os dados de um protocolo"
      ],
      "metadata": {
        "id": "h1s8YmSoDot1"
      }
    },
    {
      "cell_type": "code",
      "source": [
        "class DocumentoProcesso:\n",
        "  def __init__(self, tipo, data, origem, natureza, link):\n",
        "    self.tipo = tipo\n",
        "    self.data = data\n",
        "    self.origem = origem\n",
        "    self.natureza = natureza\n",
        "    self.link = link\n",
        "\n",
        "  def __str__(self):\n",
        "    return f\"Tipo: {self.tipo}, Data: {self.data}, Origem: {self.origem}, Natureza: {self.natureza}, Link: {self.link}\"\n",
        "\n",
        "class MovimentacaoProcesso:\n",
        "  def __init__(self, data_origem, unidade_origem, unidade_destino, enviado_por, recebido_em, recebido_por):\n",
        "    self.data_origem = data_origem\n",
        "    self.unidade_origem = unidade_origem\n",
        "    self.unidade_destino = unidade_destino\n",
        "    self.enviado_por = enviado_por\n",
        "    self.recebido_em = recebido_em\n",
        "    self.recebido_por = recebido_por\n",
        "\n",
        "  def __str__(self):\n",
        "    return f\"Data Origem: {self.data_origem}, unidade origem: {self.unidade_origem}, unidade destino: {self.unidade_destino}, enviado por: {self.enviado_por}, recebido em: {self.recebido_em}, recebido por: {self.recebido_por}\""
      ],
      "metadata": {
        "id": "XaLsnoDHoSd-"
      },
      "execution_count": 217,
      "outputs": []
    },
    {
      "cell_type": "code",
      "source": [
        "def get_html_content(url):\n",
        "  html_content = \"\"\n",
        "  try:\n",
        "    response = requests.get(url)\n",
        "    response.raise_for_status()  # Verifica se a requisição foi bem-sucedida\n",
        "\n",
        "    if response.status_code == 200:\n",
        "        print(\"Requisição bem sucedida!\")\n",
        "        html_content = response.content\n",
        "    else:\n",
        "        raise ValueError(\"Requisição falhou com o código de status:\", response.status_code)\n",
        "    return html_content\n",
        "  except requests.exceptions.RequestException as e:\n",
        "      raise ValueError(\"Error fetching the webpage:\", e)"
      ],
      "metadata": {
        "id": "hWwITPVfDxuw"
      },
      "execution_count": 218,
      "outputs": []
    },
    {
      "cell_type": "code",
      "source": [
        "URL_PROTOCOLO = \"https://www.sipac.ufpi.br/public/jsp/processos/processo_detalhado.jsf?id=594067\"\n",
        "\n",
        "html_protocolo = get_html_content(URL_PROTOCOLO)"
      ],
      "metadata": {
        "colab": {
          "base_uri": "https://localhost:8080/"
        },
        "id": "fvXpBlqKDrdD",
        "outputId": "399f4cad-1f39-4edd-ada6-7bc9d0cea064"
      },
      "execution_count": 219,
      "outputs": [
        {
          "output_type": "stream",
          "name": "stdout",
          "text": [
            "Requisição bem sucedida!\n"
          ]
        }
      ]
    },
    {
      "cell_type": "code",
      "source": [
        "# Parse the HTML content\n",
        "soup = BeautifulSoup(html_protocolo, 'html.parser')"
      ],
      "metadata": {
        "id": "ZsWdXsYLEoj1"
      },
      "execution_count": 220,
      "outputs": []
    },
    {
      "cell_type": "code",
      "source": [
        "# Recupera os dados das tabelas do site\n",
        "\n",
        "table_dados = soup.find_all('table', class_='subListagem')\n",
        "table_dados_interessado = table_dados[0]\n",
        "table_dados_documentos = table_dados[1]\n",
        "table_dados_movimentacoes = table_dados[2]"
      ],
      "metadata": {
        "id": "4rW3tl1JRm5X"
      },
      "execution_count": 222,
      "outputs": []
    },
    {
      "cell_type": "code",
      "source": [
        "# Recupera dados do interessado do processo\n",
        "for row in table_dados_interessado.find_all('tr'):\n",
        "    data_cells = row.find_all('td', recursive=False)\n",
        "    for cell in data_cells:\n",
        "        print(cell.text.strip())"
      ],
      "metadata": {
        "colab": {
          "base_uri": "https://localhost:8080/"
        },
        "id": "ZN__91IfXXPG",
        "outputId": "c211398c-88e2-4e25-bf6e-98c8d8188e05"
      },
      "execution_count": 223,
      "outputs": [
        {
          "output_type": "stream",
          "name": "stdout",
          "text": [
            "Servidor\n",
            "1886865\n",
            "ARMANDO SOARES SOUSA\n"
          ]
        }
      ]
    },
    {
      "cell_type": "code",
      "source": [
        "# Recupera os dados basicos do processo\n",
        "# Find the outer table\n",
        "table_dados_basicos = soup.find('table', class_='formulario', style=\"width: 100%;\")\n",
        "\n",
        "# Extract data from each row\n",
        "for i, row in enumerate(table_dados_basicos.find_all('tr')):\n",
        "    data_cells = row.find_all('td', recursive=False)\n",
        "    if i < 10:\n",
        "      for cell in data_cells:\n",
        "          print(cell.text.strip())"
      ],
      "metadata": {
        "colab": {
          "base_uri": "https://localhost:8080/"
        },
        "id": "47zaPla1SRwN",
        "outputId": "e6508b15-35f1-4e11-ffdf-47a8a2914fb6"
      },
      "execution_count": 224,
      "outputs": [
        {
          "output_type": "stream",
          "name": "stdout",
          "text": [
            "23111.052861/2021-71\n",
            "Interno\n",
            "22/12/2021 11:24\n",
            "LUIS GUSTAVO DOS SANTOS VIANA\n",
            "SOLICITACAO\n",
            "RENOVAÇÃO DE AFASTAMENTO PARA QUALIFICAÇÃO (DOUTORADO)\n",
            "OSTENSIVO\n",
            "DIVISAO DE PROTOCOLO E DOCUMENTACAO/PRAD (11.00.15.08.03)\n",
            "ARQUIVADO\n",
            "22/12/2021\n"
          ]
        }
      ]
    },
    {
      "cell_type": "code",
      "source": [
        "# Recupera os documentos do processo\n",
        "\n",
        "lista_documentos = []\n",
        "for row in table_dados_documentos.find_all('tr'):\n",
        "    data_cells = row.find_all('td', recursive=False)\n",
        "    my_link = ''\n",
        "    lista_links = []\n",
        "    for i, cell in enumerate(data_cells):\n",
        "        if i == 0:\n",
        "          tipo = cell.text.strip()\n",
        "        elif i == 1:\n",
        "          data = cell.text.strip()\n",
        "        elif i == 2:\n",
        "          origem = cell.text.strip()\n",
        "        elif i == 3:\n",
        "          natureza = cell.text.strip()\n",
        "        if cell.find_all('a'):\n",
        "          for link in cell.find_all('a'):\n",
        "            lista_links.append(link['href'])\n",
        "          my_link = lista_links[0]\n",
        "        documento = DocumentoProcesso(tipo, data, origem, natureza, my_link)\n",
        "    lista_documentos.append(documento)"
      ],
      "metadata": {
        "id": "YGbntlQgW10F"
      },
      "execution_count": 225,
      "outputs": []
    },
    {
      "cell_type": "code",
      "source": [
        "for each in lista_documentos:\n",
        "  print(each)"
      ],
      "metadata": {
        "colab": {
          "base_uri": "https://localhost:8080/"
        },
        "id": "kE3XPnI-XxTJ",
        "outputId": "99db9a07-f27a-4862-afd1-b4040827fb0d"
      },
      "execution_count": 204,
      "outputs": [
        {
          "output_type": "stream",
          "name": "stdout",
          "text": [
            "Tipo: DESPACHO, Data: 30/05/2022, Origem: CAP/SRH (11.00.15.05.01), Natureza: OSTENSIVO, Link: #\n",
            "Tipo: REQUERIMENTO, Data: 22/12/2021, Origem: DIPROT/PRAD (11.00.15.08.03), Natureza: OSTENSIVO, Link: /public/downloadArquivo?idArquivo=4223938&key=1dc94c5c6e5a4558b5be94581c6e9a37\n",
            "Tipo: DESPACHO, Data: 28/12/2021, Origem: DC/CCN (11.00.24.05), Natureza: OSTENSIVO, Link: #\n",
            "Tipo: DESPACHO, Data: 28/12/2021, Origem: CCN (11.00.24), Natureza: OSTENSIVO, Link: #\n",
            "Tipo: DESPACHO, Data: 04/01/2022, Origem: DC/CCN (11.00.24.05), Natureza: OSTENSIVO, Link: #\n",
            "Tipo: PARECER DE RELATOR DE PROCESSO, Data: 12/01/2022, Origem: CCN (11.00.24), Natureza: OSTENSIVO, Link: /public/downloadArquivo?idArquivo=4237015&key=8b1c81e486c2e279d5e4a0222a83e57e\n",
            "Tipo: DESPACHO, Data: 12/01/2022, Origem: CCN (11.00.24), Natureza: OSTENSIVO, Link: #\n",
            "Tipo: DESPACHO, Data: 12/01/2022, Origem: GAB (11.00.01), Natureza: OSTENSIVO, Link: #\n",
            "Tipo: DOCUMENTOS COMPROBATÓRIOS, Data: 05/01/2022, Origem: CCN (11.00.24), Natureza: OSTENSIVO, Link: /public/downloadArquivo?idArquivo=4237447&key=a78cbbe15ef7ff5f543fef44bd2cb0a6\n",
            "Tipo: DESPACHO, Data: 12/01/2022, Origem: CCN (11.00.24), Natureza: OSTENSIVO, Link: #\n",
            "Tipo: DESPACHO, Data: 14/01/2022, Origem: GAB (11.00.01), Natureza: OSTENSIVO, Link: #\n",
            "Tipo: DESPACHO, Data: 15/02/2022, Origem: SECCON/GAB (11.00.01.03), Natureza: OSTENSIVO, Link: #\n",
            "Tipo: DESPACHO, Data: 15/02/2022, Origem: GAB (11.00.01), Natureza: OSTENSIVO, Link: #\n",
            "Tipo: DESPACHO, Data: 15/02/2022, Origem: PRPG (11.07), Natureza: , Link: #\n",
            "Tipo: DESPACHO, Data: 17/02/2022, Origem: CPSS/PRPG (11.07.01), Natureza: OSTENSIVO, Link: #\n",
            "Tipo: DESPACHO, Data: 17/02/2022, Origem: SRH (11.04), Natureza: , Link: #\n",
            "Tipo: DESPACHO, Data: 09/03/2022, Origem: CAP/SRH (11.00.15.05.01), Natureza: OSTENSIVO, Link: #\n",
            "Tipo: DESPACHO, Data: 10/03/2022, Origem: CDP/SRH (11.00.15.05.02), Natureza: , Link: #\n",
            "Tipo: DESPACHO, Data: 22/03/2022, Origem: SRH (11.04), Natureza: OSTENSIVO, Link: #\n",
            "Tipo: DESPACHO, Data: 03/04/2022, Origem: PRPG (11.07), Natureza: , Link: #\n",
            "Tipo: DESPACHO, Data: 04/04/2022, Origem: CPSS/PRPG (11.07.01), Natureza: OSTENSIVO, Link: #\n",
            "Tipo: DESPACHO, Data: 10/04/2022, Origem: PRPG (11.07), Natureza: , Link: #\n",
            "Tipo: DESPACHO, Data: 12/04/2022, Origem: CPPD (11.00.05), Natureza: OSTENSIVO, Link: /public/downloadArquivo?idArquivo=4444426&key=79da6d9d6f3a61d2ab09521e47030c94\n",
            "Tipo: DESPACHO, Data: 13/04/2022, Origem: GAB (11.00.01), Natureza: OSTENSIVO, Link: #\n",
            "Tipo: ATO DA REITORIA, Data: 13/04/2022, Origem: GAB (11.00.01), Natureza: OSTENSIVO, Link: /public/downloadArquivo?idArquivo=4459625&key=7d17f3154594c95f9219653d987d6153\n",
            "Tipo: DESPACHO, Data: 20/04/2022, Origem: SECADM (11.00.01.04), Natureza: OSTENSIVO, Link: #\n",
            "Tipo: DESPACHO, Data: 20/04/2022, Origem: SRH (11.04), Natureza: , Link: #\n",
            "Tipo: DESPACHO, Data: 30/05/2022, Origem: CAP/SRH (11.00.15.05.01), Natureza: OSTENSIVO, Link: #\n"
          ]
        }
      ]
    },
    {
      "cell_type": "code",
      "source": [
        "# Recupera as movimentacoes do processo\n",
        "\n",
        "lista_movimentacoes = []\n",
        "for row in table_dados_movimentacoes.find_all('tr'):\n",
        "    data_cells = row.find_all('td', recursive=False)\n",
        "    for i, cell in enumerate(data_cells):\n",
        "      if i == 0:\n",
        "        data_origem = cell.text.strip()\n",
        "      elif i == 1:\n",
        "        unidade_origem = cell.text.strip()\n",
        "      elif i == 2:\n",
        "        unidade_destino = cell.text.strip()\n",
        "      elif i == 3:\n",
        "        enviado_por = cell.text.strip()\n",
        "      elif i == 4:\n",
        "        recebido_em = cell.text.strip()\n",
        "      elif i == 5:\n",
        "        recebido_por = cell.text.strip()\n",
        "      movimentacao = MovimentacaoProcesso(data_origem, unidade_origem, unidade_destino, enviado_por, recebido_em, recebido_por)\n",
        "    lista_movimentacoes.append(movimentacao)"
      ],
      "metadata": {
        "id": "uzVdU65vbmrQ"
      },
      "execution_count": 226,
      "outputs": []
    },
    {
      "cell_type": "code",
      "source": [
        "for movimentacao in lista_movimentacoes:\n",
        "  print(movimentacao)\n",
        "  print('--')"
      ],
      "metadata": {
        "colab": {
          "base_uri": "https://localhost:8080/"
        },
        "id": "D7UqH9cmkdPV",
        "outputId": "dd29d2af-113d-40a5-8ece-7fc00753d4db"
      },
      "execution_count": 206,
      "outputs": [
        {
          "output_type": "stream",
          "name": "stdout",
          "text": [
            "Data Origem: 30/05/2022 10:35, unidade origem: COORDENAÇÃO DE ADMINISTRACAO DE PESSOAL/SRH (11.00.15.05.01), unidade destino: DIVISÃO DE ARQUIVO E MICROFILMAGEM/PRAD (11.00.15.08.04), enviado por: hellyne, recebido em: 30/05/2022 10:50, recebido por: joaobliborio\n",
            "--\n",
            "Data Origem: 22/12/2021 11:23, unidade origem: DIVISAO DE PROTOCOLO E DOCUMENTACAO/PRAD (11.00.15.08.03), unidade destino: DEPARTAMENTO DE COMPUTAÇÃO/CCN (11.00.24.05), enviado por: luisgustavoviana, recebido em: 28/12/2021 12:35, recebido por: lucas.alexander\n",
            "--\n",
            "Data Origem: 28/12/2021 - \n",
            "\t\t\t\t\t\t\t\t\t\t\t\t Despacho Ordinatório  \n",
            "\t\t\t\t\t\t\t\t\t\t\t\t \n",
            "\t\t\t\t\t\t\t\t\t\t\t\t\t- DEPARTAMENTO DE COMPUTAÇÃO/CCN (11.00.24.05), unidade origem: DIVISAO DE PROTOCOLO E DOCUMENTACAO/PRAD (11.00.15.08.03), unidade destino: DEPARTAMENTO DE COMPUTAÇÃO/CCN (11.00.24.05), enviado por: luisgustavoviana, recebido em: 28/12/2021 12:35, recebido por: lucas.alexander\n",
            "--\n",
            "Data Origem: , unidade origem: 28/12/2021 - \n",
            "\t\t\t\t\t\t\t\t\t\t\t\t Despacho Ordinatório  \n",
            "\t\t\t\t\t\t\t\t\t\t\t\t \n",
            "\t\t\t\t\t\t\t\t\t\t\t\t\t- DEPARTAMENTO DE COMPUTAÇÃO/CCN (11.00.24.05), unidade destino: , enviado por: luisgustavoviana, recebido em: 28/12/2021 12:35, recebido por: lucas.alexander\n",
            "--\n",
            "Data Origem: 28/12/2021 15:25, unidade origem: DEPARTAMENTO DE COMPUTAÇÃO/CCN (11.00.24.05), unidade destino: CENTRO DE CIENCIAS DA NATUREZA (11.00.24), enviado por: lucas.alexander, recebido em: 28/12/2021 15:45, recebido por: elvina\n",
            "--\n",
            "Data Origem: 28/12/2021 - \n",
            "\t\t\t\t\t\t\t\t\t\t\t\t Despacho Interlocutório  \n",
            "\t\t\t\t\t\t\t\t\t\t\t\t \n",
            "\t\t\t\t\t\t\t\t\t\t\t\t\t- CENTRO DE CIENCIAS DA NATUREZA (11.00.24), unidade origem: DEPARTAMENTO DE COMPUTAÇÃO/CCN (11.00.24.05), unidade destino: CENTRO DE CIENCIAS DA NATUREZA (11.00.24), enviado por: lucas.alexander, recebido em: 28/12/2021 15:45, recebido por: elvina\n",
            "--\n",
            "Data Origem: , unidade origem: 28/12/2021 - \n",
            "\t\t\t\t\t\t\t\t\t\t\t\t Despacho Interlocutório  \n",
            "\t\t\t\t\t\t\t\t\t\t\t\t \n",
            "\t\t\t\t\t\t\t\t\t\t\t\t\t- CENTRO DE CIENCIAS DA NATUREZA (11.00.24), unidade destino: , enviado por: lucas.alexander, recebido em: 28/12/2021 15:45, recebido por: elvina\n",
            "--\n",
            "Data Origem: 28/12/2021 16:15, unidade origem: CENTRO DE CIENCIAS DA NATUREZA (11.00.24), unidade destino: DEPARTAMENTO DE COMPUTAÇÃO/CCN (11.00.24.05), enviado por: elvina, recebido em: 29/12/2021 10:07, recebido por: lucas.alexander\n",
            "--\n",
            "Data Origem: 04/01/2022 - \n",
            "\t\t\t\t\t\t\t\t\t\t\t\t Despacho Ordinatório  \n",
            "\t\t\t\t\t\t\t\t\t\t\t\t \n",
            "\t\t\t\t\t\t\t\t\t\t\t\t\t- DEPARTAMENTO DE COMPUTAÇÃO/CCN (11.00.24.05), unidade origem: CENTRO DE CIENCIAS DA NATUREZA (11.00.24), unidade destino: DEPARTAMENTO DE COMPUTAÇÃO/CCN (11.00.24.05), enviado por: elvina, recebido em: 29/12/2021 10:07, recebido por: lucas.alexander\n",
            "--\n",
            "Data Origem: , unidade origem: 04/01/2022 - \n",
            "\t\t\t\t\t\t\t\t\t\t\t\t Despacho Ordinatório  \n",
            "\t\t\t\t\t\t\t\t\t\t\t\t \n",
            "\t\t\t\t\t\t\t\t\t\t\t\t\t- DEPARTAMENTO DE COMPUTAÇÃO/CCN (11.00.24.05), unidade destino: , enviado por: elvina, recebido em: 29/12/2021 10:07, recebido por: lucas.alexander\n",
            "--\n",
            "Data Origem: 04/01/2022 14:40, unidade origem: DEPARTAMENTO DE COMPUTAÇÃO/CCN (11.00.24.05), unidade destino: CENTRO DE CIENCIAS DA NATUREZA (11.00.24), enviado por: lucas.alexander, recebido em: 04/01/2022 15:46, recebido por: elvina\n",
            "--\n",
            "Data Origem: 12/01/2022 - \n",
            "\t\t\t\t\t\t\t\t\t\t\t\t Despacho Ordinatório  \n",
            "\t\t\t\t\t\t\t\t\t\t\t\t \n",
            "\t\t\t\t\t\t\t\t\t\t\t\t\t- CENTRO DE CIENCIAS DA NATUREZA (11.00.24), unidade origem: DEPARTAMENTO DE COMPUTAÇÃO/CCN (11.00.24.05), unidade destino: CENTRO DE CIENCIAS DA NATUREZA (11.00.24), enviado por: lucas.alexander, recebido em: 04/01/2022 15:46, recebido por: elvina\n",
            "--\n",
            "Data Origem: , unidade origem: 12/01/2022 - \n",
            "\t\t\t\t\t\t\t\t\t\t\t\t Despacho Ordinatório  \n",
            "\t\t\t\t\t\t\t\t\t\t\t\t \n",
            "\t\t\t\t\t\t\t\t\t\t\t\t\t- CENTRO DE CIENCIAS DA NATUREZA (11.00.24), unidade destino: , enviado por: lucas.alexander, recebido em: 04/01/2022 15:46, recebido por: elvina\n",
            "--\n",
            "Data Origem: 12/01/2022 09:26, unidade origem: CENTRO DE CIENCIAS DA NATUREZA (11.00.24), unidade destino: GABINETE DO REITOR (11.00.01), enviado por: anakarolina, recebido em: 12/01/2022 09:48, recebido por: roberlaneaufpi\n",
            "--\n",
            "Data Origem: 12/01/2022 - \n",
            "\t\t\t\t\t\t\t\t\t\t\t\t Despacho Ordinatório  \n",
            "\t\t\t\t\t\t\t\t\t\t\t\t \n",
            "\t\t\t\t\t\t\t\t\t\t\t\t\t- GABINETE DO REITOR (11.00.01), unidade origem: CENTRO DE CIENCIAS DA NATUREZA (11.00.24), unidade destino: GABINETE DO REITOR (11.00.01), enviado por: anakarolina, recebido em: 12/01/2022 09:48, recebido por: roberlaneaufpi\n",
            "--\n",
            "Data Origem: , unidade origem: 12/01/2022 - \n",
            "\t\t\t\t\t\t\t\t\t\t\t\t Despacho Ordinatório  \n",
            "\t\t\t\t\t\t\t\t\t\t\t\t \n",
            "\t\t\t\t\t\t\t\t\t\t\t\t\t- GABINETE DO REITOR (11.00.01), unidade destino: , enviado por: anakarolina, recebido em: 12/01/2022 09:48, recebido por: roberlaneaufpi\n",
            "--\n",
            "Data Origem: 12/01/2022 14:12, unidade origem: GABINETE DO REITOR (11.00.01), unidade destino: CENTRO DE CIENCIAS DA NATUREZA (11.00.24), enviado por: priscila, recebido em: 12/01/2022 14:14, recebido por: anakarolina\n",
            "--\n",
            "Data Origem: 12/01/2022 - \n",
            "\t\t\t\t\t\t\t\t\t\t\t\t Despacho Saneador  \n",
            "\t\t\t\t\t\t\t\t\t\t\t\t \n",
            "\t\t\t\t\t\t\t\t\t\t\t\t\t- CENTRO DE CIENCIAS DA NATUREZA (11.00.24), unidade origem: GABINETE DO REITOR (11.00.01), unidade destino: CENTRO DE CIENCIAS DA NATUREZA (11.00.24), enviado por: priscila, recebido em: 12/01/2022 14:14, recebido por: anakarolina\n",
            "--\n",
            "Data Origem: , unidade origem: 12/01/2022 - \n",
            "\t\t\t\t\t\t\t\t\t\t\t\t Despacho Saneador  \n",
            "\t\t\t\t\t\t\t\t\t\t\t\t \n",
            "\t\t\t\t\t\t\t\t\t\t\t\t\t- CENTRO DE CIENCIAS DA NATUREZA (11.00.24), unidade destino: , enviado por: priscila, recebido em: 12/01/2022 14:14, recebido por: anakarolina\n",
            "--\n",
            "Data Origem: 12/01/2022 14:37, unidade origem: CENTRO DE CIENCIAS DA NATUREZA (11.00.24), unidade destino: GABINETE DO REITOR (11.00.01), enviado por: anakarolina, recebido em: 12/01/2022 17:38, recebido por: wanessalive34\n",
            "--\n",
            "Data Origem: 14/01/2022 - \n",
            "\t\t\t\t\t\t\t\t\t\t\t\t Despacho Ordinatório  \n",
            "\t\t\t\t\t\t\t\t\t\t\t\t \n",
            "\t\t\t\t\t\t\t\t\t\t\t\t\t- GABINETE DO REITOR (11.00.01), unidade origem: CENTRO DE CIENCIAS DA NATUREZA (11.00.24), unidade destino: GABINETE DO REITOR (11.00.01), enviado por: anakarolina, recebido em: 12/01/2022 17:38, recebido por: wanessalive34\n",
            "--\n",
            "Data Origem: , unidade origem: 14/01/2022 - \n",
            "\t\t\t\t\t\t\t\t\t\t\t\t Despacho Ordinatório  \n",
            "\t\t\t\t\t\t\t\t\t\t\t\t \n",
            "\t\t\t\t\t\t\t\t\t\t\t\t\t- GABINETE DO REITOR (11.00.01), unidade destino: , enviado por: anakarolina, recebido em: 12/01/2022 17:38, recebido por: wanessalive34\n",
            "--\n",
            "Data Origem: 14/01/2022 10:29, unidade origem: GABINETE DO REITOR (11.00.01), unidade destino: SECRETARIA DOS CONSELHOS/GABINETE (11.00.01.03), enviado por: roberlaneaufpi, recebido em: 24/01/2022 10:01, recebido por: cardozzo\n",
            "--\n",
            "Data Origem: 15/02/2022 - \n",
            "\t\t\t\t\t\t\t\t\t\t\t\t Despacho Ordinatório  \n",
            "\t\t\t\t\t\t\t\t\t\t\t\t \n",
            "\t\t\t\t\t\t\t\t\t\t\t\t\t- SECRETARIA DOS CONSELHOS/GABINETE (11.00.01.03), unidade origem: GABINETE DO REITOR (11.00.01), unidade destino: SECRETARIA DOS CONSELHOS/GABINETE (11.00.01.03), enviado por: roberlaneaufpi, recebido em: 24/01/2022 10:01, recebido por: cardozzo\n",
            "--\n",
            "Data Origem: , unidade origem: 15/02/2022 - \n",
            "\t\t\t\t\t\t\t\t\t\t\t\t Despacho Ordinatório  \n",
            "\t\t\t\t\t\t\t\t\t\t\t\t \n",
            "\t\t\t\t\t\t\t\t\t\t\t\t\t- SECRETARIA DOS CONSELHOS/GABINETE (11.00.01.03), unidade destino: , enviado por: roberlaneaufpi, recebido em: 24/01/2022 10:01, recebido por: cardozzo\n",
            "--\n",
            "Data Origem: 15/02/2022 12:23, unidade origem: SECRETARIA DOS CONSELHOS/GABINETE (11.00.01.03), unidade destino: GABINETE DO REITOR (11.00.01), enviado por: l1630135, recebido em: 15/02/2022 12:27, recebido por: carminda\n",
            "--\n",
            "Data Origem: 15/02/2022 - \n",
            "\t\t\t\t\t\t\t\t\t\t\t\t Despacho Ordinatório  \n",
            "\t\t\t\t\t\t\t\t\t\t\t\t \n",
            "\t\t\t\t\t\t\t\t\t\t\t\t\t- GABINETE DO REITOR (11.00.01), unidade origem: SECRETARIA DOS CONSELHOS/GABINETE (11.00.01.03), unidade destino: GABINETE DO REITOR (11.00.01), enviado por: l1630135, recebido em: 15/02/2022 12:27, recebido por: carminda\n",
            "--\n",
            "Data Origem: , unidade origem: 15/02/2022 - \n",
            "\t\t\t\t\t\t\t\t\t\t\t\t Despacho Ordinatório  \n",
            "\t\t\t\t\t\t\t\t\t\t\t\t \n",
            "\t\t\t\t\t\t\t\t\t\t\t\t\t- GABINETE DO REITOR (11.00.01), unidade destino: , enviado por: l1630135, recebido em: 15/02/2022 12:27, recebido por: carminda\n",
            "--\n",
            "Data Origem: 15/02/2022 12:30, unidade origem: GABINETE DO REITOR (11.00.01), unidade destino: PRO-REITORIA DE ENSINO DE POS-GRADUAÇAO (11.07), enviado por: carminda, recebido em: 15/02/2022 23:07, recebido por: regilda\n",
            "--\n",
            "Data Origem: 15/02/2022 - \n",
            "\t\t\t\t\t\t\t\t\t\t\t\t Despacho Ordinatório  \n",
            "\t\t\t\t\t\t\t\t\t\t\t\t \n",
            "\t\t\t\t\t\t\t\t\t\t\t\t\t- PRO-REITORIA DE ENSINO DE POS-GRADUAÇAO (11.07), unidade origem: GABINETE DO REITOR (11.00.01), unidade destino: PRO-REITORIA DE ENSINO DE POS-GRADUAÇAO (11.07), enviado por: carminda, recebido em: 15/02/2022 23:07, recebido por: regilda\n",
            "--\n",
            "Data Origem: , unidade origem: 15/02/2022 - \n",
            "\t\t\t\t\t\t\t\t\t\t\t\t Despacho Ordinatório  \n",
            "\t\t\t\t\t\t\t\t\t\t\t\t \n",
            "\t\t\t\t\t\t\t\t\t\t\t\t\t- PRO-REITORIA DE ENSINO DE POS-GRADUAÇAO (11.07), unidade destino: , enviado por: carminda, recebido em: 15/02/2022 23:07, recebido por: regilda\n",
            "--\n",
            "Data Origem: 15/02/2022 23:11, unidade origem: PRO-REITORIA DE ENSINO DE POS-GRADUAÇAO (11.07), unidade destino: COORDENADORIA DE PROGRAMAS STRICTO SENSU/PRPG (11.07.01), enviado por: regilda, recebido em: 16/02/2022 00:19, recebido por: franciscohistoria\n",
            "--\n",
            "Data Origem: 17/02/2022 - \n",
            "\t\t\t\t\t\t\t\t\t\t\t\t Despacho Interlocutório  \n",
            "\t\t\t\t\t\t\t\t\t\t\t\t \n",
            "\t\t\t\t\t\t\t\t\t\t\t\t\t- COORDENADORIA DE PROGRAMAS STRICTO SENSU/PRPG (11.07.01), unidade origem: PRO-REITORIA DE ENSINO DE POS-GRADUAÇAO (11.07), unidade destino: COORDENADORIA DE PROGRAMAS STRICTO SENSU/PRPG (11.07.01), enviado por: regilda, recebido em: 16/02/2022 00:19, recebido por: franciscohistoria\n",
            "--\n",
            "Data Origem: , unidade origem: 17/02/2022 - \n",
            "\t\t\t\t\t\t\t\t\t\t\t\t Despacho Interlocutório  \n",
            "\t\t\t\t\t\t\t\t\t\t\t\t \n",
            "\t\t\t\t\t\t\t\t\t\t\t\t\t- COORDENADORIA DE PROGRAMAS STRICTO SENSU/PRPG (11.07.01), unidade destino: , enviado por: regilda, recebido em: 16/02/2022 00:19, recebido por: franciscohistoria\n",
            "--\n",
            "Data Origem: 17/02/2022 12:27, unidade origem: COORDENADORIA DE PROGRAMAS STRICTO SENSU/PRPG (11.07.01), unidade destino: SUPERINTENDÊNCIA DE RECURSOS HUMANOS (11.04), enviado por: keilaemanuelle, recebido em: 17/02/2022 17:06, recebido por: matheussspindola\n",
            "--\n",
            "Data Origem: 17/02/2022 - \n",
            "\t\t\t\t\t\t\t\t\t\t\t\t Despacho Ordinatório  \n",
            "\t\t\t\t\t\t\t\t\t\t\t\t \n",
            "\t\t\t\t\t\t\t\t\t\t\t\t\t- SUPERINTENDÊNCIA DE RECURSOS HUMANOS (11.04), unidade origem: COORDENADORIA DE PROGRAMAS STRICTO SENSU/PRPG (11.07.01), unidade destino: SUPERINTENDÊNCIA DE RECURSOS HUMANOS (11.04), enviado por: keilaemanuelle, recebido em: 17/02/2022 17:06, recebido por: matheussspindola\n",
            "--\n",
            "Data Origem: , unidade origem: 17/02/2022 - \n",
            "\t\t\t\t\t\t\t\t\t\t\t\t Despacho Ordinatório  \n",
            "\t\t\t\t\t\t\t\t\t\t\t\t \n",
            "\t\t\t\t\t\t\t\t\t\t\t\t\t- SUPERINTENDÊNCIA DE RECURSOS HUMANOS (11.04), unidade destino: , enviado por: keilaemanuelle, recebido em: 17/02/2022 17:06, recebido por: matheussspindola\n",
            "--\n",
            "Data Origem: 22/02/2022 12:02, unidade origem: SUPERINTENDÊNCIA DE RECURSOS HUMANOS (11.04), unidade destino: COORDENAÇÃO DE ADMINISTRACAO DE PESSOAL/SRH (11.00.15.05.01), enviado por: matheussspindola, recebido em: 22/02/2022 15:17, recebido por: dianajoao01\n",
            "--\n",
            "Data Origem: 09/03/2022 - \n",
            "\t\t\t\t\t\t\t\t\t\t\t\t Despacho Interlocutório  \n",
            "\t\t\t\t\t\t\t\t\t\t\t\t \n",
            "\t\t\t\t\t\t\t\t\t\t\t\t\t- COORDENAÇÃO DE ADMINISTRACAO DE PESSOAL/SRH (11.00.15.05.01), unidade origem: SUPERINTENDÊNCIA DE RECURSOS HUMANOS (11.04), unidade destino: COORDENAÇÃO DE ADMINISTRACAO DE PESSOAL/SRH (11.00.15.05.01), enviado por: matheussspindola, recebido em: 22/02/2022 15:17, recebido por: dianajoao01\n",
            "--\n",
            "Data Origem: , unidade origem: 09/03/2022 - \n",
            "\t\t\t\t\t\t\t\t\t\t\t\t Despacho Interlocutório  \n",
            "\t\t\t\t\t\t\t\t\t\t\t\t \n",
            "\t\t\t\t\t\t\t\t\t\t\t\t\t- COORDENAÇÃO DE ADMINISTRACAO DE PESSOAL/SRH (11.00.15.05.01), unidade destino: , enviado por: matheussspindola, recebido em: 22/02/2022 15:17, recebido por: dianajoao01\n",
            "--\n",
            "Data Origem: 09/03/2022 16:57, unidade origem: COORDENAÇÃO DE ADMINISTRACAO DE PESSOAL/SRH (11.00.15.05.01), unidade destino: COORDENAÇÃO DE DESENV. DE PESSOAS/SRH (11.00.15.05.02), enviado por: hellenkellen, recebido em: 10/03/2022 15:45, recebido por: filipepaz\n",
            "--\n",
            "Data Origem: 10/03/2022 - \n",
            "\t\t\t\t\t\t\t\t\t\t\t\t Despacho Ordinatório  \n",
            "\t\t\t\t\t\t\t\t\t\t\t\t \n",
            "\t\t\t\t\t\t\t\t\t\t\t\t\t- COORDENAÇÃO DE DESENV. DE PESSOAS/SRH (11.00.15.05.02), unidade origem: COORDENAÇÃO DE ADMINISTRACAO DE PESSOAL/SRH (11.00.15.05.01), unidade destino: COORDENAÇÃO DE DESENV. DE PESSOAS/SRH (11.00.15.05.02), enviado por: hellenkellen, recebido em: 10/03/2022 15:45, recebido por: filipepaz\n",
            "--\n",
            "Data Origem: , unidade origem: 10/03/2022 - \n",
            "\t\t\t\t\t\t\t\t\t\t\t\t Despacho Ordinatório  \n",
            "\t\t\t\t\t\t\t\t\t\t\t\t \n",
            "\t\t\t\t\t\t\t\t\t\t\t\t\t- COORDENAÇÃO DE DESENV. DE PESSOAS/SRH (11.00.15.05.02), unidade destino: , enviado por: hellenkellen, recebido em: 10/03/2022 15:45, recebido por: filipepaz\n",
            "--\n",
            "Data Origem: 10/03/2022 16:25, unidade origem: COORDENAÇÃO DE DESENV. DE PESSOAS/SRH (11.00.15.05.02), unidade destino: SUPERINTENDÊNCIA DE RECURSOS HUMANOS (11.04), enviado por: filipepaz, recebido em: 15/03/2022 16:41, recebido por: matheussspindola\n",
            "--\n",
            "Data Origem: 22/03/2022 - \n",
            "\t\t\t\t\t\t\t\t\t\t\t\t Despacho Interlocutório  \n",
            "\t\t\t\t\t\t\t\t\t\t\t\t \n",
            "\t\t\t\t\t\t\t\t\t\t\t\t\t- SUPERINTENDÊNCIA DE RECURSOS HUMANOS (11.04), unidade origem: COORDENAÇÃO DE DESENV. DE PESSOAS/SRH (11.00.15.05.02), unidade destino: SUPERINTENDÊNCIA DE RECURSOS HUMANOS (11.04), enviado por: filipepaz, recebido em: 15/03/2022 16:41, recebido por: matheussspindola\n",
            "--\n",
            "Data Origem: , unidade origem: 22/03/2022 - \n",
            "\t\t\t\t\t\t\t\t\t\t\t\t Despacho Interlocutório  \n",
            "\t\t\t\t\t\t\t\t\t\t\t\t \n",
            "\t\t\t\t\t\t\t\t\t\t\t\t\t- SUPERINTENDÊNCIA DE RECURSOS HUMANOS (11.04), unidade destino: , enviado por: filipepaz, recebido em: 15/03/2022 16:41, recebido por: matheussspindola\n",
            "--\n",
            "Data Origem: 23/03/2022 16:17, unidade origem: SUPERINTENDÊNCIA DE RECURSOS HUMANOS (11.04), unidade destino: PRO-REITORIA DE ENSINO DE POS-GRADUAÇAO (11.07), enviado por: matheussspindola, recebido em: 03/04/2022 22:34, recebido por: regilda\n",
            "--\n",
            "Data Origem: 03/04/2022 - \n",
            "\t\t\t\t\t\t\t\t\t\t\t\t Despacho Ordinatório  \n",
            "\t\t\t\t\t\t\t\t\t\t\t\t \n",
            "\t\t\t\t\t\t\t\t\t\t\t\t\t- PRO-REITORIA DE ENSINO DE POS-GRADUAÇAO (11.07), unidade origem: SUPERINTENDÊNCIA DE RECURSOS HUMANOS (11.04), unidade destino: PRO-REITORIA DE ENSINO DE POS-GRADUAÇAO (11.07), enviado por: matheussspindola, recebido em: 03/04/2022 22:34, recebido por: regilda\n",
            "--\n",
            "Data Origem: , unidade origem: 03/04/2022 - \n",
            "\t\t\t\t\t\t\t\t\t\t\t\t Despacho Ordinatório  \n",
            "\t\t\t\t\t\t\t\t\t\t\t\t \n",
            "\t\t\t\t\t\t\t\t\t\t\t\t\t- PRO-REITORIA DE ENSINO DE POS-GRADUAÇAO (11.07), unidade destino: , enviado por: matheussspindola, recebido em: 03/04/2022 22:34, recebido por: regilda\n",
            "--\n",
            "Data Origem: 03/04/2022 22:41, unidade origem: PRO-REITORIA DE ENSINO DE POS-GRADUAÇAO (11.07), unidade destino: COORDENADORIA DE PROGRAMAS STRICTO SENSU/PRPG (11.07.01), enviado por: regilda, recebido em: 03/04/2022 23:00, recebido por: franciscohistoria\n",
            "--\n",
            "Data Origem: 04/04/2022 - \n",
            "\t\t\t\t\t\t\t\t\t\t\t\t Despacho Interlocutório  \n",
            "\t\t\t\t\t\t\t\t\t\t\t\t \n",
            "\t\t\t\t\t\t\t\t\t\t\t\t\t- COORDENADORIA DE PROGRAMAS STRICTO SENSU/PRPG (11.07.01), unidade origem: PRO-REITORIA DE ENSINO DE POS-GRADUAÇAO (11.07), unidade destino: COORDENADORIA DE PROGRAMAS STRICTO SENSU/PRPG (11.07.01), enviado por: regilda, recebido em: 03/04/2022 23:00, recebido por: franciscohistoria\n",
            "--\n",
            "Data Origem: , unidade origem: 04/04/2022 - \n",
            "\t\t\t\t\t\t\t\t\t\t\t\t Despacho Interlocutório  \n",
            "\t\t\t\t\t\t\t\t\t\t\t\t \n",
            "\t\t\t\t\t\t\t\t\t\t\t\t\t- COORDENADORIA DE PROGRAMAS STRICTO SENSU/PRPG (11.07.01), unidade destino: , enviado por: regilda, recebido em: 03/04/2022 23:00, recebido por: franciscohistoria\n",
            "--\n",
            "Data Origem: 05/04/2022 10:46, unidade origem: COORDENADORIA DE PROGRAMAS STRICTO SENSU/PRPG (11.07.01), unidade destino: PRO-REITORIA DE ENSINO DE POS-GRADUAÇAO (11.07), enviado por: keilaemanuelle, recebido em: 10/04/2022 23:45, recebido por: regilda\n",
            "--\n",
            "Data Origem: 10/04/2022 - \n",
            "\t\t\t\t\t\t\t\t\t\t\t\t Despacho Ordinatório  \n",
            "\t\t\t\t\t\t\t\t\t\t\t\t \n",
            "\t\t\t\t\t\t\t\t\t\t\t\t\t- PRO-REITORIA DE ENSINO DE POS-GRADUAÇAO (11.07), unidade origem: COORDENADORIA DE PROGRAMAS STRICTO SENSU/PRPG (11.07.01), unidade destino: PRO-REITORIA DE ENSINO DE POS-GRADUAÇAO (11.07), enviado por: keilaemanuelle, recebido em: 10/04/2022 23:45, recebido por: regilda\n",
            "--\n",
            "Data Origem: , unidade origem: 10/04/2022 - \n",
            "\t\t\t\t\t\t\t\t\t\t\t\t Despacho Ordinatório  \n",
            "\t\t\t\t\t\t\t\t\t\t\t\t \n",
            "\t\t\t\t\t\t\t\t\t\t\t\t\t- PRO-REITORIA DE ENSINO DE POS-GRADUAÇAO (11.07), unidade destino: , enviado por: keilaemanuelle, recebido em: 10/04/2022 23:45, recebido por: regilda\n",
            "--\n",
            "Data Origem: 10/04/2022 23:49, unidade origem: PRO-REITORIA DE ENSINO DE POS-GRADUAÇAO (11.07), unidade destino: COMISSAO PERMANENTE DE PESSOAL DOCENTE (11.00.05), enviado por: regilda, recebido em: 11/04/2022 09:25, recebido por: tarciso\n",
            "--\n",
            "Data Origem: 12/04/2022 - \n",
            "\t\t\t\t\t\t\t\t\t\t\t\t Despacho Decisório  \n",
            "\t\t\t\t\t\t\t\t\t\t\t\t \n",
            "\t\t\t\t\t\t\t\t\t\t\t\t\t- COMISSAO PERMANENTE DE PESSOAL DOCENTE (11.00.05), unidade origem: PRO-REITORIA DE ENSINO DE POS-GRADUAÇAO (11.07), unidade destino: COMISSAO PERMANENTE DE PESSOAL DOCENTE (11.00.05), enviado por: regilda, recebido em: 11/04/2022 09:25, recebido por: tarciso\n",
            "--\n",
            "Data Origem: , unidade origem: 12/04/2022 - \n",
            "\t\t\t\t\t\t\t\t\t\t\t\t Despacho Decisório  \n",
            "\t\t\t\t\t\t\t\t\t\t\t\t \n",
            "\t\t\t\t\t\t\t\t\t\t\t\t\t- COMISSAO PERMANENTE DE PESSOAL DOCENTE (11.00.05), unidade destino: , enviado por: regilda, recebido em: 11/04/2022 09:25, recebido por: tarciso\n",
            "--\n",
            "Data Origem: 12/04/2022 14:19, unidade origem: COMISSAO PERMANENTE DE PESSOAL DOCENTE (11.00.05), unidade destino: GABINETE DO REITOR (11.00.01), enviado por: tarciso, recebido em: 12/04/2022 14:43, recebido por: roberlaneaufpi\n",
            "--\n",
            "Data Origem: 13/04/2022 - \n",
            "\t\t\t\t\t\t\t\t\t\t\t\t Despacho Ordinatório  \n",
            "\t\t\t\t\t\t\t\t\t\t\t\t \n",
            "\t\t\t\t\t\t\t\t\t\t\t\t\t- GABINETE DO REITOR (11.00.01), unidade origem: COMISSAO PERMANENTE DE PESSOAL DOCENTE (11.00.05), unidade destino: GABINETE DO REITOR (11.00.01), enviado por: tarciso, recebido em: 12/04/2022 14:43, recebido por: roberlaneaufpi\n",
            "--\n",
            "Data Origem: , unidade origem: 13/04/2022 - \n",
            "\t\t\t\t\t\t\t\t\t\t\t\t Despacho Ordinatório  \n",
            "\t\t\t\t\t\t\t\t\t\t\t\t \n",
            "\t\t\t\t\t\t\t\t\t\t\t\t\t- GABINETE DO REITOR (11.00.01), unidade destino: , enviado por: tarciso, recebido em: 12/04/2022 14:43, recebido por: roberlaneaufpi\n",
            "--\n",
            "Data Origem: 13/04/2022 14:50, unidade origem: GABINETE DO REITOR (11.00.01), unidade destino: SECRETARIA ADMINISTRATIVA - REITORIA (11.00.01.04), enviado por: wanessalive34, recebido em: 19/04/2022 09:13, recebido por: janio\n",
            "--\n",
            "Data Origem: 20/04/2022 - \n",
            "\t\t\t\t\t\t\t\t\t\t\t\t Despacho Interlocutório  \n",
            "\t\t\t\t\t\t\t\t\t\t\t\t \n",
            "\t\t\t\t\t\t\t\t\t\t\t\t\t- SECRETARIA ADMINISTRATIVA - REITORIA (11.00.01.04), unidade origem: GABINETE DO REITOR (11.00.01), unidade destino: SECRETARIA ADMINISTRATIVA - REITORIA (11.00.01.04), enviado por: wanessalive34, recebido em: 19/04/2022 09:13, recebido por: janio\n",
            "--\n",
            "Data Origem: , unidade origem: 20/04/2022 - \n",
            "\t\t\t\t\t\t\t\t\t\t\t\t Despacho Interlocutório  \n",
            "\t\t\t\t\t\t\t\t\t\t\t\t \n",
            "\t\t\t\t\t\t\t\t\t\t\t\t\t- SECRETARIA ADMINISTRATIVA - REITORIA (11.00.01.04), unidade destino: , enviado por: wanessalive34, recebido em: 19/04/2022 09:13, recebido por: janio\n",
            "--\n",
            "Data Origem: 20/04/2022 09:51, unidade origem: SECRETARIA ADMINISTRATIVA - REITORIA (11.00.01.04), unidade destino: SUPERINTENDÊNCIA DE RECURSOS HUMANOS (11.04), enviado por: janio, recebido em: 20/04/2022 16:48, recebido por: matheussspindola\n",
            "--\n",
            "Data Origem: 20/04/2022 - \n",
            "\t\t\t\t\t\t\t\t\t\t\t\t Despacho Interlocutório  \n",
            "\t\t\t\t\t\t\t\t\t\t\t\t \n",
            "\t\t\t\t\t\t\t\t\t\t\t\t\t- SUPERINTENDÊNCIA DE RECURSOS HUMANOS (11.04), unidade origem: SECRETARIA ADMINISTRATIVA - REITORIA (11.00.01.04), unidade destino: SUPERINTENDÊNCIA DE RECURSOS HUMANOS (11.04), enviado por: janio, recebido em: 20/04/2022 16:48, recebido por: matheussspindola\n",
            "--\n",
            "Data Origem: , unidade origem: 20/04/2022 - \n",
            "\t\t\t\t\t\t\t\t\t\t\t\t Despacho Interlocutório  \n",
            "\t\t\t\t\t\t\t\t\t\t\t\t \n",
            "\t\t\t\t\t\t\t\t\t\t\t\t\t- SUPERINTENDÊNCIA DE RECURSOS HUMANOS (11.04), unidade destino: , enviado por: janio, recebido em: 20/04/2022 16:48, recebido por: matheussspindola\n",
            "--\n",
            "Data Origem: 20/04/2022 16:52, unidade origem: SUPERINTENDÊNCIA DE RECURSOS HUMANOS (11.04), unidade destino: COORDENAÇÃO DE ADMINISTRACAO DE PESSOAL/SRH (11.00.15.05.01), enviado por: matheussspindola, recebido em: 25/04/2022 08:50, recebido por: castrodaiana17\n",
            "--\n",
            "Data Origem: 30/05/2022 - \n",
            "\t\t\t\t\t\t\t\t\t\t\t\t Despacho Interlocutório  \n",
            "\t\t\t\t\t\t\t\t\t\t\t\t \n",
            "\t\t\t\t\t\t\t\t\t\t\t\t\t- COORDENAÇÃO DE ADMINISTRACAO DE PESSOAL/SRH (11.00.15.05.01), unidade origem: SUPERINTENDÊNCIA DE RECURSOS HUMANOS (11.04), unidade destino: COORDENAÇÃO DE ADMINISTRACAO DE PESSOAL/SRH (11.00.15.05.01), enviado por: matheussspindola, recebido em: 25/04/2022 08:50, recebido por: castrodaiana17\n",
            "--\n",
            "Data Origem: , unidade origem: 30/05/2022 - \n",
            "\t\t\t\t\t\t\t\t\t\t\t\t Despacho Interlocutório  \n",
            "\t\t\t\t\t\t\t\t\t\t\t\t \n",
            "\t\t\t\t\t\t\t\t\t\t\t\t\t- COORDENAÇÃO DE ADMINISTRACAO DE PESSOAL/SRH (11.00.15.05.01), unidade destino: , enviado por: matheussspindola, recebido em: 25/04/2022 08:50, recebido por: castrodaiana17\n",
            "--\n",
            "Data Origem: 30/05/2022 10:35, unidade origem: COORDENAÇÃO DE ADMINISTRACAO DE PESSOAL/SRH (11.00.15.05.01), unidade destino: DIVISÃO DE ARQUIVO E MICROFILMAGEM/PRAD (11.00.15.08.04), enviado por: hellyne, recebido em: 30/05/2022 10:50, recebido por: joaobliborio\n",
            "--\n"
          ]
        }
      ]
    },
    {
      "cell_type": "markdown",
      "source": [
        "# Código Refatorado e Simplificado"
      ],
      "metadata": {
        "id": "D0BJFQRCs6JX"
      }
    },
    {
      "cell_type": "code",
      "source": [
        "def extract_data_from_table(table, headers):\n",
        "    \"\"\"Extrai dados de uma tabela HTML e retorna uma lista de dicionários.\"\"\"\n",
        "    data = []\n",
        "    for row in table.find_all('tr'):\n",
        "        cells = row.find_all('td')\n",
        "        if cells:  # Verifica se a linha contém dados\n",
        "            row_data = dict(zip(headers, [cell.text.strip() for cell in cells]))\n",
        "            data.append(row_data)\n",
        "    return data\n",
        "\n",
        "# Exemplo de uso:\n",
        "table_dados = soup.find_all('table', class_='subListagem')\n",
        "table_dados_interessado = table_dados[0]\n",
        "table_dados_documentos = table_dados[1]\n",
        "table_dados_movimentacoes = table_dados[2]"
      ],
      "metadata": {
        "id": "AlVOowOjs723"
      },
      "execution_count": 233,
      "outputs": []
    },
    {
      "cell_type": "code",
      "source": [
        "headers = ['Tipo', 'Identificador', 'Nome']\n",
        "interessado_data = extract_data_from_table(table_dados_interessado, headers)\n",
        "\n",
        "for pessoa in interessado_data:\n",
        "    print(pessoa)"
      ],
      "metadata": {
        "colab": {
          "base_uri": "https://localhost:8080/"
        },
        "id": "qGzzlVk1u1xr",
        "outputId": "e829ec82-91b3-4ccd-ea4d-7b8e374e67df"
      },
      "execution_count": 234,
      "outputs": [
        {
          "output_type": "stream",
          "name": "stdout",
          "text": [
            "{'Tipo': 'Servidor', 'Identificador': '1886865', 'Nome': 'ARMANDO SOARES SOUSA'}\n"
          ]
        }
      ]
    },
    {
      "cell_type": "code",
      "source": [
        "headers_documento = ['Tipo do Documento', 'Data do Documento', 'Origem', 'Natureza']\n",
        "documentos = extract_data_from_table(table_dados_documentos, headers_documento)\n",
        "\n",
        "for documento in documentos:\n",
        "    print(documento)"
      ],
      "metadata": {
        "colab": {
          "base_uri": "https://localhost:8080/"
        },
        "id": "A5tDkWjus_in",
        "outputId": "0b43fee1-e7c1-4c79-a788-463df1be0c29"
      },
      "execution_count": 235,
      "outputs": [
        {
          "output_type": "stream",
          "name": "stdout",
          "text": [
            "{'Tipo do Documento': 'REQUERIMENTO', 'Data do Documento': '22/12/2021', 'Origem': 'DIPROT/PRAD (11.00.15.08.03)', 'Natureza': 'OSTENSIVO'}\n",
            "{'Tipo do Documento': 'DESPACHO', 'Data do Documento': '28/12/2021', 'Origem': 'DC/CCN (11.00.24.05)', 'Natureza': 'OSTENSIVO'}\n",
            "{'Tipo do Documento': 'DESPACHO', 'Data do Documento': '28/12/2021', 'Origem': 'CCN (11.00.24)', 'Natureza': 'OSTENSIVO'}\n",
            "{'Tipo do Documento': 'DESPACHO', 'Data do Documento': '04/01/2022', 'Origem': 'DC/CCN (11.00.24.05)', 'Natureza': 'OSTENSIVO'}\n",
            "{'Tipo do Documento': 'PARECER DE RELATOR DE PROCESSO', 'Data do Documento': '12/01/2022', 'Origem': 'CCN (11.00.24)', 'Natureza': 'OSTENSIVO'}\n",
            "{'Tipo do Documento': 'DESPACHO', 'Data do Documento': '12/01/2022', 'Origem': 'CCN (11.00.24)', 'Natureza': 'OSTENSIVO'}\n",
            "{'Tipo do Documento': 'DESPACHO', 'Data do Documento': '12/01/2022', 'Origem': 'GAB (11.00.01)', 'Natureza': 'OSTENSIVO'}\n",
            "{'Tipo do Documento': 'DOCUMENTOS COMPROBATÓRIOS', 'Data do Documento': '05/01/2022', 'Origem': 'CCN (11.00.24)', 'Natureza': 'OSTENSIVO'}\n",
            "{'Tipo do Documento': 'DESPACHO', 'Data do Documento': '12/01/2022', 'Origem': 'CCN (11.00.24)', 'Natureza': 'OSTENSIVO'}\n",
            "{'Tipo do Documento': 'DESPACHO', 'Data do Documento': '14/01/2022', 'Origem': 'GAB (11.00.01)', 'Natureza': 'OSTENSIVO'}\n",
            "{'Tipo do Documento': 'DESPACHO', 'Data do Documento': '15/02/2022', 'Origem': 'SECCON/GAB (11.00.01.03)', 'Natureza': 'OSTENSIVO'}\n",
            "{'Tipo do Documento': 'DESPACHO', 'Data do Documento': '15/02/2022', 'Origem': 'GAB (11.00.01)', 'Natureza': 'OSTENSIVO'}\n",
            "{'Tipo do Documento': 'DESPACHO', 'Data do Documento': '15/02/2022', 'Origem': 'PRPG (11.07)', 'Natureza': ''}\n",
            "{'Tipo do Documento': 'DESPACHO', 'Data do Documento': '17/02/2022', 'Origem': 'CPSS/PRPG (11.07.01)', 'Natureza': 'OSTENSIVO'}\n",
            "{'Tipo do Documento': 'DESPACHO', 'Data do Documento': '17/02/2022', 'Origem': 'SRH (11.04)', 'Natureza': ''}\n",
            "{'Tipo do Documento': 'DESPACHO', 'Data do Documento': '09/03/2022', 'Origem': 'CAP/SRH (11.00.15.05.01)', 'Natureza': 'OSTENSIVO'}\n",
            "{'Tipo do Documento': 'DESPACHO', 'Data do Documento': '10/03/2022', 'Origem': 'CDP/SRH (11.00.15.05.02)', 'Natureza': ''}\n",
            "{'Tipo do Documento': 'DESPACHO', 'Data do Documento': '22/03/2022', 'Origem': 'SRH (11.04)', 'Natureza': 'OSTENSIVO'}\n",
            "{'Tipo do Documento': 'DESPACHO', 'Data do Documento': '03/04/2022', 'Origem': 'PRPG (11.07)', 'Natureza': ''}\n",
            "{'Tipo do Documento': 'DESPACHO', 'Data do Documento': '04/04/2022', 'Origem': 'CPSS/PRPG (11.07.01)', 'Natureza': 'OSTENSIVO'}\n",
            "{'Tipo do Documento': 'DESPACHO', 'Data do Documento': '10/04/2022', 'Origem': 'PRPG (11.07)', 'Natureza': ''}\n",
            "{'Tipo do Documento': 'DESPACHO', 'Data do Documento': '12/04/2022', 'Origem': 'CPPD (11.00.05)', 'Natureza': 'OSTENSIVO'}\n",
            "{'Tipo do Documento': 'DESPACHO', 'Data do Documento': '13/04/2022', 'Origem': 'GAB (11.00.01)', 'Natureza': 'OSTENSIVO'}\n",
            "{'Tipo do Documento': 'ATO DA REITORIA', 'Data do Documento': '13/04/2022', 'Origem': 'GAB (11.00.01)', 'Natureza': 'OSTENSIVO'}\n",
            "{'Tipo do Documento': 'DESPACHO', 'Data do Documento': '20/04/2022', 'Origem': 'SECADM (11.00.01.04)', 'Natureza': 'OSTENSIVO'}\n",
            "{'Tipo do Documento': 'DESPACHO', 'Data do Documento': '20/04/2022', 'Origem': 'SRH (11.04)', 'Natureza': ''}\n",
            "{'Tipo do Documento': 'DESPACHO', 'Data do Documento': '30/05/2022', 'Origem': 'CAP/SRH (11.00.15.05.01)', 'Natureza': 'OSTENSIVO'}\n"
          ]
        }
      ]
    },
    {
      "cell_type": "code",
      "source": [
        "headers_movimentacao =  ['Data Origem', 'Unidade Origem', 'Unidade Destino',\t'Enviado Por',\t'Recebido Em',\t'Recebido Por']\n",
        "movimentacoes = extract_data_from_table(table_dados_movimentacoes, headers_movimentacao)\n",
        "\n",
        "for movimentacao in movimentacoes:\n",
        "    print(movimentacao)"
      ],
      "metadata": {
        "colab": {
          "base_uri": "https://localhost:8080/"
        },
        "id": "r5YPGzp0t5bU",
        "outputId": "dd56af73-91be-43ae-b87b-0f9844dd828e"
      },
      "execution_count": 236,
      "outputs": [
        {
          "output_type": "stream",
          "name": "stdout",
          "text": [
            "{'Data Origem': '22/12/2021 11:23', 'Unidade Origem': 'DIVISAO DE PROTOCOLO E DOCUMENTACAO/PRAD (11.00.15.08.03)', 'Unidade Destino': 'DEPARTAMENTO DE COMPUTAÇÃO/CCN (11.00.24.05)', 'Enviado Por': 'luisgustavoviana', 'Recebido Em': '28/12/2021 12:35', 'Recebido Por': 'lucas.alexander'}\n",
            "{'Data Origem': '28/12/2021 - \\n\\t\\t\\t\\t\\t\\t\\t\\t\\t\\t\\t\\t Despacho Ordinatório  \\n\\t\\t\\t\\t\\t\\t\\t\\t\\t\\t\\t\\t \\n\\t\\t\\t\\t\\t\\t\\t\\t\\t\\t\\t\\t\\t- DEPARTAMENTO DE COMPUTAÇÃO/CCN (11.00.24.05)', 'Unidade Origem': '', 'Unidade Destino': '28/12/2021 - \\n\\t\\t\\t\\t\\t\\t\\t\\t\\t\\t\\t\\t Despacho Ordinatório  \\n\\t\\t\\t\\t\\t\\t\\t\\t\\t\\t\\t\\t \\n\\t\\t\\t\\t\\t\\t\\t\\t\\t\\t\\t\\t\\t- DEPARTAMENTO DE COMPUTAÇÃO/CCN (11.00.24.05)', 'Enviado Por': ''}\n",
            "{'Data Origem': '', 'Unidade Origem': '28/12/2021 - \\n\\t\\t\\t\\t\\t\\t\\t\\t\\t\\t\\t\\t Despacho Ordinatório  \\n\\t\\t\\t\\t\\t\\t\\t\\t\\t\\t\\t\\t \\n\\t\\t\\t\\t\\t\\t\\t\\t\\t\\t\\t\\t\\t- DEPARTAMENTO DE COMPUTAÇÃO/CCN (11.00.24.05)', 'Unidade Destino': ''}\n",
            "{'Data Origem': '28/12/2021 15:25', 'Unidade Origem': 'DEPARTAMENTO DE COMPUTAÇÃO/CCN (11.00.24.05)', 'Unidade Destino': 'CENTRO DE CIENCIAS DA NATUREZA (11.00.24)', 'Enviado Por': 'lucas.alexander', 'Recebido Em': '28/12/2021 15:45', 'Recebido Por': 'elvina'}\n",
            "{'Data Origem': '28/12/2021 - \\n\\t\\t\\t\\t\\t\\t\\t\\t\\t\\t\\t\\t Despacho Interlocutório  \\n\\t\\t\\t\\t\\t\\t\\t\\t\\t\\t\\t\\t \\n\\t\\t\\t\\t\\t\\t\\t\\t\\t\\t\\t\\t\\t- CENTRO DE CIENCIAS DA NATUREZA (11.00.24)', 'Unidade Origem': '', 'Unidade Destino': '28/12/2021 - \\n\\t\\t\\t\\t\\t\\t\\t\\t\\t\\t\\t\\t Despacho Interlocutório  \\n\\t\\t\\t\\t\\t\\t\\t\\t\\t\\t\\t\\t \\n\\t\\t\\t\\t\\t\\t\\t\\t\\t\\t\\t\\t\\t- CENTRO DE CIENCIAS DA NATUREZA (11.00.24)', 'Enviado Por': ''}\n",
            "{'Data Origem': '', 'Unidade Origem': '28/12/2021 - \\n\\t\\t\\t\\t\\t\\t\\t\\t\\t\\t\\t\\t Despacho Interlocutório  \\n\\t\\t\\t\\t\\t\\t\\t\\t\\t\\t\\t\\t \\n\\t\\t\\t\\t\\t\\t\\t\\t\\t\\t\\t\\t\\t- CENTRO DE CIENCIAS DA NATUREZA (11.00.24)', 'Unidade Destino': ''}\n",
            "{'Data Origem': '28/12/2021 16:15', 'Unidade Origem': 'CENTRO DE CIENCIAS DA NATUREZA (11.00.24)', 'Unidade Destino': 'DEPARTAMENTO DE COMPUTAÇÃO/CCN (11.00.24.05)', 'Enviado Por': 'elvina', 'Recebido Em': '29/12/2021 10:07', 'Recebido Por': 'lucas.alexander'}\n",
            "{'Data Origem': '04/01/2022 - \\n\\t\\t\\t\\t\\t\\t\\t\\t\\t\\t\\t\\t Despacho Ordinatório  \\n\\t\\t\\t\\t\\t\\t\\t\\t\\t\\t\\t\\t \\n\\t\\t\\t\\t\\t\\t\\t\\t\\t\\t\\t\\t\\t- DEPARTAMENTO DE COMPUTAÇÃO/CCN (11.00.24.05)', 'Unidade Origem': '', 'Unidade Destino': '04/01/2022 - \\n\\t\\t\\t\\t\\t\\t\\t\\t\\t\\t\\t\\t Despacho Ordinatório  \\n\\t\\t\\t\\t\\t\\t\\t\\t\\t\\t\\t\\t \\n\\t\\t\\t\\t\\t\\t\\t\\t\\t\\t\\t\\t\\t- DEPARTAMENTO DE COMPUTAÇÃO/CCN (11.00.24.05)', 'Enviado Por': ''}\n",
            "{'Data Origem': '', 'Unidade Origem': '04/01/2022 - \\n\\t\\t\\t\\t\\t\\t\\t\\t\\t\\t\\t\\t Despacho Ordinatório  \\n\\t\\t\\t\\t\\t\\t\\t\\t\\t\\t\\t\\t \\n\\t\\t\\t\\t\\t\\t\\t\\t\\t\\t\\t\\t\\t- DEPARTAMENTO DE COMPUTAÇÃO/CCN (11.00.24.05)', 'Unidade Destino': ''}\n",
            "{'Data Origem': '04/01/2022 14:40', 'Unidade Origem': 'DEPARTAMENTO DE COMPUTAÇÃO/CCN (11.00.24.05)', 'Unidade Destino': 'CENTRO DE CIENCIAS DA NATUREZA (11.00.24)', 'Enviado Por': 'lucas.alexander', 'Recebido Em': '04/01/2022 15:46', 'Recebido Por': 'elvina'}\n",
            "{'Data Origem': '12/01/2022 - \\n\\t\\t\\t\\t\\t\\t\\t\\t\\t\\t\\t\\t Despacho Ordinatório  \\n\\t\\t\\t\\t\\t\\t\\t\\t\\t\\t\\t\\t \\n\\t\\t\\t\\t\\t\\t\\t\\t\\t\\t\\t\\t\\t- CENTRO DE CIENCIAS DA NATUREZA (11.00.24)', 'Unidade Origem': '', 'Unidade Destino': '12/01/2022 - \\n\\t\\t\\t\\t\\t\\t\\t\\t\\t\\t\\t\\t Despacho Ordinatório  \\n\\t\\t\\t\\t\\t\\t\\t\\t\\t\\t\\t\\t \\n\\t\\t\\t\\t\\t\\t\\t\\t\\t\\t\\t\\t\\t- CENTRO DE CIENCIAS DA NATUREZA (11.00.24)', 'Enviado Por': ''}\n",
            "{'Data Origem': '', 'Unidade Origem': '12/01/2022 - \\n\\t\\t\\t\\t\\t\\t\\t\\t\\t\\t\\t\\t Despacho Ordinatório  \\n\\t\\t\\t\\t\\t\\t\\t\\t\\t\\t\\t\\t \\n\\t\\t\\t\\t\\t\\t\\t\\t\\t\\t\\t\\t\\t- CENTRO DE CIENCIAS DA NATUREZA (11.00.24)', 'Unidade Destino': ''}\n",
            "{'Data Origem': '12/01/2022 09:26', 'Unidade Origem': 'CENTRO DE CIENCIAS DA NATUREZA (11.00.24)', 'Unidade Destino': 'GABINETE DO REITOR (11.00.01)', 'Enviado Por': 'anakarolina', 'Recebido Em': '12/01/2022 09:48', 'Recebido Por': 'roberlaneaufpi'}\n",
            "{'Data Origem': '12/01/2022 - \\n\\t\\t\\t\\t\\t\\t\\t\\t\\t\\t\\t\\t Despacho Ordinatório  \\n\\t\\t\\t\\t\\t\\t\\t\\t\\t\\t\\t\\t \\n\\t\\t\\t\\t\\t\\t\\t\\t\\t\\t\\t\\t\\t- GABINETE DO REITOR (11.00.01)', 'Unidade Origem': '', 'Unidade Destino': '12/01/2022 - \\n\\t\\t\\t\\t\\t\\t\\t\\t\\t\\t\\t\\t Despacho Ordinatório  \\n\\t\\t\\t\\t\\t\\t\\t\\t\\t\\t\\t\\t \\n\\t\\t\\t\\t\\t\\t\\t\\t\\t\\t\\t\\t\\t- GABINETE DO REITOR (11.00.01)', 'Enviado Por': ''}\n",
            "{'Data Origem': '', 'Unidade Origem': '12/01/2022 - \\n\\t\\t\\t\\t\\t\\t\\t\\t\\t\\t\\t\\t Despacho Ordinatório  \\n\\t\\t\\t\\t\\t\\t\\t\\t\\t\\t\\t\\t \\n\\t\\t\\t\\t\\t\\t\\t\\t\\t\\t\\t\\t\\t- GABINETE DO REITOR (11.00.01)', 'Unidade Destino': ''}\n",
            "{'Data Origem': '12/01/2022 14:12', 'Unidade Origem': 'GABINETE DO REITOR (11.00.01)', 'Unidade Destino': 'CENTRO DE CIENCIAS DA NATUREZA (11.00.24)', 'Enviado Por': 'priscila', 'Recebido Em': '12/01/2022 14:14', 'Recebido Por': 'anakarolina'}\n",
            "{'Data Origem': '12/01/2022 - \\n\\t\\t\\t\\t\\t\\t\\t\\t\\t\\t\\t\\t Despacho Saneador  \\n\\t\\t\\t\\t\\t\\t\\t\\t\\t\\t\\t\\t \\n\\t\\t\\t\\t\\t\\t\\t\\t\\t\\t\\t\\t\\t- CENTRO DE CIENCIAS DA NATUREZA (11.00.24)', 'Unidade Origem': '', 'Unidade Destino': '12/01/2022 - \\n\\t\\t\\t\\t\\t\\t\\t\\t\\t\\t\\t\\t Despacho Saneador  \\n\\t\\t\\t\\t\\t\\t\\t\\t\\t\\t\\t\\t \\n\\t\\t\\t\\t\\t\\t\\t\\t\\t\\t\\t\\t\\t- CENTRO DE CIENCIAS DA NATUREZA (11.00.24)', 'Enviado Por': ''}\n",
            "{'Data Origem': '', 'Unidade Origem': '12/01/2022 - \\n\\t\\t\\t\\t\\t\\t\\t\\t\\t\\t\\t\\t Despacho Saneador  \\n\\t\\t\\t\\t\\t\\t\\t\\t\\t\\t\\t\\t \\n\\t\\t\\t\\t\\t\\t\\t\\t\\t\\t\\t\\t\\t- CENTRO DE CIENCIAS DA NATUREZA (11.00.24)', 'Unidade Destino': ''}\n",
            "{'Data Origem': '12/01/2022 14:37', 'Unidade Origem': 'CENTRO DE CIENCIAS DA NATUREZA (11.00.24)', 'Unidade Destino': 'GABINETE DO REITOR (11.00.01)', 'Enviado Por': 'anakarolina', 'Recebido Em': '12/01/2022 17:38', 'Recebido Por': 'wanessalive34'}\n",
            "{'Data Origem': '14/01/2022 - \\n\\t\\t\\t\\t\\t\\t\\t\\t\\t\\t\\t\\t Despacho Ordinatório  \\n\\t\\t\\t\\t\\t\\t\\t\\t\\t\\t\\t\\t \\n\\t\\t\\t\\t\\t\\t\\t\\t\\t\\t\\t\\t\\t- GABINETE DO REITOR (11.00.01)', 'Unidade Origem': '', 'Unidade Destino': '14/01/2022 - \\n\\t\\t\\t\\t\\t\\t\\t\\t\\t\\t\\t\\t Despacho Ordinatório  \\n\\t\\t\\t\\t\\t\\t\\t\\t\\t\\t\\t\\t \\n\\t\\t\\t\\t\\t\\t\\t\\t\\t\\t\\t\\t\\t- GABINETE DO REITOR (11.00.01)', 'Enviado Por': ''}\n",
            "{'Data Origem': '', 'Unidade Origem': '14/01/2022 - \\n\\t\\t\\t\\t\\t\\t\\t\\t\\t\\t\\t\\t Despacho Ordinatório  \\n\\t\\t\\t\\t\\t\\t\\t\\t\\t\\t\\t\\t \\n\\t\\t\\t\\t\\t\\t\\t\\t\\t\\t\\t\\t\\t- GABINETE DO REITOR (11.00.01)', 'Unidade Destino': ''}\n",
            "{'Data Origem': '14/01/2022 10:29', 'Unidade Origem': 'GABINETE DO REITOR (11.00.01)', 'Unidade Destino': 'SECRETARIA DOS CONSELHOS/GABINETE (11.00.01.03)', 'Enviado Por': 'roberlaneaufpi', 'Recebido Em': '24/01/2022 10:01', 'Recebido Por': 'cardozzo'}\n",
            "{'Data Origem': '15/02/2022 - \\n\\t\\t\\t\\t\\t\\t\\t\\t\\t\\t\\t\\t Despacho Ordinatório  \\n\\t\\t\\t\\t\\t\\t\\t\\t\\t\\t\\t\\t \\n\\t\\t\\t\\t\\t\\t\\t\\t\\t\\t\\t\\t\\t- SECRETARIA DOS CONSELHOS/GABINETE (11.00.01.03)', 'Unidade Origem': '', 'Unidade Destino': '15/02/2022 - \\n\\t\\t\\t\\t\\t\\t\\t\\t\\t\\t\\t\\t Despacho Ordinatório  \\n\\t\\t\\t\\t\\t\\t\\t\\t\\t\\t\\t\\t \\n\\t\\t\\t\\t\\t\\t\\t\\t\\t\\t\\t\\t\\t- SECRETARIA DOS CONSELHOS/GABINETE (11.00.01.03)', 'Enviado Por': ''}\n",
            "{'Data Origem': '', 'Unidade Origem': '15/02/2022 - \\n\\t\\t\\t\\t\\t\\t\\t\\t\\t\\t\\t\\t Despacho Ordinatório  \\n\\t\\t\\t\\t\\t\\t\\t\\t\\t\\t\\t\\t \\n\\t\\t\\t\\t\\t\\t\\t\\t\\t\\t\\t\\t\\t- SECRETARIA DOS CONSELHOS/GABINETE (11.00.01.03)', 'Unidade Destino': ''}\n",
            "{'Data Origem': '15/02/2022 12:23', 'Unidade Origem': 'SECRETARIA DOS CONSELHOS/GABINETE (11.00.01.03)', 'Unidade Destino': 'GABINETE DO REITOR (11.00.01)', 'Enviado Por': 'l1630135', 'Recebido Em': '15/02/2022 12:27', 'Recebido Por': 'carminda'}\n",
            "{'Data Origem': '15/02/2022 - \\n\\t\\t\\t\\t\\t\\t\\t\\t\\t\\t\\t\\t Despacho Ordinatório  \\n\\t\\t\\t\\t\\t\\t\\t\\t\\t\\t\\t\\t \\n\\t\\t\\t\\t\\t\\t\\t\\t\\t\\t\\t\\t\\t- GABINETE DO REITOR (11.00.01)', 'Unidade Origem': '', 'Unidade Destino': '15/02/2022 - \\n\\t\\t\\t\\t\\t\\t\\t\\t\\t\\t\\t\\t Despacho Ordinatório  \\n\\t\\t\\t\\t\\t\\t\\t\\t\\t\\t\\t\\t \\n\\t\\t\\t\\t\\t\\t\\t\\t\\t\\t\\t\\t\\t- GABINETE DO REITOR (11.00.01)', 'Enviado Por': ''}\n",
            "{'Data Origem': '', 'Unidade Origem': '15/02/2022 - \\n\\t\\t\\t\\t\\t\\t\\t\\t\\t\\t\\t\\t Despacho Ordinatório  \\n\\t\\t\\t\\t\\t\\t\\t\\t\\t\\t\\t\\t \\n\\t\\t\\t\\t\\t\\t\\t\\t\\t\\t\\t\\t\\t- GABINETE DO REITOR (11.00.01)', 'Unidade Destino': ''}\n",
            "{'Data Origem': '15/02/2022 12:30', 'Unidade Origem': 'GABINETE DO REITOR (11.00.01)', 'Unidade Destino': 'PRO-REITORIA DE ENSINO DE POS-GRADUAÇAO (11.07)', 'Enviado Por': 'carminda', 'Recebido Em': '15/02/2022 23:07', 'Recebido Por': 'regilda'}\n",
            "{'Data Origem': '15/02/2022 - \\n\\t\\t\\t\\t\\t\\t\\t\\t\\t\\t\\t\\t Despacho Ordinatório  \\n\\t\\t\\t\\t\\t\\t\\t\\t\\t\\t\\t\\t \\n\\t\\t\\t\\t\\t\\t\\t\\t\\t\\t\\t\\t\\t- PRO-REITORIA DE ENSINO DE POS-GRADUAÇAO (11.07)', 'Unidade Origem': '', 'Unidade Destino': '15/02/2022 - \\n\\t\\t\\t\\t\\t\\t\\t\\t\\t\\t\\t\\t Despacho Ordinatório  \\n\\t\\t\\t\\t\\t\\t\\t\\t\\t\\t\\t\\t \\n\\t\\t\\t\\t\\t\\t\\t\\t\\t\\t\\t\\t\\t- PRO-REITORIA DE ENSINO DE POS-GRADUAÇAO (11.07)', 'Enviado Por': ''}\n",
            "{'Data Origem': '', 'Unidade Origem': '15/02/2022 - \\n\\t\\t\\t\\t\\t\\t\\t\\t\\t\\t\\t\\t Despacho Ordinatório  \\n\\t\\t\\t\\t\\t\\t\\t\\t\\t\\t\\t\\t \\n\\t\\t\\t\\t\\t\\t\\t\\t\\t\\t\\t\\t\\t- PRO-REITORIA DE ENSINO DE POS-GRADUAÇAO (11.07)', 'Unidade Destino': ''}\n",
            "{'Data Origem': '15/02/2022 23:11', 'Unidade Origem': 'PRO-REITORIA DE ENSINO DE POS-GRADUAÇAO (11.07)', 'Unidade Destino': 'COORDENADORIA DE PROGRAMAS STRICTO SENSU/PRPG (11.07.01)', 'Enviado Por': 'regilda', 'Recebido Em': '16/02/2022 00:19', 'Recebido Por': 'franciscohistoria'}\n",
            "{'Data Origem': '17/02/2022 - \\n\\t\\t\\t\\t\\t\\t\\t\\t\\t\\t\\t\\t Despacho Interlocutório  \\n\\t\\t\\t\\t\\t\\t\\t\\t\\t\\t\\t\\t \\n\\t\\t\\t\\t\\t\\t\\t\\t\\t\\t\\t\\t\\t- COORDENADORIA DE PROGRAMAS STRICTO SENSU/PRPG (11.07.01)', 'Unidade Origem': '', 'Unidade Destino': '17/02/2022 - \\n\\t\\t\\t\\t\\t\\t\\t\\t\\t\\t\\t\\t Despacho Interlocutório  \\n\\t\\t\\t\\t\\t\\t\\t\\t\\t\\t\\t\\t \\n\\t\\t\\t\\t\\t\\t\\t\\t\\t\\t\\t\\t\\t- COORDENADORIA DE PROGRAMAS STRICTO SENSU/PRPG (11.07.01)', 'Enviado Por': ''}\n",
            "{'Data Origem': '', 'Unidade Origem': '17/02/2022 - \\n\\t\\t\\t\\t\\t\\t\\t\\t\\t\\t\\t\\t Despacho Interlocutório  \\n\\t\\t\\t\\t\\t\\t\\t\\t\\t\\t\\t\\t \\n\\t\\t\\t\\t\\t\\t\\t\\t\\t\\t\\t\\t\\t- COORDENADORIA DE PROGRAMAS STRICTO SENSU/PRPG (11.07.01)', 'Unidade Destino': ''}\n",
            "{'Data Origem': '17/02/2022 12:27', 'Unidade Origem': 'COORDENADORIA DE PROGRAMAS STRICTO SENSU/PRPG (11.07.01)', 'Unidade Destino': 'SUPERINTENDÊNCIA DE RECURSOS HUMANOS (11.04)', 'Enviado Por': 'keilaemanuelle', 'Recebido Em': '17/02/2022 17:06', 'Recebido Por': 'matheussspindola'}\n",
            "{'Data Origem': '17/02/2022 - \\n\\t\\t\\t\\t\\t\\t\\t\\t\\t\\t\\t\\t Despacho Ordinatório  \\n\\t\\t\\t\\t\\t\\t\\t\\t\\t\\t\\t\\t \\n\\t\\t\\t\\t\\t\\t\\t\\t\\t\\t\\t\\t\\t- SUPERINTENDÊNCIA DE RECURSOS HUMANOS (11.04)', 'Unidade Origem': '', 'Unidade Destino': '17/02/2022 - \\n\\t\\t\\t\\t\\t\\t\\t\\t\\t\\t\\t\\t Despacho Ordinatório  \\n\\t\\t\\t\\t\\t\\t\\t\\t\\t\\t\\t\\t \\n\\t\\t\\t\\t\\t\\t\\t\\t\\t\\t\\t\\t\\t- SUPERINTENDÊNCIA DE RECURSOS HUMANOS (11.04)', 'Enviado Por': ''}\n",
            "{'Data Origem': '', 'Unidade Origem': '17/02/2022 - \\n\\t\\t\\t\\t\\t\\t\\t\\t\\t\\t\\t\\t Despacho Ordinatório  \\n\\t\\t\\t\\t\\t\\t\\t\\t\\t\\t\\t\\t \\n\\t\\t\\t\\t\\t\\t\\t\\t\\t\\t\\t\\t\\t- SUPERINTENDÊNCIA DE RECURSOS HUMANOS (11.04)', 'Unidade Destino': ''}\n",
            "{'Data Origem': '22/02/2022 12:02', 'Unidade Origem': 'SUPERINTENDÊNCIA DE RECURSOS HUMANOS (11.04)', 'Unidade Destino': 'COORDENAÇÃO DE ADMINISTRACAO DE PESSOAL/SRH (11.00.15.05.01)', 'Enviado Por': 'matheussspindola', 'Recebido Em': '22/02/2022 15:17', 'Recebido Por': 'dianajoao01'}\n",
            "{'Data Origem': '09/03/2022 - \\n\\t\\t\\t\\t\\t\\t\\t\\t\\t\\t\\t\\t Despacho Interlocutório  \\n\\t\\t\\t\\t\\t\\t\\t\\t\\t\\t\\t\\t \\n\\t\\t\\t\\t\\t\\t\\t\\t\\t\\t\\t\\t\\t- COORDENAÇÃO DE ADMINISTRACAO DE PESSOAL/SRH (11.00.15.05.01)', 'Unidade Origem': '', 'Unidade Destino': '09/03/2022 - \\n\\t\\t\\t\\t\\t\\t\\t\\t\\t\\t\\t\\t Despacho Interlocutório  \\n\\t\\t\\t\\t\\t\\t\\t\\t\\t\\t\\t\\t \\n\\t\\t\\t\\t\\t\\t\\t\\t\\t\\t\\t\\t\\t- COORDENAÇÃO DE ADMINISTRACAO DE PESSOAL/SRH (11.00.15.05.01)', 'Enviado Por': ''}\n",
            "{'Data Origem': '', 'Unidade Origem': '09/03/2022 - \\n\\t\\t\\t\\t\\t\\t\\t\\t\\t\\t\\t\\t Despacho Interlocutório  \\n\\t\\t\\t\\t\\t\\t\\t\\t\\t\\t\\t\\t \\n\\t\\t\\t\\t\\t\\t\\t\\t\\t\\t\\t\\t\\t- COORDENAÇÃO DE ADMINISTRACAO DE PESSOAL/SRH (11.00.15.05.01)', 'Unidade Destino': ''}\n",
            "{'Data Origem': '09/03/2022 16:57', 'Unidade Origem': 'COORDENAÇÃO DE ADMINISTRACAO DE PESSOAL/SRH (11.00.15.05.01)', 'Unidade Destino': 'COORDENAÇÃO DE DESENV. DE PESSOAS/SRH (11.00.15.05.02)', 'Enviado Por': 'hellenkellen', 'Recebido Em': '10/03/2022 15:45', 'Recebido Por': 'filipepaz'}\n",
            "{'Data Origem': '10/03/2022 - \\n\\t\\t\\t\\t\\t\\t\\t\\t\\t\\t\\t\\t Despacho Ordinatório  \\n\\t\\t\\t\\t\\t\\t\\t\\t\\t\\t\\t\\t \\n\\t\\t\\t\\t\\t\\t\\t\\t\\t\\t\\t\\t\\t- COORDENAÇÃO DE DESENV. DE PESSOAS/SRH (11.00.15.05.02)', 'Unidade Origem': '', 'Unidade Destino': '10/03/2022 - \\n\\t\\t\\t\\t\\t\\t\\t\\t\\t\\t\\t\\t Despacho Ordinatório  \\n\\t\\t\\t\\t\\t\\t\\t\\t\\t\\t\\t\\t \\n\\t\\t\\t\\t\\t\\t\\t\\t\\t\\t\\t\\t\\t- COORDENAÇÃO DE DESENV. DE PESSOAS/SRH (11.00.15.05.02)', 'Enviado Por': ''}\n",
            "{'Data Origem': '', 'Unidade Origem': '10/03/2022 - \\n\\t\\t\\t\\t\\t\\t\\t\\t\\t\\t\\t\\t Despacho Ordinatório  \\n\\t\\t\\t\\t\\t\\t\\t\\t\\t\\t\\t\\t \\n\\t\\t\\t\\t\\t\\t\\t\\t\\t\\t\\t\\t\\t- COORDENAÇÃO DE DESENV. DE PESSOAS/SRH (11.00.15.05.02)', 'Unidade Destino': ''}\n",
            "{'Data Origem': '10/03/2022 16:25', 'Unidade Origem': 'COORDENAÇÃO DE DESENV. DE PESSOAS/SRH (11.00.15.05.02)', 'Unidade Destino': 'SUPERINTENDÊNCIA DE RECURSOS HUMANOS (11.04)', 'Enviado Por': 'filipepaz', 'Recebido Em': '15/03/2022 16:41', 'Recebido Por': 'matheussspindola'}\n",
            "{'Data Origem': '22/03/2022 - \\n\\t\\t\\t\\t\\t\\t\\t\\t\\t\\t\\t\\t Despacho Interlocutório  \\n\\t\\t\\t\\t\\t\\t\\t\\t\\t\\t\\t\\t \\n\\t\\t\\t\\t\\t\\t\\t\\t\\t\\t\\t\\t\\t- SUPERINTENDÊNCIA DE RECURSOS HUMANOS (11.04)', 'Unidade Origem': '', 'Unidade Destino': '22/03/2022 - \\n\\t\\t\\t\\t\\t\\t\\t\\t\\t\\t\\t\\t Despacho Interlocutório  \\n\\t\\t\\t\\t\\t\\t\\t\\t\\t\\t\\t\\t \\n\\t\\t\\t\\t\\t\\t\\t\\t\\t\\t\\t\\t\\t- SUPERINTENDÊNCIA DE RECURSOS HUMANOS (11.04)', 'Enviado Por': ''}\n",
            "{'Data Origem': '', 'Unidade Origem': '22/03/2022 - \\n\\t\\t\\t\\t\\t\\t\\t\\t\\t\\t\\t\\t Despacho Interlocutório  \\n\\t\\t\\t\\t\\t\\t\\t\\t\\t\\t\\t\\t \\n\\t\\t\\t\\t\\t\\t\\t\\t\\t\\t\\t\\t\\t- SUPERINTENDÊNCIA DE RECURSOS HUMANOS (11.04)', 'Unidade Destino': ''}\n",
            "{'Data Origem': '23/03/2022 16:17', 'Unidade Origem': 'SUPERINTENDÊNCIA DE RECURSOS HUMANOS (11.04)', 'Unidade Destino': 'PRO-REITORIA DE ENSINO DE POS-GRADUAÇAO (11.07)', 'Enviado Por': 'matheussspindola', 'Recebido Em': '03/04/2022 22:34', 'Recebido Por': 'regilda'}\n",
            "{'Data Origem': '03/04/2022 - \\n\\t\\t\\t\\t\\t\\t\\t\\t\\t\\t\\t\\t Despacho Ordinatório  \\n\\t\\t\\t\\t\\t\\t\\t\\t\\t\\t\\t\\t \\n\\t\\t\\t\\t\\t\\t\\t\\t\\t\\t\\t\\t\\t- PRO-REITORIA DE ENSINO DE POS-GRADUAÇAO (11.07)', 'Unidade Origem': '', 'Unidade Destino': '03/04/2022 - \\n\\t\\t\\t\\t\\t\\t\\t\\t\\t\\t\\t\\t Despacho Ordinatório  \\n\\t\\t\\t\\t\\t\\t\\t\\t\\t\\t\\t\\t \\n\\t\\t\\t\\t\\t\\t\\t\\t\\t\\t\\t\\t\\t- PRO-REITORIA DE ENSINO DE POS-GRADUAÇAO (11.07)', 'Enviado Por': ''}\n",
            "{'Data Origem': '', 'Unidade Origem': '03/04/2022 - \\n\\t\\t\\t\\t\\t\\t\\t\\t\\t\\t\\t\\t Despacho Ordinatório  \\n\\t\\t\\t\\t\\t\\t\\t\\t\\t\\t\\t\\t \\n\\t\\t\\t\\t\\t\\t\\t\\t\\t\\t\\t\\t\\t- PRO-REITORIA DE ENSINO DE POS-GRADUAÇAO (11.07)', 'Unidade Destino': ''}\n",
            "{'Data Origem': '03/04/2022 22:41', 'Unidade Origem': 'PRO-REITORIA DE ENSINO DE POS-GRADUAÇAO (11.07)', 'Unidade Destino': 'COORDENADORIA DE PROGRAMAS STRICTO SENSU/PRPG (11.07.01)', 'Enviado Por': 'regilda', 'Recebido Em': '03/04/2022 23:00', 'Recebido Por': 'franciscohistoria'}\n",
            "{'Data Origem': '04/04/2022 - \\n\\t\\t\\t\\t\\t\\t\\t\\t\\t\\t\\t\\t Despacho Interlocutório  \\n\\t\\t\\t\\t\\t\\t\\t\\t\\t\\t\\t\\t \\n\\t\\t\\t\\t\\t\\t\\t\\t\\t\\t\\t\\t\\t- COORDENADORIA DE PROGRAMAS STRICTO SENSU/PRPG (11.07.01)', 'Unidade Origem': '', 'Unidade Destino': '04/04/2022 - \\n\\t\\t\\t\\t\\t\\t\\t\\t\\t\\t\\t\\t Despacho Interlocutório  \\n\\t\\t\\t\\t\\t\\t\\t\\t\\t\\t\\t\\t \\n\\t\\t\\t\\t\\t\\t\\t\\t\\t\\t\\t\\t\\t- COORDENADORIA DE PROGRAMAS STRICTO SENSU/PRPG (11.07.01)', 'Enviado Por': ''}\n",
            "{'Data Origem': '', 'Unidade Origem': '04/04/2022 - \\n\\t\\t\\t\\t\\t\\t\\t\\t\\t\\t\\t\\t Despacho Interlocutório  \\n\\t\\t\\t\\t\\t\\t\\t\\t\\t\\t\\t\\t \\n\\t\\t\\t\\t\\t\\t\\t\\t\\t\\t\\t\\t\\t- COORDENADORIA DE PROGRAMAS STRICTO SENSU/PRPG (11.07.01)', 'Unidade Destino': ''}\n",
            "{'Data Origem': '05/04/2022 10:46', 'Unidade Origem': 'COORDENADORIA DE PROGRAMAS STRICTO SENSU/PRPG (11.07.01)', 'Unidade Destino': 'PRO-REITORIA DE ENSINO DE POS-GRADUAÇAO (11.07)', 'Enviado Por': 'keilaemanuelle', 'Recebido Em': '10/04/2022 23:45', 'Recebido Por': 'regilda'}\n",
            "{'Data Origem': '10/04/2022 - \\n\\t\\t\\t\\t\\t\\t\\t\\t\\t\\t\\t\\t Despacho Ordinatório  \\n\\t\\t\\t\\t\\t\\t\\t\\t\\t\\t\\t\\t \\n\\t\\t\\t\\t\\t\\t\\t\\t\\t\\t\\t\\t\\t- PRO-REITORIA DE ENSINO DE POS-GRADUAÇAO (11.07)', 'Unidade Origem': '', 'Unidade Destino': '10/04/2022 - \\n\\t\\t\\t\\t\\t\\t\\t\\t\\t\\t\\t\\t Despacho Ordinatório  \\n\\t\\t\\t\\t\\t\\t\\t\\t\\t\\t\\t\\t \\n\\t\\t\\t\\t\\t\\t\\t\\t\\t\\t\\t\\t\\t- PRO-REITORIA DE ENSINO DE POS-GRADUAÇAO (11.07)', 'Enviado Por': ''}\n",
            "{'Data Origem': '', 'Unidade Origem': '10/04/2022 - \\n\\t\\t\\t\\t\\t\\t\\t\\t\\t\\t\\t\\t Despacho Ordinatório  \\n\\t\\t\\t\\t\\t\\t\\t\\t\\t\\t\\t\\t \\n\\t\\t\\t\\t\\t\\t\\t\\t\\t\\t\\t\\t\\t- PRO-REITORIA DE ENSINO DE POS-GRADUAÇAO (11.07)', 'Unidade Destino': ''}\n",
            "{'Data Origem': '10/04/2022 23:49', 'Unidade Origem': 'PRO-REITORIA DE ENSINO DE POS-GRADUAÇAO (11.07)', 'Unidade Destino': 'COMISSAO PERMANENTE DE PESSOAL DOCENTE (11.00.05)', 'Enviado Por': 'regilda', 'Recebido Em': '11/04/2022 09:25', 'Recebido Por': 'tarciso'}\n",
            "{'Data Origem': '12/04/2022 - \\n\\t\\t\\t\\t\\t\\t\\t\\t\\t\\t\\t\\t Despacho Decisório  \\n\\t\\t\\t\\t\\t\\t\\t\\t\\t\\t\\t\\t \\n\\t\\t\\t\\t\\t\\t\\t\\t\\t\\t\\t\\t\\t- COMISSAO PERMANENTE DE PESSOAL DOCENTE (11.00.05)', 'Unidade Origem': '', 'Unidade Destino': '12/04/2022 - \\n\\t\\t\\t\\t\\t\\t\\t\\t\\t\\t\\t\\t Despacho Decisório  \\n\\t\\t\\t\\t\\t\\t\\t\\t\\t\\t\\t\\t \\n\\t\\t\\t\\t\\t\\t\\t\\t\\t\\t\\t\\t\\t- COMISSAO PERMANENTE DE PESSOAL DOCENTE (11.00.05)', 'Enviado Por': ''}\n",
            "{'Data Origem': '', 'Unidade Origem': '12/04/2022 - \\n\\t\\t\\t\\t\\t\\t\\t\\t\\t\\t\\t\\t Despacho Decisório  \\n\\t\\t\\t\\t\\t\\t\\t\\t\\t\\t\\t\\t \\n\\t\\t\\t\\t\\t\\t\\t\\t\\t\\t\\t\\t\\t- COMISSAO PERMANENTE DE PESSOAL DOCENTE (11.00.05)', 'Unidade Destino': ''}\n",
            "{'Data Origem': '12/04/2022 14:19', 'Unidade Origem': 'COMISSAO PERMANENTE DE PESSOAL DOCENTE (11.00.05)', 'Unidade Destino': 'GABINETE DO REITOR (11.00.01)', 'Enviado Por': 'tarciso', 'Recebido Em': '12/04/2022 14:43', 'Recebido Por': 'roberlaneaufpi'}\n",
            "{'Data Origem': '13/04/2022 - \\n\\t\\t\\t\\t\\t\\t\\t\\t\\t\\t\\t\\t Despacho Ordinatório  \\n\\t\\t\\t\\t\\t\\t\\t\\t\\t\\t\\t\\t \\n\\t\\t\\t\\t\\t\\t\\t\\t\\t\\t\\t\\t\\t- GABINETE DO REITOR (11.00.01)', 'Unidade Origem': '', 'Unidade Destino': '13/04/2022 - \\n\\t\\t\\t\\t\\t\\t\\t\\t\\t\\t\\t\\t Despacho Ordinatório  \\n\\t\\t\\t\\t\\t\\t\\t\\t\\t\\t\\t\\t \\n\\t\\t\\t\\t\\t\\t\\t\\t\\t\\t\\t\\t\\t- GABINETE DO REITOR (11.00.01)', 'Enviado Por': ''}\n",
            "{'Data Origem': '', 'Unidade Origem': '13/04/2022 - \\n\\t\\t\\t\\t\\t\\t\\t\\t\\t\\t\\t\\t Despacho Ordinatório  \\n\\t\\t\\t\\t\\t\\t\\t\\t\\t\\t\\t\\t \\n\\t\\t\\t\\t\\t\\t\\t\\t\\t\\t\\t\\t\\t- GABINETE DO REITOR (11.00.01)', 'Unidade Destino': ''}\n",
            "{'Data Origem': '13/04/2022 14:50', 'Unidade Origem': 'GABINETE DO REITOR (11.00.01)', 'Unidade Destino': 'SECRETARIA ADMINISTRATIVA - REITORIA (11.00.01.04)', 'Enviado Por': 'wanessalive34', 'Recebido Em': '19/04/2022 09:13', 'Recebido Por': 'janio'}\n",
            "{'Data Origem': '20/04/2022 - \\n\\t\\t\\t\\t\\t\\t\\t\\t\\t\\t\\t\\t Despacho Interlocutório  \\n\\t\\t\\t\\t\\t\\t\\t\\t\\t\\t\\t\\t \\n\\t\\t\\t\\t\\t\\t\\t\\t\\t\\t\\t\\t\\t- SECRETARIA ADMINISTRATIVA - REITORIA (11.00.01.04)', 'Unidade Origem': '', 'Unidade Destino': '20/04/2022 - \\n\\t\\t\\t\\t\\t\\t\\t\\t\\t\\t\\t\\t Despacho Interlocutório  \\n\\t\\t\\t\\t\\t\\t\\t\\t\\t\\t\\t\\t \\n\\t\\t\\t\\t\\t\\t\\t\\t\\t\\t\\t\\t\\t- SECRETARIA ADMINISTRATIVA - REITORIA (11.00.01.04)', 'Enviado Por': ''}\n",
            "{'Data Origem': '', 'Unidade Origem': '20/04/2022 - \\n\\t\\t\\t\\t\\t\\t\\t\\t\\t\\t\\t\\t Despacho Interlocutório  \\n\\t\\t\\t\\t\\t\\t\\t\\t\\t\\t\\t\\t \\n\\t\\t\\t\\t\\t\\t\\t\\t\\t\\t\\t\\t\\t- SECRETARIA ADMINISTRATIVA - REITORIA (11.00.01.04)', 'Unidade Destino': ''}\n",
            "{'Data Origem': '20/04/2022 09:51', 'Unidade Origem': 'SECRETARIA ADMINISTRATIVA - REITORIA (11.00.01.04)', 'Unidade Destino': 'SUPERINTENDÊNCIA DE RECURSOS HUMANOS (11.04)', 'Enviado Por': 'janio', 'Recebido Em': '20/04/2022 16:48', 'Recebido Por': 'matheussspindola'}\n",
            "{'Data Origem': '20/04/2022 - \\n\\t\\t\\t\\t\\t\\t\\t\\t\\t\\t\\t\\t Despacho Interlocutório  \\n\\t\\t\\t\\t\\t\\t\\t\\t\\t\\t\\t\\t \\n\\t\\t\\t\\t\\t\\t\\t\\t\\t\\t\\t\\t\\t- SUPERINTENDÊNCIA DE RECURSOS HUMANOS (11.04)', 'Unidade Origem': '', 'Unidade Destino': '20/04/2022 - \\n\\t\\t\\t\\t\\t\\t\\t\\t\\t\\t\\t\\t Despacho Interlocutório  \\n\\t\\t\\t\\t\\t\\t\\t\\t\\t\\t\\t\\t \\n\\t\\t\\t\\t\\t\\t\\t\\t\\t\\t\\t\\t\\t- SUPERINTENDÊNCIA DE RECURSOS HUMANOS (11.04)', 'Enviado Por': ''}\n",
            "{'Data Origem': '', 'Unidade Origem': '20/04/2022 - \\n\\t\\t\\t\\t\\t\\t\\t\\t\\t\\t\\t\\t Despacho Interlocutório  \\n\\t\\t\\t\\t\\t\\t\\t\\t\\t\\t\\t\\t \\n\\t\\t\\t\\t\\t\\t\\t\\t\\t\\t\\t\\t\\t- SUPERINTENDÊNCIA DE RECURSOS HUMANOS (11.04)', 'Unidade Destino': ''}\n",
            "{'Data Origem': '20/04/2022 16:52', 'Unidade Origem': 'SUPERINTENDÊNCIA DE RECURSOS HUMANOS (11.04)', 'Unidade Destino': 'COORDENAÇÃO DE ADMINISTRACAO DE PESSOAL/SRH (11.00.15.05.01)', 'Enviado Por': 'matheussspindola', 'Recebido Em': '25/04/2022 08:50', 'Recebido Por': 'castrodaiana17'}\n",
            "{'Data Origem': '30/05/2022 - \\n\\t\\t\\t\\t\\t\\t\\t\\t\\t\\t\\t\\t Despacho Interlocutório  \\n\\t\\t\\t\\t\\t\\t\\t\\t\\t\\t\\t\\t \\n\\t\\t\\t\\t\\t\\t\\t\\t\\t\\t\\t\\t\\t- COORDENAÇÃO DE ADMINISTRACAO DE PESSOAL/SRH (11.00.15.05.01)', 'Unidade Origem': '', 'Unidade Destino': '30/05/2022 - \\n\\t\\t\\t\\t\\t\\t\\t\\t\\t\\t\\t\\t Despacho Interlocutório  \\n\\t\\t\\t\\t\\t\\t\\t\\t\\t\\t\\t\\t \\n\\t\\t\\t\\t\\t\\t\\t\\t\\t\\t\\t\\t\\t- COORDENAÇÃO DE ADMINISTRACAO DE PESSOAL/SRH (11.00.15.05.01)', 'Enviado Por': ''}\n",
            "{'Data Origem': '', 'Unidade Origem': '30/05/2022 - \\n\\t\\t\\t\\t\\t\\t\\t\\t\\t\\t\\t\\t Despacho Interlocutório  \\n\\t\\t\\t\\t\\t\\t\\t\\t\\t\\t\\t\\t \\n\\t\\t\\t\\t\\t\\t\\t\\t\\t\\t\\t\\t\\t- COORDENAÇÃO DE ADMINISTRACAO DE PESSOAL/SRH (11.00.15.05.01)', 'Unidade Destino': ''}\n",
            "{'Data Origem': '30/05/2022 10:35', 'Unidade Origem': 'COORDENAÇÃO DE ADMINISTRACAO DE PESSOAL/SRH (11.00.15.05.01)', 'Unidade Destino': 'DIVISÃO DE ARQUIVO E MICROFILMAGEM/PRAD (11.00.15.08.04)', 'Enviado Por': 'hellyne', 'Recebido Em': '30/05/2022 10:50', 'Recebido Por': 'joaobliborio'}\n"
          ]
        }
      ]
    }
  ]
}